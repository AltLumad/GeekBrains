{
 "cells": [
  {
   "cell_type": "markdown",
   "metadata": {},
   "source": [
    "### Тема “Аналитическая геометрия” и “Графики на плоскости”\n"
   ]
  },
  {
   "cell_type": "markdown",
   "metadata": {},
   "source": [
    "###### 1. Задание (на листочке)\n",
    "Решите уравнение    \n",
    "$\\frac{sin(x)}{x}=0$\n"
   ]
  },
  {
   "cell_type": "markdown",
   "metadata": {},
   "source": [
    "ОДЗ: x != 0;   \n",
    "$sin(x) = 0$   \n",
    "$x = arcsin(0) + \\pi*k,    k >= 1$     "
   ]
  },
  {
   "cell_type": "markdown",
   "metadata": {},
   "source": [
    "###### 2. Задание (на листочке)\n",
    "Даны три прямые: \n",
    "   - y=k1*x+b1\n",
    "   - y=k2*x+b2\n",
    "   - y=k3*x+b3.    \n",
    "   \n",
    "Как узнать, пересекаются они в одной точке или нет?\n"
   ]
  },
  {
   "cell_type": "markdown",
   "metadata": {},
   "source": [
    "Решить систему уравнений:   \n",
    " $\\begin{equation*}\n",
    " \\begin{cases}\n",
    "y - y1 = x(k1 - k2)\n",
    "\\\\\n",
    "y - y2 = x(k2 - k3)   \n",
    "\\\\\n",
    "y - y3 = x(k3 - k1)\n",
    " \\end{cases}\n",
    "\\end{equation*}$"
   ]
  },
  {
   "cell_type": "markdown",
   "metadata": {},
   "source": [
    "###### 3. Задание (в программе или на листочке)\n",
    "На листе тетради «в линейку» (расстояние между линиями равно а) лежит игла (длиной b). Координаты нижней точки иглы (х,у), игла лежит под углом alfa. Пересекает ли игла линию или нет?\n"
   ]
  },
  {
   "cell_type": "markdown",
   "metadata": {},
   "source": [
    "Игла пересекает линию если выволняется условие:   \n",
    "sin(alfa)*(b - y % a) > a"
   ]
  },
  {
   "cell_type": "markdown",
   "metadata": {},
   "source": [
    "###### 4. Задание** (задание делать по желанию)\n",
    "Решите аналитически и потом численно (в программе) уравнение, зависящее от параметра а:    \n",
    "$sin(а*x)=0$   \n",
    "при условии: $0.01<a<0.02, 100<х<500$   \n",
    "Т.е. надо найти решение х как функцию параметра а - построить график $x=x(а)$.\n",
    "Если численным методом не получается найти все ветви решения x(а), то отыщите хотя бы одну.\n",
    "\n"
   ]
  },
  {
   "cell_type": "markdown",
   "metadata": {},
   "source": [
    "$x = \\frac{2*\\pi*n + arcsin(0)}{a} = \\frac{2*\\pi*n}{a}$"
   ]
  },
  {
   "cell_type": "code",
   "execution_count": 37,
   "metadata": {},
   "outputs": [
    {
     "data": {
      "image/png": "[encoded data removed]",
      "text/plain": [
       "<Figure size 432x288 with 1 Axes>"
      ]
     },
     "metadata": {
      "needs_background": "light"
     },
     "output_type": "display_data"
    },
    {
     "data": {
      "image/png": "[encoded data removed]",
      "text/plain": [
       "<Figure size 432x432 with 1 Axes>"
      ]
     },
     "metadata": {
      "needs_background": "light"
     },
     "output_type": "display_data"
    }
   ],
   "source": [
    "import numpy as np\n",
    "import matplotlib.pyplot as plt\n",
    "import warnings\n",
    "warnings.filterwarnings('ignore')\n",
    "%matplotlib inline\n",
    "\n",
    "\n",
    "a = np.linspace(0.01, 0.02, 100)\n",
    "x = (np.pi / a)\n",
    "plt.plot(a, x) \n",
    "plt.figure(figsize=(6, 6)) \n",
    "plt.plot(x, np.sin(x*a)) \n",
    "plt.plot(x, x*0) \n",
    "plt.axis([150, 350,  -10**-15, 10**-15])\n",
    "\n",
    "plt.show()"
   ]
  },
  {
   "cell_type": "markdown",
   "metadata": {},
   "source": [
    "###### 17.6.2\n",
    "Найти угол $\\alpha$ между прямыми:   \n",
    "\n",
    "$4y - 3x + 12 = 0$   \n",
    "$7y + x - 14 = 0$"
   ]
  },
  {
   "cell_type": "markdown",
   "metadata": {},
   "source": [
    "$tg(\\alpha) = \\frac{A_2*B_1 - A_1*B_2}{A_1*A_2 + B_1*B_2} = \\frac{4 + 21}{-3 + 28} = 1$   \n",
    "$\\alpha = arctg(1) = \\frac{\\pi}{4}$"
   ]
  },
  {
   "cell_type": "markdown",
   "metadata": {},
   "source": [
    "###### 17.6.4\n",
    "Найти угол $\\alpha$ между прямыми:   \n",
    "\n",
    "$x = \\sqrt(2)$   \n",
    "$x = \\sqrt(2)$\n",
    "\n",
    "Прямые параллельны"
   ]
  },
  {
   "cell_type": "markdown",
   "metadata": {},
   "source": [
    "###### Выяснить тип кривых второго порядка, порожденных следующими уравнениями"
   ]
  },
  {
   "cell_type": "markdown",
   "metadata": {},
   "source": [
    "###### 17.6.5\n",
    "$y^2 - 2x - 2y - 5 = 0$   \n",
    "$y^2 - 2y + 1 - 2x= 4$   \n",
    "$(y - 1)^2 = 2x + 4$     \n",
    "Парабола"
   ]
  },
  {
   "cell_type": "markdown",
   "metadata": {},
   "source": [
    "###### 17.6.6\n",
    "$3x^2 + 5y^2 + 12x - 30y + 42 = 0$   \n",
    "$3x^2 + 12x + 12 + 5y^2 - 30y + 30 = 0$   \n",
    "$3(x + 2)^2 + 5(y^2 - 6y + 9 - 3) = 0$   \n",
    "$3(x + 2)^2 + 5(y^2 - 3) = 15$   \n",
    "$\\frac{(x + 2)^2}{5} + \\frac{(y - 3)^2}{3} = 1$   \n",
    "Эллипс\n"
   ]
  },
  {
   "cell_type": "markdown",
   "metadata": {},
   "source": [
    "###### 17.6.7\n",
    "\n",
    "$2x^2 - y^2 + 6y - 7 = 0$   \n",
    "$2x^2 - (y + 3)^2 - 16 = 0$   \n",
    "$\\frac{x^2}{8} - \\frac{(y + 3)^2}{16} = 1$   \n",
    "Гипербола\n"
   ]
  },
  {
   "cell_type": "markdown",
   "metadata": {},
   "source": [
    "###### 17.6.8\n",
    "$2x^2 - 3y^2 - 28x - 42y - 55 = 0$   \n",
    "$2x^2 - 28x + 98 - 3y^2 - 42y - 153 = 0$   \n",
    "$2(x-7)^2- 3(y^2 + 14y + 49 + 2) = 0$   \n",
    "$2(x-7)^2- 3(y + 7)^2 = 6$   \n",
    "$\\frac{(x - 7)^2}{3} + \\frac{(y + 7)^2}{2} = 1$   \n",
    "Эллипс"
   ]
  },
  {
   "cell_type": "markdown",
   "metadata": {},
   "source": []
  }
 ],
 "metadata": {
  "kernelspec": {
   "display_name": "Python 3",
   "language": "python",
   "name": "python3"
  },
  "language_info": {
   "codemirror_mode": {
    "name": "ipython",
    "version": 3
   },
   "file_extension": ".py",
   "mimetype": "text/x-python",
   "name": "python",
   "nbconvert_exporter": "python",
   "pygments_lexer": "ipython3",
   "version": "3.7.3"
  }
 },
 "nbformat": 4,
 "nbformat_minor": 2
}
