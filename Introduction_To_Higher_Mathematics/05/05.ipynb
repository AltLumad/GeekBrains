{
 "cells": [
  {
   "cell_type": "markdown",
   "metadata": {},
   "source": [
    "\n",
    "###### 1. Напишите код, моделирующий выпадение поля в рулетке (с учетом поля зеро).\n",
    "\n"
   ]
  },
  {
   "cell_type": "code",
   "execution_count": 1,
   "metadata": {},
   "outputs": [],
   "source": [
    "import numpy as np\n",
    "def roulette():\n",
    "    return np.random.randint(37)\n"
   ]
  },
  {
   "cell_type": "markdown",
   "metadata": {},
   "source": [
    "###### 2. \n",
    " - Напишите код, проверяющий любую из теорем сложения или умножения вероятности на примере рулетки или подбрасывания монетки.\n",
    " "
   ]
  },
  {
   "cell_type": "markdown",
   "metadata": {},
   "source": [
    "Не понятно задание. Формула выглядит так.   \n",
    "$P_i = \\frac{1}{37}$   \n",
    "$\\sum\\limits_{i=0}^{36}{P_i} = 1$   \n",
    "Запустим шарик рулетки 1000000. И посчитаем вероятнось выпадение каждого числа. После чего сложим. Должно получиться ~ 1"
   ]
  },
  {
   "cell_type": "code",
   "execution_count": 2,
   "metadata": {},
   "outputs": [
    {
     "data": {
      "text/plain": [
       "0.9999999999999999"
      ]
     },
     "execution_count": 2,
     "metadata": {},
     "output_type": "execute_result"
    }
   ],
   "source": [
    "d = { i:0 for i in range(37)}\n",
    "for _ in range(1000000):\n",
    "    d[roulette()] += 1\n",
    "lst = [float(d[i]) / 1000000 for i in range(37)]\n",
    "sum(lst)"
   ]
  },
  {
   "cell_type": "markdown",
   "metadata": {},
   "source": [
    "- Сгенерируйте десять выборок случайных чисел х0, …, х9. и постройте гистограмму распределения случайной суммы х0+х1+ …+ х9."
   ]
  },
  {
   "cell_type": "code",
   "execution_count": 3,
   "metadata": {},
   "outputs": [
    {
     "data": {
      "text/plain": [
       "(array([2., 1., 2., 1., 3., 0., 0., 0., 0., 1.]),\n",
       " array([-1.29299941,  0.03461548,  1.36223038,  2.68984528,  4.01746017,\n",
       "         5.34507507,  6.67268997,  8.00030486,  9.32791976, 10.65553465,\n",
       "        11.98314955]),\n",
       " <a list of 10 Patch objects>)"
      ]
     },
     "execution_count": 3,
     "metadata": {},
     "output_type": "execute_result"
    }
   ],
   "source": [
    "import matplotlib.pyplot as plt\n",
    "\n",
    "lst = []\n",
    "for _ in range(10):\n",
    "    tmp = [np.random.randn() for _ in range(10)]\n",
    "    lst.append(sum(tmp))\n",
    "plt.hist(lst)"
   ]
  },
  {
   "cell_type": "markdown",
   "metadata": {},
   "source": [
    "###### 3.\n",
    " - Дополните код Монте-Карло последовательности независимых испытаний расчетом соответствующих вероятностей (через биномиальное распределение) и сравните результаты.   \n"
   ]
  },
  {
   "cell_type": "code",
   "execution_count": 4,
   "metadata": {},
   "outputs": [
    {
     "name": "stdout",
     "output_type": "stream",
     "text": [
      "0.3842 0.5017\n"
     ]
    }
   ],
   "source": [
    "\n",
    "k,n = 0,10000\n",
    "a = np.random.randint(0,2,n)\n",
    "b = np.random.randint(0,2,n)\n",
    "c = np.random.randint(0,2,n)\n",
    "d = np.random.randint(0,2,n)\n",
    "x = a + b + c + d\n",
    "for i in range(n):\n",
    "    if x[i] == 2:\n",
    "        k += 1\n",
    "dist = np.random.binomial(n, 0.5)\n",
    "print(k/n,dist/n)\n"
   ]
  },
  {
   "cell_type": "markdown",
   "metadata": {},
   "source": [
    " - Повторите расчеты биномиальных коэффициентов и вероятностей k успехов в последовательности из n независимых испытаний, взяв другие значения n и k.\n"
   ]
  },
  {
   "cell_type": "code",
   "execution_count": 5,
   "metadata": {},
   "outputs": [
    {
     "name": "stdout",
     "output_type": "stream",
     "text": [
      "0.124986\n"
     ]
    }
   ],
   "source": [
    "n = 1_000_000\n",
    "d = np.random.binomial(n, 0.125)\n",
    "print(d/n)"
   ]
  },
  {
   "cell_type": "markdown",
   "metadata": {},
   "source": [
    "###### 4.    \n",
    "Из урока по комбинаторике повторите расчеты, сгенерировав возможные варианты перестановок для других значений n и k"
   ]
  },
  {
   "cell_type": "code",
   "execution_count": 6,
   "metadata": {},
   "outputs": [
    {
     "name": "stdout",
     "output_type": "stream",
     "text": [
      "000\n",
      "001\n",
      "010\n",
      "011\n",
      "100\n",
      "101\n",
      "110\n",
      "111\n"
     ]
    }
   ],
   "source": [
    "import itertools as its\n",
    "\n",
    "for p in its.product(\"01\", repeat=3):\n",
    "    print(''.join(p))"
   ]
  },
  {
   "cell_type": "code",
   "execution_count": 7,
   "metadata": {},
   "outputs": [
    {
     "name": "stdout",
     "output_type": "stream",
     "text": [
      "01\n",
      "02\n",
      "03\n",
      "04\n",
      "10\n",
      "12\n",
      "13\n",
      "14\n",
      "20\n",
      "21\n",
      "23\n",
      "24\n",
      "30\n",
      "31\n",
      "32\n",
      "34\n",
      "40\n",
      "41\n",
      "42\n",
      "43\n"
     ]
    }
   ],
   "source": [
    "for p in its.permutations(\"01234\", 2):\n",
    "    print(''.join(str(x) for x in p))"
   ]
  },
  {
   "cell_type": "code",
   "execution_count": 8,
   "metadata": {},
   "outputs": [
    {
     "name": "stdout",
     "output_type": "stream",
     "text": [
      "01234\n",
      "01235\n",
      "01245\n",
      "01345\n",
      "02345\n",
      "12345\n"
     ]
    }
   ],
   "source": [
    "for p in its.combinations(\"012345\", 5):\n",
    "    print(''.join(str(x) for x in p))"
   ]
  },
  {
   "cell_type": "markdown",
   "metadata": {},
   "source": [
    "###### 5.\n",
    "Дополните код расчетом коэффициента корреляции x и y по формуле   \n",
    "$R = \\frac{\\sum(x_i - x_m) \\cdot (y_i - y_m)}{\\sqrt{\\sum(x_i - x_m)^2 \\cdot \\sum(y_i - y_m)^2}}$"
   ]
  },
  {
   "cell_type": "code",
   "execution_count": 32,
   "metadata": {},
   "outputs": [
    {
     "data": {
      "image/png": "[encoded data removed]",
      "text/plain": [
       "<Figure size 432x288 with 1 Axes>"
      ]
     },
     "metadata": {
      "needs_background": "light"
     },
     "output_type": "display_data"
    },
    {
     "name": "stdout",
     "output_type": "stream",
     "text": [
      "R = 0.74007262\n"
     ]
    }
   ],
   "source": [
    "n = 50\n",
    "x = np.random.rand(n)\n",
    "y = 0.5 * x + 0.5 * np.random.rand(n)\n",
    "\n",
    "a = (np.sum(x) * np.sum(y) - n * np.sum(x * y)) / (np.sum(x) * np.sum(x) - n * np.sum(x**2))\n",
    "b = (np.sum(y) - a * np.sum(x)) / n\n",
    "\n",
    "plt.grid()\n",
    "plt.plot(x, y, 'o')\n",
    "plt.plot([0, 1], [0, 1], c='red')\n",
    "plt.show()\n",
    "\n",
    "c = np.corrcoef(x, y)\n",
    "\n",
    "x_avg = np.average(x)\n",
    "y_avg = np.average(y)\n",
    "tmp = np.sum((x - x_avg)**2) * np.sum((y - y_avg)**2)\n",
    "R =  np.sum((x - x_avg) * (y - y_avg)) / np.sqrt(tmp)\n",
    "print('R = {}'.format(round(R, 8)))"
   ]
  }
 ],
 "metadata": {
  "kernelspec": {
   "display_name": "Python 3",
   "language": "python",
   "name": "python3"
  },
  "language_info": {
   "codemirror_mode": {
    "name": "ipython",
    "version": 3
   },
   "file_extension": ".py",
   "mimetype": "text/x-python",
   "name": "python",
   "nbconvert_exporter": "python",
   "pygments_lexer": "ipython3",
   "version": "3.7.3"
  }
 },
 "nbformat": 4,
 "nbformat_minor": 2
}
