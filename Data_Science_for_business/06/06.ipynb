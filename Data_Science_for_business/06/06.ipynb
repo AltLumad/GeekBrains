{
 "cells": [
  {
   "cell_type": "markdown",
   "metadata": {},
   "source": [
    "### Урок 6. Кейс 2. Данные в страховом бизнесе. EDA\n"
   ]
  },
  {
   "cell_type": "code",
   "execution_count": 1,
   "metadata": {},
   "outputs": [
    {
     "data": {
      "text/html": [
       "        <script type=\"text/javascript\">\n",
       "        window.PlotlyConfig = {MathJaxConfig: 'local'};\n",
       "        if (window.MathJax) {MathJax.Hub.Config({SVG: {font: \"STIX-Web\"}});}\n",
       "        if (typeof require !== 'undefined') {\n",
       "        require.undef(\"plotly\");\n",
       "        requirejs.config({\n",
       "            paths: {\n",
       "                'plotly': ['https://cdn.plot.ly/plotly-latest.min']\n",
       "            }\n",
       "        });\n",
       "        require(['plotly'], function(Plotly) {\n",
       "            window._Plotly = Plotly;\n",
       "        });\n",
       "        }\n",
       "        </script>\n",
       "        "
      ]
     },
     "metadata": {},
     "output_type": "display_data"
    }
   ],
   "source": [
    "#Importing libraries\n",
    "import numpy as np # linear algebra\n",
    "import pandas as pd # data processing, CSV file I/O (e.g. pd.read_csv)\n",
    "# Input data files are available in the \"../input/\" directory.\n",
    "import os\n",
    "import matplotlib.pyplot as plt#visualization\n",
    "from PIL import  Image\n",
    "%matplotlib inline\n",
    "import pandas as pd\n",
    "import seaborn as sns#visualization\n",
    "import itertools\n",
    "import warnings\n",
    "warnings.filterwarnings(\"ignore\")\n",
    "import io\n",
    "import plotly.offline as py#visualization\n",
    "py.init_notebook_mode(connected=True)#visualization\n",
    "import plotly.graph_objs as go#visualization\n",
    "import plotly.tools as tls#visualization\n",
    "import plotly.figure_factory as ff#visualization"
   ]
  },
  {
   "cell_type": "markdown",
   "metadata": {},
   "source": [
    "__1. повторить анализ набора данных WA_Fn-UseC_-Telco-Customer-Churn.csv (желательно придумать какие-то дополнительные признаки)__\n"
   ]
  },
  {
   "cell_type": "code",
   "execution_count": 2,
   "metadata": {},
   "outputs": [
    {
     "data": {
      "text/html": [
       "<div>\n",
       "<style scoped>\n",
       "    .dataframe tbody tr th:only-of-type {\n",
       "        vertical-align: middle;\n",
       "    }\n",
       "\n",
       "    .dataframe tbody tr th {\n",
       "        vertical-align: top;\n",
       "    }\n",
       "\n",
       "    .dataframe thead th {\n",
       "        text-align: right;\n",
       "    }\n",
       "</style>\n",
       "<table border=\"1\" class=\"dataframe\">\n",
       "  <thead>\n",
       "    <tr style=\"text-align: right;\">\n",
       "      <th></th>\n",
       "      <th>customerID</th>\n",
       "      <th>gender</th>\n",
       "      <th>SeniorCitizen</th>\n",
       "      <th>Partner</th>\n",
       "      <th>Dependents</th>\n",
       "      <th>tenure</th>\n",
       "      <th>PhoneService</th>\n",
       "      <th>MultipleLines</th>\n",
       "      <th>InternetService</th>\n",
       "      <th>OnlineSecurity</th>\n",
       "      <th>...</th>\n",
       "      <th>DeviceProtection</th>\n",
       "      <th>TechSupport</th>\n",
       "      <th>StreamingTV</th>\n",
       "      <th>StreamingMovies</th>\n",
       "      <th>Contract</th>\n",
       "      <th>PaperlessBilling</th>\n",
       "      <th>PaymentMethod</th>\n",
       "      <th>MonthlyCharges</th>\n",
       "      <th>TotalCharges</th>\n",
       "      <th>Churn</th>\n",
       "    </tr>\n",
       "  </thead>\n",
       "  <tbody>\n",
       "    <tr>\n",
       "      <th>0</th>\n",
       "      <td>7590-VHVEG</td>\n",
       "      <td>Female</td>\n",
       "      <td>0</td>\n",
       "      <td>Yes</td>\n",
       "      <td>No</td>\n",
       "      <td>1</td>\n",
       "      <td>No</td>\n",
       "      <td>No phone service</td>\n",
       "      <td>DSL</td>\n",
       "      <td>No</td>\n",
       "      <td>...</td>\n",
       "      <td>No</td>\n",
       "      <td>No</td>\n",
       "      <td>No</td>\n",
       "      <td>No</td>\n",
       "      <td>Month-to-month</td>\n",
       "      <td>Yes</td>\n",
       "      <td>Electronic check</td>\n",
       "      <td>29.85</td>\n",
       "      <td>29.85</td>\n",
       "      <td>No</td>\n",
       "    </tr>\n",
       "    <tr>\n",
       "      <th>1</th>\n",
       "      <td>5575-GNVDE</td>\n",
       "      <td>Male</td>\n",
       "      <td>0</td>\n",
       "      <td>No</td>\n",
       "      <td>No</td>\n",
       "      <td>34</td>\n",
       "      <td>Yes</td>\n",
       "      <td>No</td>\n",
       "      <td>DSL</td>\n",
       "      <td>Yes</td>\n",
       "      <td>...</td>\n",
       "      <td>Yes</td>\n",
       "      <td>No</td>\n",
       "      <td>No</td>\n",
       "      <td>No</td>\n",
       "      <td>One year</td>\n",
       "      <td>No</td>\n",
       "      <td>Mailed check</td>\n",
       "      <td>56.95</td>\n",
       "      <td>1889.5</td>\n",
       "      <td>No</td>\n",
       "    </tr>\n",
       "    <tr>\n",
       "      <th>2</th>\n",
       "      <td>3668-QPYBK</td>\n",
       "      <td>Male</td>\n",
       "      <td>0</td>\n",
       "      <td>No</td>\n",
       "      <td>No</td>\n",
       "      <td>2</td>\n",
       "      <td>Yes</td>\n",
       "      <td>No</td>\n",
       "      <td>DSL</td>\n",
       "      <td>Yes</td>\n",
       "      <td>...</td>\n",
       "      <td>No</td>\n",
       "      <td>No</td>\n",
       "      <td>No</td>\n",
       "      <td>No</td>\n",
       "      <td>Month-to-month</td>\n",
       "      <td>Yes</td>\n",
       "      <td>Mailed check</td>\n",
       "      <td>53.85</td>\n",
       "      <td>108.15</td>\n",
       "      <td>Yes</td>\n",
       "    </tr>\n",
       "    <tr>\n",
       "      <th>3</th>\n",
       "      <td>7795-CFOCW</td>\n",
       "      <td>Male</td>\n",
       "      <td>0</td>\n",
       "      <td>No</td>\n",
       "      <td>No</td>\n",
       "      <td>45</td>\n",
       "      <td>No</td>\n",
       "      <td>No phone service</td>\n",
       "      <td>DSL</td>\n",
       "      <td>Yes</td>\n",
       "      <td>...</td>\n",
       "      <td>Yes</td>\n",
       "      <td>Yes</td>\n",
       "      <td>No</td>\n",
       "      <td>No</td>\n",
       "      <td>One year</td>\n",
       "      <td>No</td>\n",
       "      <td>Bank transfer (automatic)</td>\n",
       "      <td>42.30</td>\n",
       "      <td>1840.75</td>\n",
       "      <td>No</td>\n",
       "    </tr>\n",
       "    <tr>\n",
       "      <th>4</th>\n",
       "      <td>9237-HQITU</td>\n",
       "      <td>Female</td>\n",
       "      <td>0</td>\n",
       "      <td>No</td>\n",
       "      <td>No</td>\n",
       "      <td>2</td>\n",
       "      <td>Yes</td>\n",
       "      <td>No</td>\n",
       "      <td>Fiber optic</td>\n",
       "      <td>No</td>\n",
       "      <td>...</td>\n",
       "      <td>No</td>\n",
       "      <td>No</td>\n",
       "      <td>No</td>\n",
       "      <td>No</td>\n",
       "      <td>Month-to-month</td>\n",
       "      <td>Yes</td>\n",
       "      <td>Electronic check</td>\n",
       "      <td>70.70</td>\n",
       "      <td>151.65</td>\n",
       "      <td>Yes</td>\n",
       "    </tr>\n",
       "  </tbody>\n",
       "</table>\n",
       "<p>5 rows × 21 columns</p>\n",
       "</div>"
      ],
      "text/plain": [
       "   customerID  gender  SeniorCitizen Partner Dependents  tenure PhoneService  \\\n",
       "0  7590-VHVEG  Female              0     Yes         No       1           No   \n",
       "1  5575-GNVDE    Male              0      No         No      34          Yes   \n",
       "2  3668-QPYBK    Male              0      No         No       2          Yes   \n",
       "3  7795-CFOCW    Male              0      No         No      45           No   \n",
       "4  9237-HQITU  Female              0      No         No       2          Yes   \n",
       "\n",
       "      MultipleLines InternetService OnlineSecurity  ... DeviceProtection  \\\n",
       "0  No phone service             DSL             No  ...               No   \n",
       "1                No             DSL            Yes  ...              Yes   \n",
       "2                No             DSL            Yes  ...               No   \n",
       "3  No phone service             DSL            Yes  ...              Yes   \n",
       "4                No     Fiber optic             No  ...               No   \n",
       "\n",
       "  TechSupport StreamingTV StreamingMovies        Contract PaperlessBilling  \\\n",
       "0          No          No              No  Month-to-month              Yes   \n",
       "1          No          No              No        One year               No   \n",
       "2          No          No              No  Month-to-month              Yes   \n",
       "3         Yes          No              No        One year               No   \n",
       "4          No          No              No  Month-to-month              Yes   \n",
       "\n",
       "               PaymentMethod MonthlyCharges  TotalCharges Churn  \n",
       "0           Electronic check          29.85         29.85    No  \n",
       "1               Mailed check          56.95        1889.5    No  \n",
       "2               Mailed check          53.85        108.15   Yes  \n",
       "3  Bank transfer (automatic)          42.30       1840.75    No  \n",
       "4           Electronic check          70.70        151.65   Yes  \n",
       "\n",
       "[5 rows x 21 columns]"
      ]
     },
     "execution_count": 2,
     "metadata": {},
     "output_type": "execute_result"
    }
   ],
   "source": [
    "telcom = pd.read_csv(\"../lesson6/WA_Fn-UseC_-Telco-Customer-Churn.csv\")\n",
    "telcom.head()"
   ]
  },
  {
   "cell_type": "code",
   "execution_count": 3,
   "metadata": {},
   "outputs": [],
   "source": [
    "#Data Manipulation\n",
    "\n",
    "#Replacing spaces with null values in total charges column\n",
    "telcom['TotalCharges'] = telcom[\"TotalCharges\"].replace(\" \",np.nan)\n",
    "\n",
    "#Dropping null values from total charges column which contain .15% missing data \n",
    "telcom = telcom[telcom[\"TotalCharges\"].notnull()]\n",
    "telcom = telcom.reset_index()[telcom.columns]\n",
    "\n",
    "#convert to float type\n",
    "telcom[\"TotalCharges\"] = telcom[\"TotalCharges\"].astype(float)\n",
    "\n",
    "#replace 'No internet service' to No for the following columns\n",
    "replace_cols = [ 'OnlineSecurity', 'OnlineBackup', 'DeviceProtection',\n",
    "                'TechSupport','StreamingTV', 'StreamingMovies']\n",
    "for i in replace_cols : \n",
    "    telcom[i]  = telcom[i].replace({'No internet service' : 'No'})\n",
    "    \n",
    "#replace values\n",
    "telcom[\"SeniorCitizen\"] = telcom[\"SeniorCitizen\"].replace({1:\"Yes\",0:\"No\"})\n",
    "\n",
    "#Separating churn and non churn customers\n",
    "churn     = telcom[telcom[\"Churn\"] == \"Yes\"]\n",
    "not_churn = telcom[telcom[\"Churn\"] == \"No\"]\n",
    "\n",
    "#Separating catagorical and numerical columns\n",
    "Id_col     = ['customerID']\n",
    "target_col = [\"Churn\"]\n",
    "cat_cols   = telcom.nunique()[telcom.nunique() < 6].keys().tolist()\n",
    "cat_cols   = [x for x in cat_cols if x not in target_col]\n",
    "num_cols   = [x for x in telcom.columns if x not in cat_cols + target_col + Id_col]"
   ]
  },
  {
   "cell_type": "code",
   "execution_count": 4,
   "metadata": {},
   "outputs": [],
   "source": [
    "def CreateFeature(df, columns, grouped_feature,featurename):\n",
    "    return df.groupby(columns)[[grouped_feature]]\\\n",
    "                    .median().reset_index()\\\n",
    "                    .rename(columns={grouped_feature:featurename})\n",
    "\n",
    "def MergeFeature(df, columns, featurename, feature):\n",
    "    df = pd.merge(df, feature, on=columns, how='left')\n",
    "    df.loc[df[featurename].isnull(), featurename]\\\n",
    "        = df[featurename].median()    \n",
    "    return df\n",
    "\n",
    "def ExpandDataOnFeature(df, columns, grouped_feature, featurename ):\n",
    "    feature = CreateFeature(df,columns, grouped_feature, featurename)\n",
    "    df =  MergeFeature(df, columns, featurename, feature)\n",
    "    return df"
   ]
  },
  {
   "cell_type": "code",
   "execution_count": 5,
   "metadata": {},
   "outputs": [],
   "source": [
    "#Добавление новых признаков\n",
    "telcom = ExpandDataOnFeature(telcom,'tenure','TotalCharges', 'TotalCharges_tenure')\n",
    "telcom = ExpandDataOnFeature(telcom,'tenure','MonthlyCharges', 'MonthlyCharges_tenure')\n",
    "telcom['avg_month_charges'] = telcom['TotalCharges'] / telcom['MonthlyCharges']\n"
   ]
  },
  {
   "cell_type": "code",
   "execution_count": 6,
   "metadata": {},
   "outputs": [],
   "source": [
    "from sklearn.preprocessing import LabelEncoder\n",
    "from sklearn.preprocessing import StandardScaler\n",
    "\n",
    "#customer id col\n",
    "Id_col     = ['customerID']\n",
    "#Target columns\n",
    "target_col = [\"Churn\"]\n",
    "#categorical columns\n",
    "cat_cols   = telcom.nunique()[telcom.nunique() < 6].keys().tolist()\n",
    "cat_cols   = [x for x in cat_cols if x not in target_col]\n",
    "#numerical columns\n",
    "num_cols   = [x for x in telcom.columns if x not in cat_cols + target_col + Id_col]\n",
    "#Binary columns with 2 values\n",
    "bin_cols   = telcom.nunique()[telcom.nunique() == 2].keys().tolist()\n",
    "#Columns more than 2 values\n",
    "multi_cols = [i for i in cat_cols if i not in bin_cols]\n",
    "\n",
    "#Label encoding Binary columns\n",
    "le = LabelEncoder()\n",
    "for i in bin_cols :\n",
    "    telcom[i] = le.fit_transform(telcom[i])\n",
    "    \n",
    "#Duplicating columns for multi value columns\n",
    "telcom = pd.get_dummies(data = telcom,columns = multi_cols )\n",
    "\n",
    "#Scaling Numerical columns\n",
    "std = StandardScaler()\n",
    "scaled = std.fit_transform(telcom[num_cols])\n",
    "scaled = pd.DataFrame(scaled,columns=num_cols)\n",
    "\n",
    "#dropping original values merging scaled values for numerical columns\n",
    "df_telcom_og = telcom.copy()\n",
    "telcom = telcom.drop(columns = num_cols,axis = 1)\n",
    "telcom = telcom.merge(scaled,left_index=True,right_index=True,how = \"left\")"
   ]
  },
  {
   "cell_type": "code",
   "execution_count": 7,
   "metadata": {},
   "outputs": [
    {
     "data": {
      "application/vnd.plotly.v1+json": {
       "config": {
        "linkText": "Export to plot.ly",
        "plotlyServerURL": "https://plot.ly",
        "showLink": false
       },
       "data": [
        {
         "cells": {
          "fill": {
           "color": [
            "lightgrey",
            "#F5F8FF"
           ]
          },
          "line": {
           "color": [
            "#506784"
           ]
          },
          "values": [
           [
            "gender",
            "SeniorCitizen",
            "Partner",
            "Dependents",
            "tenure",
            "PhoneService",
            "OnlineSecurity",
            "OnlineBackup",
            "DeviceProtection",
            "TechSupport",
            "StreamingTV",
            "StreamingMovies",
            "PaperlessBilling",
            "MonthlyCharges",
            "TotalCharges",
            "Churn",
            "TotalCharges_tenure",
            "MonthlyCharges_tenure",
            "avg_month_charges",
            "MultipleLines_No",
            "MultipleLines_No phone service",
            "MultipleLines_Yes",
            "InternetService_DSL",
            "InternetService_Fiber optic",
            "InternetService_No",
            "Contract_Month-to-month",
            "Contract_One year",
            "Contract_Two year",
            "PaymentMethod_Bank transfer (automatic)",
            "PaymentMethod_Credit card (automatic)",
            "PaymentMethod_Electronic check",
            "PaymentMethod_Mailed check"
           ],
           [
            7032,
            7032,
            7032,
            7032,
            7032,
            7032,
            7032,
            7032,
            7032,
            7032,
            7032,
            7032,
            7032,
            7032,
            7032,
            7032,
            7032,
            7032,
            7032,
            7032,
            7032,
            7032,
            7032,
            7032,
            7032,
            7032,
            7032,
            7032,
            7032,
            7032,
            7032,
            7032
           ],
           [
            0.505,
            0.162,
            0.483,
            0.298,
            32.422,
            0.903,
            0.287,
            0.345,
            0.344,
            0.29,
            0.384,
            0.388,
            0.593,
            64.798,
            2283.3,
            0.266,
            2501.837,
            69.964,
            32.424,
            0.481,
            0.097,
            0.422,
            0.344,
            0.44,
            0.216,
            0.551,
            0.209,
            0.24,
            0.219,
            0.216,
            0.336,
            0.228
           ],
           [
            0.5,
            0.369,
            0.5,
            0.458,
            24.545,
            0.296,
            0.452,
            0.475,
            0.475,
            0.454,
            0.486,
            0.487,
            0.491,
            30.086,
            2266.771,
            0.442,
            2088.047,
            11.092,
            24.582,
            0.5,
            0.296,
            0.494,
            0.475,
            0.496,
            0.412,
            0.497,
            0.407,
            0.427,
            0.414,
            0.412,
            0.472,
            0.42
           ],
           [
            0,
            0,
            0,
            0,
            1,
            0,
            0,
            0,
            0,
            0,
            0,
            0,
            0,
            18.25,
            18.8,
            0,
            49.75,
            49.75,
            1,
            0,
            0,
            0,
            0,
            0,
            0,
            0,
            0,
            0,
            0,
            0,
            0,
            0
           ],
           [
            0,
            0,
            0,
            0,
            9,
            1,
            0,
            0,
            0,
            0,
            0,
            0,
            0,
            35.588,
            401.45,
            0,
            623.225,
            61.25,
            8.798,
            0,
            0,
            0,
            0,
            0,
            0,
            0,
            0,
            0,
            0,
            0,
            0,
            0
           ],
           [
            1,
            0,
            0,
            0,
            29,
            1,
            0,
            0,
            0,
            0,
            0,
            0,
            1,
            70.35,
            1397.475,
            0,
            1935.3,
            69.425,
            28.832,
            0,
            0,
            0,
            0,
            0,
            0,
            1,
            0,
            0,
            0,
            0,
            0,
            0
           ],
           [
            1,
            0,
            1,
            1,
            55,
            1,
            1,
            1,
            1,
            1,
            1,
            1,
            1,
            89.862,
            3794.738,
            1,
            4187.494,
            79.825,
            55.269,
            1,
            0,
            1,
            1,
            1,
            0,
            1,
            0,
            0,
            0,
            0,
            1,
            0
           ],
           [
            1,
            1,
            1,
            1,
            72,
            1,
            1,
            1,
            1,
            1,
            1,
            1,
            1,
            118.75,
            8684.8,
            1,
            6387.075,
            91.7,
            79.342,
            1,
            1,
            1,
            1,
            1,
            1,
            1,
            1,
            1,
            1,
            1,
            1,
            1
           ]
          ]
         },
         "columnwidth": [
          200,
          60,
          100,
          100,
          60,
          60,
          80,
          80,
          80
         ],
         "header": {
          "fill": {
           "color": [
            "#119DFF"
           ]
          },
          "line": {
           "color": [
            "#506784"
           ]
          },
          "values": [
           "feature",
           "count",
           "mean",
           "std",
           "min",
           "25%",
           "50%",
           "75%",
           "max"
          ]
         },
         "type": "table"
        }
       ],
       "layout": {
        "template": {
         "data": {
          "bar": [
           {
            "error_x": {
             "color": "#2a3f5f"
            },
            "error_y": {
             "color": "#2a3f5f"
            },
            "marker": {
             "line": {
              "color": "#E5ECF6",
              "width": 0.5
             }
            },
            "type": "bar"
           }
          ],
          "barpolar": [
           {
            "marker": {
             "line": {
              "color": "#E5ECF6",
              "width": 0.5
             }
            },
            "type": "barpolar"
           }
          ],
          "carpet": [
           {
            "aaxis": {
             "endlinecolor": "#2a3f5f",
             "gridcolor": "white",
             "linecolor": "white",
             "minorgridcolor": "white",
             "startlinecolor": "#2a3f5f"
            },
            "baxis": {
             "endlinecolor": "#2a3f5f",
             "gridcolor": "white",
             "linecolor": "white",
             "minorgridcolor": "white",
             "startlinecolor": "#2a3f5f"
            },
            "type": "carpet"
           }
          ],
          "choropleth": [
           {
            "colorbar": {
             "outlinewidth": 0,
             "ticks": ""
            },
            "type": "choropleth"
           }
          ],
          "contour": [
           {
            "colorbar": {
             "outlinewidth": 0,
             "ticks": ""
            },
            "colorscale": [
             [
              0,
              "#0d0887"
             ],
             [
              0.1111111111111111,
              "#46039f"
             ],
             [
              0.2222222222222222,
              "#7201a8"
             ],
             [
              0.3333333333333333,
              "#9c179e"
             ],
             [
              0.4444444444444444,
              "#bd3786"
             ],
             [
              0.5555555555555556,
              "#d8576b"
             ],
             [
              0.6666666666666666,
              "#ed7953"
             ],
             [
              0.7777777777777778,
              "#fb9f3a"
             ],
             [
              0.8888888888888888,
              "#fdca26"
             ],
             [
              1,
              "#f0f921"
             ]
            ],
            "type": "contour"
           }
          ],
          "contourcarpet": [
           {
            "colorbar": {
             "outlinewidth": 0,
             "ticks": ""
            },
            "type": "contourcarpet"
           }
          ],
          "heatmap": [
           {
            "colorbar": {
             "outlinewidth": 0,
             "ticks": ""
            },
            "colorscale": [
             [
              0,
              "#0d0887"
             ],
             [
              0.1111111111111111,
              "#46039f"
             ],
             [
              0.2222222222222222,
              "#7201a8"
             ],
             [
              0.3333333333333333,
              "#9c179e"
             ],
             [
              0.4444444444444444,
              "#bd3786"
             ],
             [
              0.5555555555555556,
              "#d8576b"
             ],
             [
              0.6666666666666666,
              "#ed7953"
             ],
             [
              0.7777777777777778,
              "#fb9f3a"
             ],
             [
              0.8888888888888888,
              "#fdca26"
             ],
             [
              1,
              "#f0f921"
             ]
            ],
            "type": "heatmap"
           }
          ],
          "heatmapgl": [
           {
            "colorbar": {
             "outlinewidth": 0,
             "ticks": ""
            },
            "colorscale": [
             [
              0,
              "#0d0887"
             ],
             [
              0.1111111111111111,
              "#46039f"
             ],
             [
              0.2222222222222222,
              "#7201a8"
             ],
             [
              0.3333333333333333,
              "#9c179e"
             ],
             [
              0.4444444444444444,
              "#bd3786"
             ],
             [
              0.5555555555555556,
              "#d8576b"
             ],
             [
              0.6666666666666666,
              "#ed7953"
             ],
             [
              0.7777777777777778,
              "#fb9f3a"
             ],
             [
              0.8888888888888888,
              "#fdca26"
             ],
             [
              1,
              "#f0f921"
             ]
            ],
            "type": "heatmapgl"
           }
          ],
          "histogram": [
           {
            "marker": {
             "colorbar": {
              "outlinewidth": 0,
              "ticks": ""
             }
            },
            "type": "histogram"
           }
          ],
          "histogram2d": [
           {
            "colorbar": {
             "outlinewidth": 0,
             "ticks": ""
            },
            "colorscale": [
             [
              0,
              "#0d0887"
             ],
             [
              0.1111111111111111,
              "#46039f"
             ],
             [
              0.2222222222222222,
              "#7201a8"
             ],
             [
              0.3333333333333333,
              "#9c179e"
             ],
             [
              0.4444444444444444,
              "#bd3786"
             ],
             [
              0.5555555555555556,
              "#d8576b"
             ],
             [
              0.6666666666666666,
              "#ed7953"
             ],
             [
              0.7777777777777778,
              "#fb9f3a"
             ],
             [
              0.8888888888888888,
              "#fdca26"
             ],
             [
              1,
              "#f0f921"
             ]
            ],
            "type": "histogram2d"
           }
          ],
          "histogram2dcontour": [
           {
            "colorbar": {
             "outlinewidth": 0,
             "ticks": ""
            },
            "colorscale": [
             [
              0,
              "#0d0887"
             ],
             [
              0.1111111111111111,
              "#46039f"
             ],
             [
              0.2222222222222222,
              "#7201a8"
             ],
             [
              0.3333333333333333,
              "#9c179e"
             ],
             [
              0.4444444444444444,
              "#bd3786"
             ],
             [
              0.5555555555555556,
              "#d8576b"
             ],
             [
              0.6666666666666666,
              "#ed7953"
             ],
             [
              0.7777777777777778,
              "#fb9f3a"
             ],
             [
              0.8888888888888888,
              "#fdca26"
             ],
             [
              1,
              "#f0f921"
             ]
            ],
            "type": "histogram2dcontour"
           }
          ],
          "mesh3d": [
           {
            "colorbar": {
             "outlinewidth": 0,
             "ticks": ""
            },
            "type": "mesh3d"
           }
          ],
          "parcoords": [
           {
            "line": {
             "colorbar": {
              "outlinewidth": 0,
              "ticks": ""
             }
            },
            "type": "parcoords"
           }
          ],
          "pie": [
           {
            "automargin": true,
            "type": "pie"
           }
          ],
          "scatter": [
           {
            "marker": {
             "colorbar": {
              "outlinewidth": 0,
              "ticks": ""
             }
            },
            "type": "scatter"
           }
          ],
          "scatter3d": [
           {
            "line": {
             "colorbar": {
              "outlinewidth": 0,
              "ticks": ""
             }
            },
            "marker": {
             "colorbar": {
              "outlinewidth": 0,
              "ticks": ""
             }
            },
            "type": "scatter3d"
           }
          ],
          "scattercarpet": [
           {
            "marker": {
             "colorbar": {
              "outlinewidth": 0,
              "ticks": ""
             }
            },
            "type": "scattercarpet"
           }
          ],
          "scattergeo": [
           {
            "marker": {
             "colorbar": {
              "outlinewidth": 0,
              "ticks": ""
             }
            },
            "type": "scattergeo"
           }
          ],
          "scattergl": [
           {
            "marker": {
             "colorbar": {
              "outlinewidth": 0,
              "ticks": ""
             }
            },
            "type": "scattergl"
           }
          ],
          "scattermapbox": [
           {
            "marker": {
             "colorbar": {
              "outlinewidth": 0,
              "ticks": ""
             }
            },
            "type": "scattermapbox"
           }
          ],
          "scatterpolar": [
           {
            "marker": {
             "colorbar": {
              "outlinewidth": 0,
              "ticks": ""
             }
            },
            "type": "scatterpolar"
           }
          ],
          "scatterpolargl": [
           {
            "marker": {
             "colorbar": {
              "outlinewidth": 0,
              "ticks": ""
             }
            },
            "type": "scatterpolargl"
           }
          ],
          "scatterternary": [
           {
            "marker": {
             "colorbar": {
              "outlinewidth": 0,
              "ticks": ""
             }
            },
            "type": "scatterternary"
           }
          ],
          "surface": [
           {
            "colorbar": {
             "outlinewidth": 0,
             "ticks": ""
            },
            "colorscale": [
             [
              0,
              "#0d0887"
             ],
             [
              0.1111111111111111,
              "#46039f"
             ],
             [
              0.2222222222222222,
              "#7201a8"
             ],
             [
              0.3333333333333333,
              "#9c179e"
             ],
             [
              0.4444444444444444,
              "#bd3786"
             ],
             [
              0.5555555555555556,
              "#d8576b"
             ],
             [
              0.6666666666666666,
              "#ed7953"
             ],
             [
              0.7777777777777778,
              "#fb9f3a"
             ],
             [
              0.8888888888888888,
              "#fdca26"
             ],
             [
              1,
              "#f0f921"
             ]
            ],
            "type": "surface"
           }
          ],
          "table": [
           {
            "cells": {
             "fill": {
              "color": "#EBF0F8"
             },
             "line": {
              "color": "white"
             }
            },
            "header": {
             "fill": {
              "color": "#C8D4E3"
             },
             "line": {
              "color": "white"
             }
            },
            "type": "table"
           }
          ]
         },
         "layout": {
          "annotationdefaults": {
           "arrowcolor": "#2a3f5f",
           "arrowhead": 0,
           "arrowwidth": 1
          },
          "coloraxis": {
           "colorbar": {
            "outlinewidth": 0,
            "ticks": ""
           }
          },
          "colorscale": {
           "diverging": [
            [
             0,
             "#8e0152"
            ],
            [
             0.1,
             "#c51b7d"
            ],
            [
             0.2,
             "#de77ae"
            ],
            [
             0.3,
             "#f1b6da"
            ],
            [
             0.4,
             "#fde0ef"
            ],
            [
             0.5,
             "#f7f7f7"
            ],
            [
             0.6,
             "#e6f5d0"
            ],
            [
             0.7,
             "#b8e186"
            ],
            [
             0.8,
             "#7fbc41"
            ],
            [
             0.9,
             "#4d9221"
            ],
            [
             1,
             "#276419"
            ]
           ],
           "sequential": [
            [
             0,
             "#0d0887"
            ],
            [
             0.1111111111111111,
             "#46039f"
            ],
            [
             0.2222222222222222,
             "#7201a8"
            ],
            [
             0.3333333333333333,
             "#9c179e"
            ],
            [
             0.4444444444444444,
             "#bd3786"
            ],
            [
             0.5555555555555556,
             "#d8576b"
            ],
            [
             0.6666666666666666,
             "#ed7953"
            ],
            [
             0.7777777777777778,
             "#fb9f3a"
            ],
            [
             0.8888888888888888,
             "#fdca26"
            ],
            [
             1,
             "#f0f921"
            ]
           ],
           "sequentialminus": [
            [
             0,
             "#0d0887"
            ],
            [
             0.1111111111111111,
             "#46039f"
            ],
            [
             0.2222222222222222,
             "#7201a8"
            ],
            [
             0.3333333333333333,
             "#9c179e"
            ],
            [
             0.4444444444444444,
             "#bd3786"
            ],
            [
             0.5555555555555556,
             "#d8576b"
            ],
            [
             0.6666666666666666,
             "#ed7953"
            ],
            [
             0.7777777777777778,
             "#fb9f3a"
            ],
            [
             0.8888888888888888,
             "#fdca26"
            ],
            [
             1,
             "#f0f921"
            ]
           ]
          },
          "colorway": [
           "#636efa",
           "#EF553B",
           "#00cc96",
           "#ab63fa",
           "#FFA15A",
           "#19d3f3",
           "#FF6692",
           "#B6E880",
           "#FF97FF",
           "#FECB52"
          ],
          "font": {
           "color": "#2a3f5f"
          },
          "geo": {
           "bgcolor": "white",
           "lakecolor": "white",
           "landcolor": "#E5ECF6",
           "showlakes": true,
           "showland": true,
           "subunitcolor": "white"
          },
          "hoverlabel": {
           "align": "left"
          },
          "hovermode": "closest",
          "mapbox": {
           "style": "light"
          },
          "paper_bgcolor": "white",
          "plot_bgcolor": "#E5ECF6",
          "polar": {
           "angularaxis": {
            "gridcolor": "white",
            "linecolor": "white",
            "ticks": ""
           },
           "bgcolor": "#E5ECF6",
           "radialaxis": {
            "gridcolor": "white",
            "linecolor": "white",
            "ticks": ""
           }
          },
          "scene": {
           "xaxis": {
            "backgroundcolor": "#E5ECF6",
            "gridcolor": "white",
            "gridwidth": 2,
            "linecolor": "white",
            "showbackground": true,
            "ticks": "",
            "zerolinecolor": "white"
           },
           "yaxis": {
            "backgroundcolor": "#E5ECF6",
            "gridcolor": "white",
            "gridwidth": 2,
            "linecolor": "white",
            "showbackground": true,
            "ticks": "",
            "zerolinecolor": "white"
           },
           "zaxis": {
            "backgroundcolor": "#E5ECF6",
            "gridcolor": "white",
            "gridwidth": 2,
            "linecolor": "white",
            "showbackground": true,
            "ticks": "",
            "zerolinecolor": "white"
           }
          },
          "shapedefaults": {
           "line": {
            "color": "#2a3f5f"
           }
          },
          "ternary": {
           "aaxis": {
            "gridcolor": "white",
            "linecolor": "white",
            "ticks": ""
           },
           "baxis": {
            "gridcolor": "white",
            "linecolor": "white",
            "ticks": ""
           },
           "bgcolor": "#E5ECF6",
           "caxis": {
            "gridcolor": "white",
            "linecolor": "white",
            "ticks": ""
           }
          },
          "title": {
           "x": 0.05
          },
          "xaxis": {
           "automargin": true,
           "gridcolor": "white",
           "linecolor": "white",
           "ticks": "",
           "title": {
            "standoff": 15
           },
           "zerolinecolor": "white",
           "zerolinewidth": 2
          },
          "yaxis": {
           "automargin": true,
           "gridcolor": "white",
           "linecolor": "white",
           "ticks": "",
           "title": {
            "standoff": 15
           },
           "zerolinecolor": "white",
           "zerolinewidth": 2
          }
         }
        },
        "title": {
         "text": "Variable Summary"
        }
       }
      },
      "text/html": [
       "<div>\n",
       "        \n",
       "        \n",
       "            <div id=\"c448a7c4-77a1-443b-be39-850c046daa11\" class=\"plotly-graph-div\" style=\"height:525px; width:100%;\"></div>\n",
       "            <script type=\"text/javascript\">\n",
       "                require([\"plotly\"], function(Plotly) {\n",
       "                    window.PLOTLYENV=window.PLOTLYENV || {};\n",
       "                    \n",
       "                if (document.getElementById(\"c448a7c4-77a1-443b-be39-850c046daa11\")) {\n",
       "                    Plotly.newPlot(\n",
       "                        'c448a7c4-77a1-443b-be39-850c046daa11',\n",
       "                        [{\"cells\": {\"fill\": {\"color\": [\"lightgrey\", \"#F5F8FF\"]}, \"line\": {\"color\": [\"#506784\"]}, \"values\": [[\"gender\", \"SeniorCitizen\", \"Partner\", \"Dependents\", \"tenure\", \"PhoneService\", \"OnlineSecurity\", \"OnlineBackup\", \"DeviceProtection\", \"TechSupport\", \"StreamingTV\", \"StreamingMovies\", \"PaperlessBilling\", \"MonthlyCharges\", \"TotalCharges\", \"Churn\", \"TotalCharges_tenure\", \"MonthlyCharges_tenure\", \"avg_month_charges\", \"MultipleLines_No\", \"MultipleLines_No phone service\", \"MultipleLines_Yes\", \"InternetService_DSL\", \"InternetService_Fiber optic\", \"InternetService_No\", \"Contract_Month-to-month\", \"Contract_One year\", \"Contract_Two year\", \"PaymentMethod_Bank transfer (automatic)\", \"PaymentMethod_Credit card (automatic)\", \"PaymentMethod_Electronic check\", \"PaymentMethod_Mailed check\"], [7032.0, 7032.0, 7032.0, 7032.0, 7032.0, 7032.0, 7032.0, 7032.0, 7032.0, 7032.0, 7032.0, 7032.0, 7032.0, 7032.0, 7032.0, 7032.0, 7032.0, 7032.0, 7032.0, 7032.0, 7032.0, 7032.0, 7032.0, 7032.0, 7032.0, 7032.0, 7032.0, 7032.0, 7032.0, 7032.0, 7032.0, 7032.0], [0.505, 0.162, 0.483, 0.298, 32.422, 0.903, 0.287, 0.345, 0.344, 0.29, 0.384, 0.388, 0.593, 64.798, 2283.3, 0.266, 2501.837, 69.964, 32.424, 0.481, 0.097, 0.422, 0.344, 0.44, 0.216, 0.551, 0.209, 0.24, 0.219, 0.216, 0.336, 0.228], [0.5, 0.369, 0.5, 0.458, 24.545, 0.296, 0.452, 0.475, 0.475, 0.454, 0.486, 0.487, 0.491, 30.086, 2266.771, 0.442, 2088.047, 11.092, 24.582, 0.5, 0.296, 0.494, 0.475, 0.496, 0.412, 0.497, 0.407, 0.427, 0.414, 0.412, 0.472, 0.42], [0.0, 0.0, 0.0, 0.0, 1.0, 0.0, 0.0, 0.0, 0.0, 0.0, 0.0, 0.0, 0.0, 18.25, 18.8, 0.0, 49.75, 49.75, 1.0, 0.0, 0.0, 0.0, 0.0, 0.0, 0.0, 0.0, 0.0, 0.0, 0.0, 0.0, 0.0, 0.0], [0.0, 0.0, 0.0, 0.0, 9.0, 1.0, 0.0, 0.0, 0.0, 0.0, 0.0, 0.0, 0.0, 35.588, 401.45, 0.0, 623.225, 61.25, 8.798, 0.0, 0.0, 0.0, 0.0, 0.0, 0.0, 0.0, 0.0, 0.0, 0.0, 0.0, 0.0, 0.0], [1.0, 0.0, 0.0, 0.0, 29.0, 1.0, 0.0, 0.0, 0.0, 0.0, 0.0, 0.0, 1.0, 70.35, 1397.475, 0.0, 1935.3, 69.425, 28.832, 0.0, 0.0, 0.0, 0.0, 0.0, 0.0, 1.0, 0.0, 0.0, 0.0, 0.0, 0.0, 0.0], [1.0, 0.0, 1.0, 1.0, 55.0, 1.0, 1.0, 1.0, 1.0, 1.0, 1.0, 1.0, 1.0, 89.862, 3794.738, 1.0, 4187.494, 79.825, 55.269, 1.0, 0.0, 1.0, 1.0, 1.0, 0.0, 1.0, 0.0, 0.0, 0.0, 0.0, 1.0, 0.0], [1.0, 1.0, 1.0, 1.0, 72.0, 1.0, 1.0, 1.0, 1.0, 1.0, 1.0, 1.0, 1.0, 118.75, 8684.8, 1.0, 6387.075, 91.7, 79.342, 1.0, 1.0, 1.0, 1.0, 1.0, 1.0, 1.0, 1.0, 1.0, 1.0, 1.0, 1.0, 1.0]]}, \"columnwidth\": [200, 60, 100, 100, 60, 60, 80, 80, 80], \"header\": {\"fill\": {\"color\": [\"#119DFF\"]}, \"line\": {\"color\": [\"#506784\"]}, \"values\": [\"feature\", \"count\", \"mean\", \"std\", \"min\", \"25%\", \"50%\", \"75%\", \"max\"]}, \"type\": \"table\"}],\n",
       "                        {\"template\": {\"data\": {\"bar\": [{\"error_x\": {\"color\": \"#2a3f5f\"}, \"error_y\": {\"color\": \"#2a3f5f\"}, \"marker\": {\"line\": {\"color\": \"#E5ECF6\", \"width\": 0.5}}, \"type\": \"bar\"}], \"barpolar\": [{\"marker\": {\"line\": {\"color\": \"#E5ECF6\", \"width\": 0.5}}, \"type\": \"barpolar\"}], \"carpet\": [{\"aaxis\": {\"endlinecolor\": \"#2a3f5f\", \"gridcolor\": \"white\", \"linecolor\": \"white\", \"minorgridcolor\": \"white\", \"startlinecolor\": \"#2a3f5f\"}, \"baxis\": {\"endlinecolor\": \"#2a3f5f\", \"gridcolor\": \"white\", \"linecolor\": \"white\", \"minorgridcolor\": \"white\", \"startlinecolor\": \"#2a3f5f\"}, \"type\": \"carpet\"}], \"choropleth\": [{\"colorbar\": {\"outlinewidth\": 0, \"ticks\": \"\"}, \"type\": \"choropleth\"}], \"contour\": [{\"colorbar\": {\"outlinewidth\": 0, \"ticks\": \"\"}, \"colorscale\": [[0.0, \"#0d0887\"], [0.1111111111111111, \"#46039f\"], [0.2222222222222222, \"#7201a8\"], [0.3333333333333333, \"#9c179e\"], [0.4444444444444444, \"#bd3786\"], [0.5555555555555556, \"#d8576b\"], [0.6666666666666666, \"#ed7953\"], [0.7777777777777778, \"#fb9f3a\"], [0.8888888888888888, \"#fdca26\"], [1.0, \"#f0f921\"]], \"type\": \"contour\"}], \"contourcarpet\": [{\"colorbar\": {\"outlinewidth\": 0, \"ticks\": \"\"}, \"type\": \"contourcarpet\"}], \"heatmap\": [{\"colorbar\": {\"outlinewidth\": 0, \"ticks\": \"\"}, \"colorscale\": [[0.0, \"#0d0887\"], [0.1111111111111111, \"#46039f\"], [0.2222222222222222, \"#7201a8\"], [0.3333333333333333, \"#9c179e\"], [0.4444444444444444, \"#bd3786\"], [0.5555555555555556, \"#d8576b\"], [0.6666666666666666, \"#ed7953\"], [0.7777777777777778, \"#fb9f3a\"], [0.8888888888888888, \"#fdca26\"], [1.0, \"#f0f921\"]], \"type\": \"heatmap\"}], \"heatmapgl\": [{\"colorbar\": {\"outlinewidth\": 0, \"ticks\": \"\"}, \"colorscale\": [[0.0, \"#0d0887\"], [0.1111111111111111, \"#46039f\"], [0.2222222222222222, \"#7201a8\"], [0.3333333333333333, \"#9c179e\"], [0.4444444444444444, \"#bd3786\"], [0.5555555555555556, \"#d8576b\"], [0.6666666666666666, \"#ed7953\"], [0.7777777777777778, \"#fb9f3a\"], [0.8888888888888888, \"#fdca26\"], [1.0, \"#f0f921\"]], \"type\": \"heatmapgl\"}], \"histogram\": [{\"marker\": {\"colorbar\": {\"outlinewidth\": 0, \"ticks\": \"\"}}, \"type\": \"histogram\"}], \"histogram2d\": [{\"colorbar\": {\"outlinewidth\": 0, \"ticks\": \"\"}, \"colorscale\": [[0.0, \"#0d0887\"], [0.1111111111111111, \"#46039f\"], [0.2222222222222222, \"#7201a8\"], [0.3333333333333333, \"#9c179e\"], [0.4444444444444444, \"#bd3786\"], [0.5555555555555556, \"#d8576b\"], [0.6666666666666666, \"#ed7953\"], [0.7777777777777778, \"#fb9f3a\"], [0.8888888888888888, \"#fdca26\"], [1.0, \"#f0f921\"]], \"type\": \"histogram2d\"}], \"histogram2dcontour\": [{\"colorbar\": {\"outlinewidth\": 0, \"ticks\": \"\"}, \"colorscale\": [[0.0, \"#0d0887\"], [0.1111111111111111, \"#46039f\"], [0.2222222222222222, \"#7201a8\"], [0.3333333333333333, \"#9c179e\"], [0.4444444444444444, \"#bd3786\"], [0.5555555555555556, \"#d8576b\"], [0.6666666666666666, \"#ed7953\"], [0.7777777777777778, \"#fb9f3a\"], [0.8888888888888888, \"#fdca26\"], [1.0, \"#f0f921\"]], \"type\": \"histogram2dcontour\"}], \"mesh3d\": [{\"colorbar\": {\"outlinewidth\": 0, \"ticks\": \"\"}, \"type\": \"mesh3d\"}], \"parcoords\": [{\"line\": {\"colorbar\": {\"outlinewidth\": 0, \"ticks\": \"\"}}, \"type\": \"parcoords\"}], \"pie\": [{\"automargin\": true, \"type\": \"pie\"}], \"scatter\": [{\"marker\": {\"colorbar\": {\"outlinewidth\": 0, \"ticks\": \"\"}}, \"type\": \"scatter\"}], \"scatter3d\": [{\"line\": {\"colorbar\": {\"outlinewidth\": 0, \"ticks\": \"\"}}, \"marker\": {\"colorbar\": {\"outlinewidth\": 0, \"ticks\": \"\"}}, \"type\": \"scatter3d\"}], \"scattercarpet\": [{\"marker\": {\"colorbar\": {\"outlinewidth\": 0, \"ticks\": \"\"}}, \"type\": \"scattercarpet\"}], \"scattergeo\": [{\"marker\": {\"colorbar\": {\"outlinewidth\": 0, \"ticks\": \"\"}}, \"type\": \"scattergeo\"}], \"scattergl\": [{\"marker\": {\"colorbar\": {\"outlinewidth\": 0, \"ticks\": \"\"}}, \"type\": \"scattergl\"}], \"scattermapbox\": [{\"marker\": {\"colorbar\": {\"outlinewidth\": 0, \"ticks\": \"\"}}, \"type\": \"scattermapbox\"}], \"scatterpolar\": [{\"marker\": {\"colorbar\": {\"outlinewidth\": 0, \"ticks\": \"\"}}, \"type\": \"scatterpolar\"}], \"scatterpolargl\": [{\"marker\": {\"colorbar\": {\"outlinewidth\": 0, \"ticks\": \"\"}}, \"type\": \"scatterpolargl\"}], \"scatterternary\": [{\"marker\": {\"colorbar\": {\"outlinewidth\": 0, \"ticks\": \"\"}}, \"type\": \"scatterternary\"}], \"surface\": [{\"colorbar\": {\"outlinewidth\": 0, \"ticks\": \"\"}, \"colorscale\": [[0.0, \"#0d0887\"], [0.1111111111111111, \"#46039f\"], [0.2222222222222222, \"#7201a8\"], [0.3333333333333333, \"#9c179e\"], [0.4444444444444444, \"#bd3786\"], [0.5555555555555556, \"#d8576b\"], [0.6666666666666666, \"#ed7953\"], [0.7777777777777778, \"#fb9f3a\"], [0.8888888888888888, \"#fdca26\"], [1.0, \"#f0f921\"]], \"type\": \"surface\"}], \"table\": [{\"cells\": {\"fill\": {\"color\": \"#EBF0F8\"}, \"line\": {\"color\": \"white\"}}, \"header\": {\"fill\": {\"color\": \"#C8D4E3\"}, \"line\": {\"color\": \"white\"}}, \"type\": \"table\"}]}, \"layout\": {\"annotationdefaults\": {\"arrowcolor\": \"#2a3f5f\", \"arrowhead\": 0, \"arrowwidth\": 1}, \"coloraxis\": {\"colorbar\": {\"outlinewidth\": 0, \"ticks\": \"\"}}, \"colorscale\": {\"diverging\": [[0, \"#8e0152\"], [0.1, \"#c51b7d\"], [0.2, \"#de77ae\"], [0.3, \"#f1b6da\"], [0.4, \"#fde0ef\"], [0.5, \"#f7f7f7\"], [0.6, \"#e6f5d0\"], [0.7, \"#b8e186\"], [0.8, \"#7fbc41\"], [0.9, \"#4d9221\"], [1, \"#276419\"]], \"sequential\": [[0.0, \"#0d0887\"], [0.1111111111111111, \"#46039f\"], [0.2222222222222222, \"#7201a8\"], [0.3333333333333333, \"#9c179e\"], [0.4444444444444444, \"#bd3786\"], [0.5555555555555556, \"#d8576b\"], [0.6666666666666666, \"#ed7953\"], [0.7777777777777778, \"#fb9f3a\"], [0.8888888888888888, \"#fdca26\"], [1.0, \"#f0f921\"]], \"sequentialminus\": [[0.0, \"#0d0887\"], [0.1111111111111111, \"#46039f\"], [0.2222222222222222, \"#7201a8\"], [0.3333333333333333, \"#9c179e\"], [0.4444444444444444, \"#bd3786\"], [0.5555555555555556, \"#d8576b\"], [0.6666666666666666, \"#ed7953\"], [0.7777777777777778, \"#fb9f3a\"], [0.8888888888888888, \"#fdca26\"], [1.0, \"#f0f921\"]]}, \"colorway\": [\"#636efa\", \"#EF553B\", \"#00cc96\", \"#ab63fa\", \"#FFA15A\", \"#19d3f3\", \"#FF6692\", \"#B6E880\", \"#FF97FF\", \"#FECB52\"], \"font\": {\"color\": \"#2a3f5f\"}, \"geo\": {\"bgcolor\": \"white\", \"lakecolor\": \"white\", \"landcolor\": \"#E5ECF6\", \"showlakes\": true, \"showland\": true, \"subunitcolor\": \"white\"}, \"hoverlabel\": {\"align\": \"left\"}, \"hovermode\": \"closest\", \"mapbox\": {\"style\": \"light\"}, \"paper_bgcolor\": \"white\", \"plot_bgcolor\": \"#E5ECF6\", \"polar\": {\"angularaxis\": {\"gridcolor\": \"white\", \"linecolor\": \"white\", \"ticks\": \"\"}, \"bgcolor\": \"#E5ECF6\", \"radialaxis\": {\"gridcolor\": \"white\", \"linecolor\": \"white\", \"ticks\": \"\"}}, \"scene\": {\"xaxis\": {\"backgroundcolor\": \"#E5ECF6\", \"gridcolor\": \"white\", \"gridwidth\": 2, \"linecolor\": \"white\", \"showbackground\": true, \"ticks\": \"\", \"zerolinecolor\": \"white\"}, \"yaxis\": {\"backgroundcolor\": \"#E5ECF6\", \"gridcolor\": \"white\", \"gridwidth\": 2, \"linecolor\": \"white\", \"showbackground\": true, \"ticks\": \"\", \"zerolinecolor\": \"white\"}, \"zaxis\": {\"backgroundcolor\": \"#E5ECF6\", \"gridcolor\": \"white\", \"gridwidth\": 2, \"linecolor\": \"white\", \"showbackground\": true, \"ticks\": \"\", \"zerolinecolor\": \"white\"}}, \"shapedefaults\": {\"line\": {\"color\": \"#2a3f5f\"}}, \"ternary\": {\"aaxis\": {\"gridcolor\": \"white\", \"linecolor\": \"white\", \"ticks\": \"\"}, \"baxis\": {\"gridcolor\": \"white\", \"linecolor\": \"white\", \"ticks\": \"\"}, \"bgcolor\": \"#E5ECF6\", \"caxis\": {\"gridcolor\": \"white\", \"linecolor\": \"white\", \"ticks\": \"\"}}, \"title\": {\"x\": 0.05}, \"xaxis\": {\"automargin\": true, \"gridcolor\": \"white\", \"linecolor\": \"white\", \"ticks\": \"\", \"title\": {\"standoff\": 15}, \"zerolinecolor\": \"white\", \"zerolinewidth\": 2}, \"yaxis\": {\"automargin\": true, \"gridcolor\": \"white\", \"linecolor\": \"white\", \"ticks\": \"\", \"title\": {\"standoff\": 15}, \"zerolinecolor\": \"white\", \"zerolinewidth\": 2}}}, \"title\": {\"text\": \"Variable Summary\"}},\n",
       "                        {\"responsive\": true}\n",
       "                    ).then(function(){\n",
       "                            \n",
       "var gd = document.getElementById('c448a7c4-77a1-443b-be39-850c046daa11');\n",
       "var x = new MutationObserver(function (mutations, observer) {{\n",
       "        var display = window.getComputedStyle(gd).display;\n",
       "        if (!display || display === 'none') {{\n",
       "            console.log([gd, 'removed!']);\n",
       "            Plotly.purge(gd);\n",
       "            observer.disconnect();\n",
       "        }}\n",
       "}});\n",
       "\n",
       "// Listen for the removal of the full notebook cells\n",
       "var notebookContainer = gd.closest('#notebook-container');\n",
       "if (notebookContainer) {{\n",
       "    x.observe(notebookContainer, {childList: true});\n",
       "}}\n",
       "\n",
       "// Listen for the clearing of the current output cell\n",
       "var outputEl = gd.closest('.output');\n",
       "if (outputEl) {{\n",
       "    x.observe(outputEl, {childList: true});\n",
       "}}\n",
       "\n",
       "                        })\n",
       "                };\n",
       "                });\n",
       "            </script>\n",
       "        </div>"
      ]
     },
     "metadata": {},
     "output_type": "display_data"
    }
   ],
   "source": [
    "summary = (df_telcom_og[[i for i in df_telcom_og.columns if i not in Id_col]].\n",
    "           describe().transpose().reset_index())\n",
    "\n",
    "summary = summary.rename(columns = {\"index\" : \"feature\"})\n",
    "summary = np.around(summary,3)\n",
    "\n",
    "val_lst = [summary['feature'], summary['count'],\n",
    "           summary['mean'],summary['std'],\n",
    "           summary['min'], summary['25%'],\n",
    "           summary['50%'], summary['75%'], summary['max']]\n",
    "\n",
    "trace  = go.Table(header = dict(values = summary.columns.tolist(),\n",
    "                                line = dict(color = ['#506784']),\n",
    "                                fill = dict(color = ['#119DFF']),\n",
    "                               ),\n",
    "                  cells  = dict(values = val_lst,\n",
    "                                line = dict(color = ['#506784']),\n",
    "                                fill = dict(color = [\"lightgrey\",'#F5F8FF'])\n",
    "                               ),\n",
    "                  columnwidth = [200,60,100,100,60,60,80,80,80])\n",
    "layout = go.Layout(dict(title = \"Variable Summary\"))\n",
    "figure = go.Figure(data=[trace],layout=layout)\n",
    "py.iplot(figure)"
   ]
  },
  {
   "cell_type": "code",
   "execution_count": 8,
   "metadata": {},
   "outputs": [
    {
     "data": {
      "application/vnd.plotly.v1+json": {
       "config": {
        "linkText": "Export to plot.ly",
        "plotlyServerURL": "https://plot.ly",
        "showLink": false
       },
       "data": [
        {
         "colorbar": {
          "title": {
           "side": "right",
           "text": "Pearson Correlation coefficient"
          }
         },
         "colorscale": [
          [
           0,
           "#440154"
          ],
          [
           0.1111111111111111,
           "#482878"
          ],
          [
           0.2222222222222222,
           "#3e4989"
          ],
          [
           0.3333333333333333,
           "#31688e"
          ],
          [
           0.4444444444444444,
           "#26828e"
          ],
          [
           0.5555555555555556,
           "#1f9e89"
          ],
          [
           0.6666666666666666,
           "#35b779"
          ],
          [
           0.7777777777777778,
           "#6ece58"
          ],
          [
           0.8888888888888888,
           "#b5de2b"
          ],
          [
           1,
           "#fde725"
          ]
         ],
         "type": "heatmap",
         "x": [
          "gender",
          "SeniorCitizen",
          "Partner",
          "Dependents",
          "PhoneService",
          "OnlineSecurity",
          "OnlineBackup",
          "DeviceProtection",
          "TechSupport",
          "StreamingTV",
          "StreamingMovies",
          "PaperlessBilling",
          "Churn",
          "MultipleLines_No",
          "MultipleLines_No phone service",
          "MultipleLines_Yes",
          "InternetService_DSL",
          "InternetService_Fiber optic",
          "InternetService_No",
          "Contract_Month-to-month",
          "Contract_One year",
          "Contract_Two year",
          "PaymentMethod_Bank transfer (automatic)",
          "PaymentMethod_Credit card (automatic)",
          "PaymentMethod_Electronic check",
          "PaymentMethod_Mailed check",
          "tenure",
          "MonthlyCharges",
          "TotalCharges",
          "TotalCharges_tenure",
          "MonthlyCharges_tenure",
          "avg_month_charges"
         ],
         "y": [
          "gender",
          "SeniorCitizen",
          "Partner",
          "Dependents",
          "PhoneService",
          "OnlineSecurity",
          "OnlineBackup",
          "DeviceProtection",
          "TechSupport",
          "StreamingTV",
          "StreamingMovies",
          "PaperlessBilling",
          "Churn",
          "MultipleLines_No",
          "MultipleLines_No phone service",
          "MultipleLines_Yes",
          "InternetService_DSL",
          "InternetService_Fiber optic",
          "InternetService_No",
          "Contract_Month-to-month",
          "Contract_One year",
          "Contract_Two year",
          "PaymentMethod_Bank transfer (automatic)",
          "PaymentMethod_Credit card (automatic)",
          "PaymentMethod_Electronic check",
          "PaymentMethod_Mailed check",
          "tenure",
          "MonthlyCharges",
          "TotalCharges",
          "TotalCharges_tenure",
          "MonthlyCharges_tenure",
          "avg_month_charges"
         ],
         "z": [
          [
           1,
           -0.001819390613419179,
           -0.0013790513218356025,
           0.010348917127614397,
           -0.007514979909200033,
           -0.01632782307070617,
           -0.013092839264555001,
           -0.0008067457759124324,
           -0.008507162405232782,
           -0.0071243969867245535,
           -0.010105418366566195,
           -0.011901894766838502,
           -0.008544643224947218,
           0.0043346914502916285,
           0.0075149799091999425,
           -0.008882737146286056,
           0.00758357610303961,
           -0.011189259276385864,
           0.004744965758849955,
           -0.0032507651194551004,
           0.0077548529142672145,
           -0.003603167413572989,
           -0.015973079031173835,
           0.001631872518613598,
           0.0008437084888753327,
           0.01319936726545174,
           0.005285371870295646,
           -0.013779327268354416,
           4.783950839776602e-05,
           0.005054469118174045,
           -0.0030483552705343085,
           0.004639752729912085
          ],
          [
           -0.001819390613419179,
           1,
           0.01695661453202187,
           -0.21055006112684216,
           0.008391611911217043,
           -0.0385763901686064,
           0.06666279065142021,
           0.059513871482029225,
           -0.060576839406188035,
           0.10544501753678828,
           0.11984236746151568,
           0.15625775052783097,
           0.1505410534156757,
           -0.13637672686229402,
           -0.008391611911217034,
           0.14299625086621018,
           -0.10827563872848943,
           0.25492331502717946,
           -0.18251949495535458,
           0.13775207088551514,
           -0.0464907545657889,
           -0.11620511425710835,
           -0.01623474200582214,
           -0.024359419683712323,
           0.17132216591713703,
           -0.15298719260173027,
           0.01568347989913396,
           0.21987422950593646,
           0.10241060539532633,
           0.01628334833352422,
           0.031272420754458095,
           0.01530238790396527
          ],
          [
           -0.0013790513218356025,
           0.01695661453202187,
           1,
           0.45226888584550023,
           0.018397189302703662,
           0.14334606167364233,
           0.14184917072520303,
           0.1535564364182745,
           0.12020601780298455,
           0.12448262672518244,
           0.11810820943292764,
           -0.013956696136191696,
           -0.14998192562006138,
           -0.13002839561671578,
           -0.018397189302703666,
           0.1425612874681736,
           -0.0010430787434336079,
           0.0012346095228208073,
           -0.0002855204740384597,
           -0.2802019157901561,
           0.08306706395255747,
           0.24733370647615796,
           0.11140561212215645,
           0.08232738919649572,
           -0.08320661736633733,
           -0.09694798339506473,
           0.38191150910757077,
           0.09782497186892049,
           0.31907236323857324,
           0.3813605520785624,
           0.35200885566740225,
           0.3816996730135033
          ],
          [
           0.010348917127614397,
           -0.21055006112684216,
           0.45226888584550023,
           1,
           -0.001077812708067608,
           0.08078553224088346,
           0.023638813060609963,
           0.013899668260943368,
           0.06305315799997827,
           -0.01649868035801052,
           -0.03837492560091315,
           -0.11013068597336993,
           -0.16312843938822,
           0.023387669506115295,
           0.0010778127080674446,
           -0.024306661314620996,
           0.05159321756471237,
           -0.16410089031864167,
           0.13838288994798562,
           -0.2297147909213749,
           0.06922205672629726,
           0.2016993304297039,
           0.05236890928127545,
           0.06113408322897806,
           -0.1492739811934336,
           0.05644841359590588,
           0.16338596691556453,
           -0.11234295350128225,
           0.0646532494217739,
           0.15983287932713344,
           0.1390705877261361,
           0.16251695135119998
          ],
          [
           -0.007514979909200033,
           0.008391611911217043,
           0.018397189302703662,
           -0.001077812708067608,
           1,
           -0.09167570469500017,
           -0.05213341919796151,
           -0.07007561533228862,
           -0.09513849428922488,
           -0.021382711870578185,
           -0.03347749718236395,
           0.016696123642784135,
           0.011691398865422323,
           0.31521775126801543,
           -1,
           0.2795295400049995,
           -0.45225528090657086,
           0.29018311793843365,
           0.1718171065699321,
           -0.0012425134067734023,
           -0.0031417807184111624,
           0.0044422513152849235,
           0.008271245210923577,
           -0.006916252198127548,
           0.0027471183312986857,
           -0.004462839400732194,
           0.007877333295041818,
           0.2480330664757158,
           0.11300826095473893,
           0.012593990013283459,
           0.02045220216034022,
           0.007957717125226249
          ],
          [
           -0.01632782307070617,
           -0.0385763901686064,
           0.14334606167364233,
           0.08078553224088346,
           -0.09167570469500017,
           1,
           0.28328454262626757,
           0.274875003842449,
           0.35445796164509147,
           0.1755144708953688,
           0.18742584957299618,
           -0.004051250607988492,
           -0.17126992353351678,
           -0.15167751168612081,
           0.09167570469500017,
           0.0985919934252315,
           0.3203433737595294,
           -0.03050626904076453,
           -0.33279949932167546,
           -0.24684428487400414,
           0.10065777311969464,
           0.19169819815673583,
           0.09436639279979232,
           0.11547320256635303,
           -0.11229466175861408,
           -0.07991768713640306,
           0.32829748818662485,
           0.2964469592375873,
           0.41261876950713655,
           0.33169383027754334,
           0.3019337309405064,
           0.32811102871825787
          ],
          [
           -0.013092839264555001,
           0.06666279065142021,
           0.14184917072520303,
           0.023638813060609963,
           -0.05213341919796151,
           0.28328454262626757,
           1,
           0.30305766643807824,
           0.29370469187781045,
           0.2816010622259753,
           0.27452301070772545,
           0.12705603268686044,
           -0.08230696876508349,
           -0.2307241996493635,
           0.05213341919796151,
           0.2022283972825372,
           0.15676460995441888,
           0.16594028590307677,
           -0.3809903317320751,
           -0.16439302987919688,
           0.08411316021806066,
           0.11139068731904943,
           0.0869415675760231,
           0.09045518641091457,
           -0.00036426636786500763,
           -0.17407470231312427,
           0.36113847824658735,
           0.4415290881871007,
           0.510100290145439,
           0.3634109766229255,
           0.33470392918481345,
           0.36039829539559814
          ],
          [
           -0.0008067457759124324,
           0.059513871482029225,
           0.1535564364182745,
           0.013899668260943368,
           -0.07007561533228862,
           0.274875003842449,
           0.30305766643807824,
           1,
           0.33285005080469243,
           0.3899237975094597,
           0.4023088228216018,
           0.10407904724402045,
           -0.06619251684228997,
           -0.24084736328107104,
           0.07007561533228862,
           0.201732824517757,
           0.14514955473692903,
           0.17635617323471664,
           -0.3801513548956378,
           -0.22598757731112262,
           0.10291089629343353,
           0.16524753554250074,
           0.08304690185342707,
           0.11125168129784246,
           -0.003308493511411254,
           -0.18732483013668594,
           0.3615199952862194,
           0.48260691224313995,
           0.5228814865154369,
           0.36147391133502427,
           0.33125861866860434,
           0.36154971696105204
          ],
          [
           -0.008507162405232782,
           -0.060576839406188035,
           0.12020601780298455,
           0.06305315799997827,
           -0.09513849428922488,
           0.35445796164509147,
           0.29370469187781045,
           0.33285005080469243,
           1,
           0.277548599200549,
           0.2801552432906342,
           0.03753587307318976,
           -0.16471590834411207,
           -0.15553386914722026,
           0.09513849428922488,
           0.10042125595413272,
           0.3121832985222757,
           -0.020298967520709605,
           -0.33569508671869736,
           -0.28549086901033593,
           0.09625836225380952,
           0.24092408252256528,
           0.10047200087443556,
           0.11702370730984143,
           -0.11480726996437085,
           -0.08463055196615278,
           0.325288454100009,
           0.33830139143424953,
           0.4328683682410939,
           0.326785586874316,
           0.2949889482119371,
           0.32521961541637456
          ],
          [
           -0.0071243969867245535,
           0.10544501753678828,
           0.12448262672518244,
           -0.01649868035801052,
           -0.021382711870578185,
           0.1755144708953688,
           0.2816010622259753,
           0.3899237975094597,
           0.277548599200549,
           1,
           0.5333800979319763,
           0.22424119793848596,
           0.06325398027519404,
           -0.26746641467807136,
           0.021382711870577976,
           0.25780350066730157,
           0.014973379079172382,
           0.3297441152730512,
           -0.41495062156578044,
           -0.11254989712217289,
           0.061929689963200855,
           0.07212357537070835,
           0.04612070051242859,
           0.040010276337768505,
           0.1447470086556032,
           -0.2477115493728633,
           0.280263628074823,
           0.6296678921767406,
           0.5157090769923935,
           0.2808064575749621,
           0.2730202699049361,
           0.27996230663075244
          ],
          [
           -0.010105418366566195,
           0.11984236746151568,
           0.11810820943292764,
           -0.03837492560091315,
           -0.03347749718236395,
           0.18742584957299618,
           0.27452301070772545,
           0.4023088228216018,
           0.2801552432906342,
           0.5333800979319763,
           1,
           0.21158250423808916,
           0.06085993668146301,
           -0.2759953197780627,
           0.03347749718236395,
           0.2591943175468362,
           0.02562310861129719,
           0.3224574540559222,
           -0.41844975538334045,
           -0.11786687989290552,
           0.06477997824381859,
           0.07560257919382919,
           0.04875484714119087,
           0.048398314068082315,
           0.13742008269944622,
           -0.2502897149395328,
           0.2854022671060787,
           0.6272347301103788,
           0.5198665357835017,
           0.287259482952882,
           0.2784625069940648,
           0.2854831362524482
          ],
          [
           -0.011901894766838502,
           0.15625775052783097,
           -0.013956696136191696,
           -0.11013068597336993,
           0.016696123642784135,
           -0.004051250607988492,
           0.12705603268686044,
           0.10407904724402045,
           0.03753587307318976,
           0.22424119793848596,
           0.21158250423808916,
           1,
           0.19145432108006671,
           -0.1519737778021082,
           -0.016696123642784142,
           0.1637457730112591,
           -0.06338966821876392,
           0.32647017160380964,
           -0.3205922451174622,
           0.16829626845602835,
           -0.052278164693773076,
           -0.1462807050684952,
           -0.017468900682392235,
           -0.013726285095880284,
           0.20842668228002995,
           -0.20398064814312206,
           0.004823156615386272,
           0.3519304153712528,
           0.15782978286591698,
           0.006223064730713061,
           0.014999064786656873,
           0.00434167329867312
          ],
          [
           -0.008544643224947218,
           0.1505410534156757,
           -0.14998192562006138,
           -0.16312843938822,
           0.011691398865422323,
           -0.17126992353351678,
           -0.08230696876508349,
           -0.06619251684228997,
           -0.16471590834411207,
           0.06325398027519404,
           0.06085993668146301,
           0.19145432108006671,
           1,
           -0.03265360299730401,
           -0.01169139886542221,
           0.040032739872523634,
           -0.12414142842590645,
           0.30746259069818205,
           -0.22757762044656818,
           0.40456455007784087,
           -0.17822502328994053,
           -0.30155233962397837,
           -0.1181359978280296,
           -0.1346868372340906,
           0.30145463790858057,
           -0.09077284582582087,
           -0.3540493589532626,
           0.1928582184700881,
           -0.1994840835675715,
           -0.34428507741138387,
           -0.3268521946793886,
           -0.35377490910585707
          ],
          [
           0.0043346914502916285,
           -0.13637672686229402,
           -0.13002839561671578,
           0.023387669506115295,
           0.31521775126801543,
           -0.15167751168612081,
           -0.2307241996493635,
           -0.24084736328107104,
           -0.15553386914722026,
           -0.26746641467807136,
           -0.2759953197780627,
           -0.1519737778021082,
           -0.03265360299730401,
           1,
           -0.3152177512680155,
           -0.8230760279128654,
           -0.06951498798055156,
           -0.19053099387424138,
           0.3099843327828031,
           0.08679791861868207,
           0.0016944436455045328,
           -0.1027560050227385,
           -0.06966277653167001,
           -0.06371157499118037,
           -0.0809902106781048,
           0.22239547449983668,
           -0.323890766966285,
           -0.3385136039067215,
           -0.39676537714107735,
           -0.32431756170203596,
           -0.30567888164892937,
           -0.3237691769450972
          ],
          [
           0.0075149799091999425,
           -0.008391611911217034,
           -0.018397189302703666,
           0.0010778127080674446,
           -1,
           0.09167570469500017,
           0.05213341919796151,
           0.07007561533228862,
           0.09513849428922488,
           0.021382711870577976,
           0.03347749718236395,
           -0.016696123642784142,
           -0.01169139886542221,
           -0.3152177512680155,
           1,
           -0.2795295400049995,
           0.45225528090657086,
           -0.29018311793843365,
           -0.1718171065699321,
           0.0012425134067734103,
           0.0031417807184113207,
           -0.004442251315284906,
           -0.008271245210923579,
           0.006916252198127564,
           -0.0027471183312986857,
           0.004462839400732508,
           -0.007877333295041807,
           -0.2480330664757158,
           -0.1130082609547389,
           -0.012593990013283476,
           -0.020452202160340244,
           -0.007957717125226237
          ],
          [
           -0.008882737146286056,
           0.14299625086621018,
           0.1425612874681736,
           -0.024306661314620996,
           0.2795295400049995,
           0.0985919934252315,
           0.2022283972825372,
           0.201732824517757,
           0.10042125595413272,
           0.25780350066730157,
           0.2591943175468362,
           0.1637457730112591,
           0.040032739872523634,
           -0.8230760279128654,
           -0.2795295400049995,
           1,
           -0.2003183214156725,
           0.3664202566051166,
           -0.21079354712189471,
           -0.08855832218643561,
           -0.003594461398434266,
           0.10661820819152797,
           0.07542871730303179,
           0.06031899094084278,
           0.08358299305536028,
           -0.22767156949803466,
           0.33239924473562554,
           0.4909121973267493,
           0.4690421356971826,
           0.33565367565064,
           0.32149931318096814,
           0.3323243351963331
          ],
          [
           0.00758357610303961,
           -0.10827563872848943,
           -0.0010430787434336079,
           0.05159321756471237,
           -0.45225528090657086,
           0.3203433737595294,
           0.15676460995441888,
           0.14514955473692903,
           0.3121832985222757,
           0.014973379079172382,
           0.02562310861129719,
           -0.06338966821876392,
           -0.12414142842590645,
           -0.06951498798055156,
           0.45225528090657086,
           -0.2003183214156725,
           1,
           -0.6416356650534906,
           -0.3799117751052334,
           -0.06522632996531619,
           0.04729967349374622,
           0.030923714855574744,
           0.02475954021490298,
           0.05122176476699011,
           -0.10429333541089097,
           0.04275388869901973,
           0.013786269825793156,
           -0.16136793538251534,
           -0.052189866637419764,
           0.012485490177993793,
           7.356463250132146e-05,
           0.013486840552942131
          ],
          [
           -0.011189259276385864,
           0.25492331502717946,
           0.0012346095228208073,
           -0.16410089031864167,
           0.29018311793843365,
           -0.03050626904076453,
           0.16594028590307677,
           0.17635617323471664,
           -0.020298967520709605,
           0.3297441152730512,
           0.3224574540559222,
           0.32647017160380964,
           0.30746259069818205,
           -0.19053099387424138,
           -0.29018311793843365,
           0.3664202566051166,
           -0.6416356650534906,
           1,
           -0.4657363343235562,
           0.24301351814831268,
           -0.07680902975096314,
           -0.20996452908904545,
           -0.022778855291876635,
           -0.050551991558036385,
           0.3357634768102139,
           -0.3059839224841771,
           0.017929529906438778,
           0.7871948529419658,
           0.3607687920142481,
           0.021051821741246052,
           0.04929501633353061,
           0.017761951980582284
          ],
          [
           0.004744965758849955,
           -0.18251949495535458,
           -0.0002855204740384597,
           0.13838288994798562,
           0.1718171065699321,
           -0.33279949932167546,
           -0.3809903317320751,
           -0.3801513548956378,
           -0.33569508671869736,
           -0.41495062156578044,
           -0.41844975538334045,
           -0.3205922451174622,
           -0.22757762044656818,
           0.3099843327828031,
           -0.1718171065699321,
           -0.21079354712189471,
           -0.3799117751052334,
           -0.4657363343235562,
           1,
           -0.217823505545489,
           0.038061459724733744,
           0.21754205606911817,
           -0.0010943032992050863,
           0.0018701145623306124,
           -0.2846082097225956,
           0.3196937439459745,
           -0.037528889581619734,
           -0.7631910615169571,
           -0.37487836259896,
           -0.039793659742096886,
           -0.05953525420313971,
           -0.03698132743894044
          ],
          [
           -0.0032507651194551004,
           0.13775207088551514,
           -0.2802019157901561,
           -0.2297147909213749,
           -0.0012425134067734023,
           -0.24684428487400414,
           -0.16439302987919688,
           -0.22598757731112262,
           -0.28549086901033593,
           -0.11254989712217289,
           -0.11786687989290552,
           0.16829626845602835,
           0.40456455007784087,
           0.08679791861868207,
           0.0012425134067734103,
           -0.08855832218643561,
           -0.06522632996531619,
           0.24301351814831268,
           -0.217823505545489,
           1,
           -0.5700527848944215,
           -0.6219327447713561,
           -0.18015909738683936,
           -0.20496021669474843,
           0.33087881370583405,
           0.006208692442055045,
           -0.649345648869048,
           0.0589334582292538,
           -0.4467758743246882,
           -0.6424106530886872,
           -0.5493783436187444,
           -0.6490472178431379
          ],
          [
           0.0077548529142672145,
           -0.0464907545657889,
           0.08306706395255747,
           0.06922205672629726,
           -0.0031417807184111624,
           0.10065777311969464,
           0.08411316021806066,
           0.10291089629343353,
           0.09625836225380952,
           0.061929689963200855,
           0.06477997824381859,
           -0.052278164693773076,
           -0.17822502328994053,
           0.0016944436455045328,
           0.0031417807184113207,
           -0.003594461398434266,
           0.04729967349374622,
           -0.07680902975096314,
           0.038061459724733744,
           -0.5700527848944215,
           1,
           -0.28884268256780254,
           0.05762874929825631,
           0.06758968145792751,
           -0.10954646682258033,
           0.0001971241890499786,
           0.2023384083649546,
           0.004809615120440435,
           0.17056928655718714,
           0.17587062205049822,
           0.164025819357598,
           0.20184147674591488
          ],
          [
           -0.003603167413572989,
           -0.11620511425710835,
           0.24733370647615796,
           0.2016993304297039,
           0.0044422513152849235,
           0.19169819815673583,
           0.11139068731904943,
           0.16524753554250074,
           0.24092408252256528,
           0.07212357537070835,
           0.07560257919382919,
           -0.1462807050684952,
           -0.30155233962397837,
           -0.1027560050227385,
           -0.004442251315284906,
           0.10661820819152797,
           0.030923714855574744,
           -0.20996452908904545,
           0.21754205606911817,
           -0.6219327447713561,
           -0.28884268256780254,
           1,
           0.1550042180767056,
           0.17440993895950943,
           -0.28114743393395547,
           -0.007422540118618717,
           0.5638005002286687,
           -0.07325607300641665,
           0.35803561609140894,
           0.580945833792506,
           0.4838294116746136,
           0.5639263773982215
          ],
          [
           -0.015973079031173835,
           -0.01623474200582214,
           0.11140561212215645,
           0.05236890928127545,
           0.008271245210923577,
           0.09436639279979232,
           0.0869415675760231,
           0.08304690185342707,
           0.10047200087443556,
           0.04612070051242859,
           0.04875484714119087,
           -0.017468900682392235,
           -0.1181359978280296,
           -0.06966277653167001,
           -0.008271245210923579,
           0.07542871730303179,
           0.02475954021490298,
           -0.022778855291876635,
           -0.0010943032992050863,
           -0.18015909738683936,
           0.05762874929825631,
           0.1550042180767056,
           1,
           -0.27842319712065355,
           -0.3772703602158491,
           -0.28809669563791657,
           0.24382246495742915,
           0.04240972759459293,
           0.18611944938877964,
           0.24394721422056376,
           0.22123221256526218,
           0.2426564112213155
          ],
          [
           0.001631872518613598,
           -0.024359419683712323,
           0.08232738919649572,
           0.06113408322897806,
           -0.006916252198127548,
           0.11547320256635303,
           0.09045518641091457,
           0.11125168129784246,
           0.11702370730984143,
           0.040010276337768505,
           0.048398314068082315,
           -0.013726285095880284,
           -0.1346868372340906,
           -0.06371157499118037,
           0.006916252198127564,
           0.06031899094084278,
           0.05122176476699011,
           -0.050551991558036385,
           0.0018701145623306124,
           -0.20496021669474843,
           0.06758968145792751,
           0.17440993895950943,
           -0.27842319712065355,
           1,
           -0.37397801626928234,
           -0.28558254792863036,
           0.23280034413314615,
           0.030054608328366407,
           0.1826633671546002,
           0.23127960150021054,
           0.21266306000359528,
           0.23330772454627896
          ],
          [
           0.0008437084888753327,
           0.17132216591713703,
           -0.08320661736633733,
           -0.1492739811934336,
           0.0027471183312986857,
           -0.11229466175861408,
           -0.00036426636786500763,
           -0.003308493511411254,
           -0.11480726996437085,
           0.1447470086556032,
           0.13742008269944622,
           0.20842668228002995,
           0.30145463790858057,
           -0.0809902106781048,
           -0.0027471183312986857,
           0.08358299305536028,
           -0.10429333541089097,
           0.3357634768102139,
           -0.2846082097225956,
           0.33087881370583405,
           -0.10954646682258033,
           -0.28114743393395547,
           -0.3772703602158491,
           -0.37397801626928234,
           1,
           -0.3869714587097063,
           -0.21019749610817867,
           0.27111737739356384,
           -0.060436278689198375,
           -0.21029920576372518,
           -0.1848658934887741,
           -0.20989007342744784
          ],
          [
           0.01319936726545174,
           -0.15298719260173027,
           -0.09694798339506473,
           0.05644841359590588,
           -0.004462839400732194,
           -0.07991768713640306,
           -0.17407470231312427,
           -0.18732483013668594,
           -0.08463055196615278,
           -0.2477115493728633,
           -0.2502897149395328,
           -0.20398064814312206,
           -0.09077284582582087,
           0.22239547449983668,
           0.004462839400732508,
           -0.22767156949803466,
           0.04275388869901973,
           -0.3059839224841771,
           0.3196937439459745,
           0.006208692442055045,
           0.0001971241890499786,
           -0.007422540118618717,
           -0.28809669563791657,
           -0.28558254792863036,
           -0.3869714587097063,
           1,
           -0.23218078070201725,
           -0.37656828808083825,
           -0.29470837017550655,
           -0.23069712031446035,
           -0.21866825161747971,
           -0.2318749530937623
          ],
          [
           0.005285371870295646,
           0.01568347989913396,
           0.38191150910757077,
           0.16338596691556453,
           0.007877333295041818,
           0.32829748818662485,
           0.36113847824658735,
           0.3615199952862194,
           0.325288454100009,
           0.280263628074823,
           0.2854022671060787,
           0.004823156615386272,
           -0.3540493589532626,
           -0.323890766966285,
           -0.007877333295041807,
           0.33239924473562554,
           0.013786269825793156,
           0.017929529906438778,
           -0.037528889581619734,
           -0.649345648869048,
           0.2023384083649546,
           0.5638005002286687,
           0.24382246495742915,
           0.23280034413314615,
           -0.21019749610817867,
           -0.23218078070201725,
           1,
           0.2468617666408947,
           0.8258804609332017,
           0.9919837506572002,
           0.8575698213649838,
           0.9989308049691923
          ],
          [
           -0.013779327268354416,
           0.21987422950593646,
           0.09782497186892049,
           -0.11234295350128225,
           0.2480330664757158,
           0.2964469592375873,
           0.4415290881871007,
           0.48260691224313995,
           0.33830139143424953,
           0.6296678921767406,
           0.6272347301103788,
           0.3519304153712528,
           0.1928582184700881,
           -0.3385136039067215,
           -0.2480330664757158,
           0.4909121973267493,
           -0.16136793538251534,
           0.7871948529419658,
           -0.7631910615169571,
           0.0589334582292538,
           0.004809615120440435,
           -0.07325607300641665,
           0.04240972759459293,
           0.030054608328366407,
           0.27111737739356384,
           -0.37656828808083825,
           0.2468617666408947,
           1,
           0.6510648032262032,
           0.25110583181301643,
           0.2581980255865873,
           0.246501744370659
          ],
          [
           4.783950839776602e-05,
           0.10241060539532633,
           0.31907236323857324,
           0.0646532494217739,
           0.11300826095473893,
           0.41261876950713655,
           0.510100290145439,
           0.5228814865154369,
           0.4328683682410939,
           0.5157090769923935,
           0.5198665357835017,
           0.15782978286591698,
           -0.1994840835675715,
           -0.39676537714107735,
           -0.1130082609547389,
           0.4690421356971826,
           -0.052189866637419764,
           0.3607687920142481,
           -0.37487836259896,
           -0.4467758743246882,
           0.17056928655718714,
           0.35803561609140894,
           0.18611944938877964,
           0.1826633671546002,
           -0.060436278689198375,
           -0.29470837017550655,
           0.8258804609332017,
           0.6510648032262032,
           1,
           0.8294059575864499,
           0.7231586821352854,
           0.8261605364106668
          ],
          [
           0.005054469118174045,
           0.01628334833352422,
           0.3813605520785624,
           0.15983287932713344,
           0.012593990013283459,
           0.33169383027754334,
           0.3634109766229255,
           0.36147391133502427,
           0.326785586874316,
           0.2808064575749621,
           0.287259482952882,
           0.006223064730713061,
           -0.34428507741138387,
           -0.32431756170203596,
           -0.012593990013283476,
           0.33565367565064,
           0.012485490177993793,
           0.021051821741246052,
           -0.039793659742096886,
           -0.6424106530886872,
           0.17587062205049822,
           0.580945833792506,
           0.24394721422056376,
           0.23127960150021054,
           -0.21029920576372518,
           -0.23069712031446035,
           0.9919837506572002,
           0.25110583181301643,
           0.8294059575864499,
           1,
           0.8822650512691953,
           0.9909956562369509
          ],
          [
           -0.0030483552705343085,
           0.031272420754458095,
           0.35200885566740225,
           0.1390705877261361,
           0.02045220216034022,
           0.3019337309405064,
           0.33470392918481345,
           0.33125861866860434,
           0.2949889482119371,
           0.2730202699049361,
           0.2784625069940648,
           0.014999064786656873,
           -0.3268521946793886,
           -0.30567888164892937,
           -0.020452202160340244,
           0.32149931318096814,
           7.356463250132146e-05,
           0.04929501633353061,
           -0.05953525420313971,
           -0.5493783436187444,
           0.164025819357598,
           0.4838294116746136,
           0.22123221256526218,
           0.21266306000359528,
           -0.1848658934887741,
           -0.21866825161747971,
           0.8575698213649838,
           0.2581980255865873,
           0.7231586821352854,
           0.8822650512691953,
           1,
           0.8566700981971004
          ],
          [
           0.004639752729912085,
           0.01530238790396527,
           0.3816996730135033,
           0.16251695135119998,
           0.007957717125226249,
           0.32811102871825787,
           0.36039829539559814,
           0.36154971696105204,
           0.32521961541637456,
           0.27996230663075244,
           0.2854831362524482,
           0.00434167329867312,
           -0.35377490910585707,
           -0.3237691769450972,
           -0.007957717125226237,
           0.3323243351963331,
           0.013486840552942131,
           0.017761951980582284,
           -0.03698132743894044,
           -0.6490472178431379,
           0.20184147674591488,
           0.5639263773982215,
           0.2426564112213155,
           0.23330772454627896,
           -0.20989007342744784,
           -0.2318749530937623,
           0.9989308049691923,
           0.246501744370659,
           0.8261605364106668,
           0.9909956562369509,
           0.8566700981971004,
           1
          ]
         ]
        }
       ],
       "layout": {
        "autosize": false,
        "height": 720,
        "margin": {
         "b": 210,
         "l": 210,
         "r": 0,
         "t": 25
        },
        "template": {
         "data": {
          "bar": [
           {
            "error_x": {
             "color": "#2a3f5f"
            },
            "error_y": {
             "color": "#2a3f5f"
            },
            "marker": {
             "line": {
              "color": "#E5ECF6",
              "width": 0.5
             }
            },
            "type": "bar"
           }
          ],
          "barpolar": [
           {
            "marker": {
             "line": {
              "color": "#E5ECF6",
              "width": 0.5
             }
            },
            "type": "barpolar"
           }
          ],
          "carpet": [
           {
            "aaxis": {
             "endlinecolor": "#2a3f5f",
             "gridcolor": "white",
             "linecolor": "white",
             "minorgridcolor": "white",
             "startlinecolor": "#2a3f5f"
            },
            "baxis": {
             "endlinecolor": "#2a3f5f",
             "gridcolor": "white",
             "linecolor": "white",
             "minorgridcolor": "white",
             "startlinecolor": "#2a3f5f"
            },
            "type": "carpet"
           }
          ],
          "choropleth": [
           {
            "colorbar": {
             "outlinewidth": 0,
             "ticks": ""
            },
            "type": "choropleth"
           }
          ],
          "contour": [
           {
            "colorbar": {
             "outlinewidth": 0,
             "ticks": ""
            },
            "colorscale": [
             [
              0,
              "#0d0887"
             ],
             [
              0.1111111111111111,
              "#46039f"
             ],
             [
              0.2222222222222222,
              "#7201a8"
             ],
             [
              0.3333333333333333,
              "#9c179e"
             ],
             [
              0.4444444444444444,
              "#bd3786"
             ],
             [
              0.5555555555555556,
              "#d8576b"
             ],
             [
              0.6666666666666666,
              "#ed7953"
             ],
             [
              0.7777777777777778,
              "#fb9f3a"
             ],
             [
              0.8888888888888888,
              "#fdca26"
             ],
             [
              1,
              "#f0f921"
             ]
            ],
            "type": "contour"
           }
          ],
          "contourcarpet": [
           {
            "colorbar": {
             "outlinewidth": 0,
             "ticks": ""
            },
            "type": "contourcarpet"
           }
          ],
          "heatmap": [
           {
            "colorbar": {
             "outlinewidth": 0,
             "ticks": ""
            },
            "colorscale": [
             [
              0,
              "#0d0887"
             ],
             [
              0.1111111111111111,
              "#46039f"
             ],
             [
              0.2222222222222222,
              "#7201a8"
             ],
             [
              0.3333333333333333,
              "#9c179e"
             ],
             [
              0.4444444444444444,
              "#bd3786"
             ],
             [
              0.5555555555555556,
              "#d8576b"
             ],
             [
              0.6666666666666666,
              "#ed7953"
             ],
             [
              0.7777777777777778,
              "#fb9f3a"
             ],
             [
              0.8888888888888888,
              "#fdca26"
             ],
             [
              1,
              "#f0f921"
             ]
            ],
            "type": "heatmap"
           }
          ],
          "heatmapgl": [
           {
            "colorbar": {
             "outlinewidth": 0,
             "ticks": ""
            },
            "colorscale": [
             [
              0,
              "#0d0887"
             ],
             [
              0.1111111111111111,
              "#46039f"
             ],
             [
              0.2222222222222222,
              "#7201a8"
             ],
             [
              0.3333333333333333,
              "#9c179e"
             ],
             [
              0.4444444444444444,
              "#bd3786"
             ],
             [
              0.5555555555555556,
              "#d8576b"
             ],
             [
              0.6666666666666666,
              "#ed7953"
             ],
             [
              0.7777777777777778,
              "#fb9f3a"
             ],
             [
              0.8888888888888888,
              "#fdca26"
             ],
             [
              1,
              "#f0f921"
             ]
            ],
            "type": "heatmapgl"
           }
          ],
          "histogram": [
           {
            "marker": {
             "colorbar": {
              "outlinewidth": 0,
              "ticks": ""
             }
            },
            "type": "histogram"
           }
          ],
          "histogram2d": [
           {
            "colorbar": {
             "outlinewidth": 0,
             "ticks": ""
            },
            "colorscale": [
             [
              0,
              "#0d0887"
             ],
             [
              0.1111111111111111,
              "#46039f"
             ],
             [
              0.2222222222222222,
              "#7201a8"
             ],
             [
              0.3333333333333333,
              "#9c179e"
             ],
             [
              0.4444444444444444,
              "#bd3786"
             ],
             [
              0.5555555555555556,
              "#d8576b"
             ],
             [
              0.6666666666666666,
              "#ed7953"
             ],
             [
              0.7777777777777778,
              "#fb9f3a"
             ],
             [
              0.8888888888888888,
              "#fdca26"
             ],
             [
              1,
              "#f0f921"
             ]
            ],
            "type": "histogram2d"
           }
          ],
          "histogram2dcontour": [
           {
            "colorbar": {
             "outlinewidth": 0,
             "ticks": ""
            },
            "colorscale": [
             [
              0,
              "#0d0887"
             ],
             [
              0.1111111111111111,
              "#46039f"
             ],
             [
              0.2222222222222222,
              "#7201a8"
             ],
             [
              0.3333333333333333,
              "#9c179e"
             ],
             [
              0.4444444444444444,
              "#bd3786"
             ],
             [
              0.5555555555555556,
              "#d8576b"
             ],
             [
              0.6666666666666666,
              "#ed7953"
             ],
             [
              0.7777777777777778,
              "#fb9f3a"
             ],
             [
              0.8888888888888888,
              "#fdca26"
             ],
             [
              1,
              "#f0f921"
             ]
            ],
            "type": "histogram2dcontour"
           }
          ],
          "mesh3d": [
           {
            "colorbar": {
             "outlinewidth": 0,
             "ticks": ""
            },
            "type": "mesh3d"
           }
          ],
          "parcoords": [
           {
            "line": {
             "colorbar": {
              "outlinewidth": 0,
              "ticks": ""
             }
            },
            "type": "parcoords"
           }
          ],
          "pie": [
           {
            "automargin": true,
            "type": "pie"
           }
          ],
          "scatter": [
           {
            "marker": {
             "colorbar": {
              "outlinewidth": 0,
              "ticks": ""
             }
            },
            "type": "scatter"
           }
          ],
          "scatter3d": [
           {
            "line": {
             "colorbar": {
              "outlinewidth": 0,
              "ticks": ""
             }
            },
            "marker": {
             "colorbar": {
              "outlinewidth": 0,
              "ticks": ""
             }
            },
            "type": "scatter3d"
           }
          ],
          "scattercarpet": [
           {
            "marker": {
             "colorbar": {
              "outlinewidth": 0,
              "ticks": ""
             }
            },
            "type": "scattercarpet"
           }
          ],
          "scattergeo": [
           {
            "marker": {
             "colorbar": {
              "outlinewidth": 0,
              "ticks": ""
             }
            },
            "type": "scattergeo"
           }
          ],
          "scattergl": [
           {
            "marker": {
             "colorbar": {
              "outlinewidth": 0,
              "ticks": ""
             }
            },
            "type": "scattergl"
           }
          ],
          "scattermapbox": [
           {
            "marker": {
             "colorbar": {
              "outlinewidth": 0,
              "ticks": ""
             }
            },
            "type": "scattermapbox"
           }
          ],
          "scatterpolar": [
           {
            "marker": {
             "colorbar": {
              "outlinewidth": 0,
              "ticks": ""
             }
            },
            "type": "scatterpolar"
           }
          ],
          "scatterpolargl": [
           {
            "marker": {
             "colorbar": {
              "outlinewidth": 0,
              "ticks": ""
             }
            },
            "type": "scatterpolargl"
           }
          ],
          "scatterternary": [
           {
            "marker": {
             "colorbar": {
              "outlinewidth": 0,
              "ticks": ""
             }
            },
            "type": "scatterternary"
           }
          ],
          "surface": [
           {
            "colorbar": {
             "outlinewidth": 0,
             "ticks": ""
            },
            "colorscale": [
             [
              0,
              "#0d0887"
             ],
             [
              0.1111111111111111,
              "#46039f"
             ],
             [
              0.2222222222222222,
              "#7201a8"
             ],
             [
              0.3333333333333333,
              "#9c179e"
             ],
             [
              0.4444444444444444,
              "#bd3786"
             ],
             [
              0.5555555555555556,
              "#d8576b"
             ],
             [
              0.6666666666666666,
              "#ed7953"
             ],
             [
              0.7777777777777778,
              "#fb9f3a"
             ],
             [
              0.8888888888888888,
              "#fdca26"
             ],
             [
              1,
              "#f0f921"
             ]
            ],
            "type": "surface"
           }
          ],
          "table": [
           {
            "cells": {
             "fill": {
              "color": "#EBF0F8"
             },
             "line": {
              "color": "white"
             }
            },
            "header": {
             "fill": {
              "color": "#C8D4E3"
             },
             "line": {
              "color": "white"
             }
            },
            "type": "table"
           }
          ]
         },
         "layout": {
          "annotationdefaults": {
           "arrowcolor": "#2a3f5f",
           "arrowhead": 0,
           "arrowwidth": 1
          },
          "coloraxis": {
           "colorbar": {
            "outlinewidth": 0,
            "ticks": ""
           }
          },
          "colorscale": {
           "diverging": [
            [
             0,
             "#8e0152"
            ],
            [
             0.1,
             "#c51b7d"
            ],
            [
             0.2,
             "#de77ae"
            ],
            [
             0.3,
             "#f1b6da"
            ],
            [
             0.4,
             "#fde0ef"
            ],
            [
             0.5,
             "#f7f7f7"
            ],
            [
             0.6,
             "#e6f5d0"
            ],
            [
             0.7,
             "#b8e186"
            ],
            [
             0.8,
             "#7fbc41"
            ],
            [
             0.9,
             "#4d9221"
            ],
            [
             1,
             "#276419"
            ]
           ],
           "sequential": [
            [
             0,
             "#0d0887"
            ],
            [
             0.1111111111111111,
             "#46039f"
            ],
            [
             0.2222222222222222,
             "#7201a8"
            ],
            [
             0.3333333333333333,
             "#9c179e"
            ],
            [
             0.4444444444444444,
             "#bd3786"
            ],
            [
             0.5555555555555556,
             "#d8576b"
            ],
            [
             0.6666666666666666,
             "#ed7953"
            ],
            [
             0.7777777777777778,
             "#fb9f3a"
            ],
            [
             0.8888888888888888,
             "#fdca26"
            ],
            [
             1,
             "#f0f921"
            ]
           ],
           "sequentialminus": [
            [
             0,
             "#0d0887"
            ],
            [
             0.1111111111111111,
             "#46039f"
            ],
            [
             0.2222222222222222,
             "#7201a8"
            ],
            [
             0.3333333333333333,
             "#9c179e"
            ],
            [
             0.4444444444444444,
             "#bd3786"
            ],
            [
             0.5555555555555556,
             "#d8576b"
            ],
            [
             0.6666666666666666,
             "#ed7953"
            ],
            [
             0.7777777777777778,
             "#fb9f3a"
            ],
            [
             0.8888888888888888,
             "#fdca26"
            ],
            [
             1,
             "#f0f921"
            ]
           ]
          },
          "colorway": [
           "#636efa",
           "#EF553B",
           "#00cc96",
           "#ab63fa",
           "#FFA15A",
           "#19d3f3",
           "#FF6692",
           "#B6E880",
           "#FF97FF",
           "#FECB52"
          ],
          "font": {
           "color": "#2a3f5f"
          },
          "geo": {
           "bgcolor": "white",
           "lakecolor": "white",
           "landcolor": "#E5ECF6",
           "showlakes": true,
           "showland": true,
           "subunitcolor": "white"
          },
          "hoverlabel": {
           "align": "left"
          },
          "hovermode": "closest",
          "mapbox": {
           "style": "light"
          },
          "paper_bgcolor": "white",
          "plot_bgcolor": "#E5ECF6",
          "polar": {
           "angularaxis": {
            "gridcolor": "white",
            "linecolor": "white",
            "ticks": ""
           },
           "bgcolor": "#E5ECF6",
           "radialaxis": {
            "gridcolor": "white",
            "linecolor": "white",
            "ticks": ""
           }
          },
          "scene": {
           "xaxis": {
            "backgroundcolor": "#E5ECF6",
            "gridcolor": "white",
            "gridwidth": 2,
            "linecolor": "white",
            "showbackground": true,
            "ticks": "",
            "zerolinecolor": "white"
           },
           "yaxis": {
            "backgroundcolor": "#E5ECF6",
            "gridcolor": "white",
            "gridwidth": 2,
            "linecolor": "white",
            "showbackground": true,
            "ticks": "",
            "zerolinecolor": "white"
           },
           "zaxis": {
            "backgroundcolor": "#E5ECF6",
            "gridcolor": "white",
            "gridwidth": 2,
            "linecolor": "white",
            "showbackground": true,
            "ticks": "",
            "zerolinecolor": "white"
           }
          },
          "shapedefaults": {
           "line": {
            "color": "#2a3f5f"
           }
          },
          "ternary": {
           "aaxis": {
            "gridcolor": "white",
            "linecolor": "white",
            "ticks": ""
           },
           "baxis": {
            "gridcolor": "white",
            "linecolor": "white",
            "ticks": ""
           },
           "bgcolor": "#E5ECF6",
           "caxis": {
            "gridcolor": "white",
            "linecolor": "white",
            "ticks": ""
           }
          },
          "title": {
           "x": 0.05
          },
          "xaxis": {
           "automargin": true,
           "gridcolor": "white",
           "linecolor": "white",
           "ticks": "",
           "title": {
            "standoff": 15
           },
           "zerolinecolor": "white",
           "zerolinewidth": 2
          },
          "yaxis": {
           "automargin": true,
           "gridcolor": "white",
           "linecolor": "white",
           "ticks": "",
           "title": {
            "standoff": 15
           },
           "zerolinecolor": "white",
           "zerolinewidth": 2
          }
         }
        },
        "title": {
         "text": "Correlation Matrix for variables"
        },
        "width": 800,
        "xaxis": {
         "tickfont": {
          "size": 9
         }
        },
        "yaxis": {
         "tickfont": {
          "size": 9
         }
        }
       }
      },
      "text/html": [
       "<div>\n",
       "        \n",
       "        \n",
       "            <div id=\"4ca411be-2e98-4bb7-addb-922adea3e934\" class=\"plotly-graph-div\" style=\"height:720px; width:800px;\"></div>\n",
       "            <script type=\"text/javascript\">\n",
       "                require([\"plotly\"], function(Plotly) {\n",
       "                    window.PLOTLYENV=window.PLOTLYENV || {};\n",
       "                    \n",
       "                if (document.getElementById(\"4ca411be-2e98-4bb7-addb-922adea3e934\")) {\n",
       "                    Plotly.newPlot(\n",
       "                        '4ca411be-2e98-4bb7-addb-922adea3e934',\n",
       "                        [{\"colorbar\": {\"title\": {\"side\": \"right\", \"text\": \"Pearson Correlation coefficient\"}}, \"colorscale\": [[0.0, \"#440154\"], [0.1111111111111111, \"#482878\"], [0.2222222222222222, \"#3e4989\"], [0.3333333333333333, \"#31688e\"], [0.4444444444444444, \"#26828e\"], [0.5555555555555556, \"#1f9e89\"], [0.6666666666666666, \"#35b779\"], [0.7777777777777778, \"#6ece58\"], [0.8888888888888888, \"#b5de2b\"], [1.0, \"#fde725\"]], \"type\": \"heatmap\", \"x\": [\"gender\", \"SeniorCitizen\", \"Partner\", \"Dependents\", \"PhoneService\", \"OnlineSecurity\", \"OnlineBackup\", \"DeviceProtection\", \"TechSupport\", \"StreamingTV\", \"StreamingMovies\", \"PaperlessBilling\", \"Churn\", \"MultipleLines_No\", \"MultipleLines_No phone service\", \"MultipleLines_Yes\", \"InternetService_DSL\", \"InternetService_Fiber optic\", \"InternetService_No\", \"Contract_Month-to-month\", \"Contract_One year\", \"Contract_Two year\", \"PaymentMethod_Bank transfer (automatic)\", \"PaymentMethod_Credit card (automatic)\", \"PaymentMethod_Electronic check\", \"PaymentMethod_Mailed check\", \"tenure\", \"MonthlyCharges\", \"TotalCharges\", \"TotalCharges_tenure\", \"MonthlyCharges_tenure\", \"avg_month_charges\"], \"y\": [\"gender\", \"SeniorCitizen\", \"Partner\", \"Dependents\", \"PhoneService\", \"OnlineSecurity\", \"OnlineBackup\", \"DeviceProtection\", \"TechSupport\", \"StreamingTV\", \"StreamingMovies\", \"PaperlessBilling\", \"Churn\", \"MultipleLines_No\", \"MultipleLines_No phone service\", \"MultipleLines_Yes\", \"InternetService_DSL\", \"InternetService_Fiber optic\", \"InternetService_No\", \"Contract_Month-to-month\", \"Contract_One year\", \"Contract_Two year\", \"PaymentMethod_Bank transfer (automatic)\", \"PaymentMethod_Credit card (automatic)\", \"PaymentMethod_Electronic check\", \"PaymentMethod_Mailed check\", \"tenure\", \"MonthlyCharges\", \"TotalCharges\", \"TotalCharges_tenure\", \"MonthlyCharges_tenure\", \"avg_month_charges\"], \"z\": [[1.0, -0.001819390613419179, -0.0013790513218356025, 0.010348917127614397, -0.007514979909200033, -0.01632782307070617, -0.013092839264555001, -0.0008067457759124324, -0.008507162405232782, -0.0071243969867245535, -0.010105418366566195, -0.011901894766838502, -0.008544643224947218, 0.0043346914502916285, 0.0075149799091999425, -0.008882737146286056, 0.00758357610303961, -0.011189259276385864, 0.004744965758849955, -0.0032507651194551004, 0.0077548529142672145, -0.003603167413572989, -0.015973079031173835, 0.001631872518613598, 0.0008437084888753327, 0.01319936726545174, 0.005285371870295646, -0.013779327268354416, 4.783950839776602e-05, 0.005054469118174045, -0.0030483552705343085, 0.004639752729912085], [-0.001819390613419179, 1.0, 0.01695661453202187, -0.21055006112684216, 0.008391611911217043, -0.0385763901686064, 0.06666279065142021, 0.059513871482029225, -0.060576839406188035, 0.10544501753678828, 0.11984236746151568, 0.15625775052783097, 0.1505410534156757, -0.13637672686229402, -0.008391611911217034, 0.14299625086621018, -0.10827563872848943, 0.25492331502717946, -0.18251949495535458, 0.13775207088551514, -0.0464907545657889, -0.11620511425710835, -0.01623474200582214, -0.024359419683712323, 0.17132216591713703, -0.15298719260173027, 0.01568347989913396, 0.21987422950593646, 0.10241060539532633, 0.01628334833352422, 0.031272420754458095, 0.01530238790396527], [-0.0013790513218356025, 0.01695661453202187, 1.0, 0.45226888584550023, 0.018397189302703662, 0.14334606167364233, 0.14184917072520303, 0.1535564364182745, 0.12020601780298455, 0.12448262672518244, 0.11810820943292764, -0.013956696136191696, -0.14998192562006138, -0.13002839561671578, -0.018397189302703666, 0.1425612874681736, -0.0010430787434336079, 0.0012346095228208073, -0.0002855204740384597, -0.2802019157901561, 0.08306706395255747, 0.24733370647615796, 0.11140561212215645, 0.08232738919649572, -0.08320661736633733, -0.09694798339506473, 0.38191150910757077, 0.09782497186892049, 0.31907236323857324, 0.3813605520785624, 0.35200885566740225, 0.3816996730135033], [0.010348917127614397, -0.21055006112684216, 0.45226888584550023, 1.0, -0.001077812708067608, 0.08078553224088346, 0.023638813060609963, 0.013899668260943368, 0.06305315799997827, -0.01649868035801052, -0.03837492560091315, -0.11013068597336993, -0.16312843938822, 0.023387669506115295, 0.0010778127080674446, -0.024306661314620996, 0.05159321756471237, -0.16410089031864167, 0.13838288994798562, -0.2297147909213749, 0.06922205672629726, 0.2016993304297039, 0.05236890928127545, 0.06113408322897806, -0.1492739811934336, 0.05644841359590588, 0.16338596691556453, -0.11234295350128225, 0.0646532494217739, 0.15983287932713344, 0.1390705877261361, 0.16251695135119998], [-0.007514979909200033, 0.008391611911217043, 0.018397189302703662, -0.001077812708067608, 1.0, -0.09167570469500017, -0.05213341919796151, -0.07007561533228862, -0.09513849428922488, -0.021382711870578185, -0.03347749718236395, 0.016696123642784135, 0.011691398865422323, 0.31521775126801543, -1.0, 0.2795295400049995, -0.45225528090657086, 0.29018311793843365, 0.1718171065699321, -0.0012425134067734023, -0.0031417807184111624, 0.0044422513152849235, 0.008271245210923577, -0.006916252198127548, 0.0027471183312986857, -0.004462839400732194, 0.007877333295041818, 0.2480330664757158, 0.11300826095473893, 0.012593990013283459, 0.02045220216034022, 0.007957717125226249], [-0.01632782307070617, -0.0385763901686064, 0.14334606167364233, 0.08078553224088346, -0.09167570469500017, 1.0, 0.28328454262626757, 0.274875003842449, 0.35445796164509147, 0.1755144708953688, 0.18742584957299618, -0.004051250607988492, -0.17126992353351678, -0.15167751168612081, 0.09167570469500017, 0.0985919934252315, 0.3203433737595294, -0.03050626904076453, -0.33279949932167546, -0.24684428487400414, 0.10065777311969464, 0.19169819815673583, 0.09436639279979232, 0.11547320256635303, -0.11229466175861408, -0.07991768713640306, 0.32829748818662485, 0.2964469592375873, 0.41261876950713655, 0.33169383027754334, 0.3019337309405064, 0.32811102871825787], [-0.013092839264555001, 0.06666279065142021, 0.14184917072520303, 0.023638813060609963, -0.05213341919796151, 0.28328454262626757, 1.0, 0.30305766643807824, 0.29370469187781045, 0.2816010622259753, 0.27452301070772545, 0.12705603268686044, -0.08230696876508349, -0.2307241996493635, 0.05213341919796151, 0.2022283972825372, 0.15676460995441888, 0.16594028590307677, -0.3809903317320751, -0.16439302987919688, 0.08411316021806066, 0.11139068731904943, 0.0869415675760231, 0.09045518641091457, -0.00036426636786500763, -0.17407470231312427, 0.36113847824658735, 0.4415290881871007, 0.510100290145439, 0.3634109766229255, 0.33470392918481345, 0.36039829539559814], [-0.0008067457759124324, 0.059513871482029225, 0.1535564364182745, 0.013899668260943368, -0.07007561533228862, 0.274875003842449, 0.30305766643807824, 1.0, 0.33285005080469243, 0.3899237975094597, 0.4023088228216018, 0.10407904724402045, -0.06619251684228997, -0.24084736328107104, 0.07007561533228862, 0.201732824517757, 0.14514955473692903, 0.17635617323471664, -0.3801513548956378, -0.22598757731112262, 0.10291089629343353, 0.16524753554250074, 0.08304690185342707, 0.11125168129784246, -0.003308493511411254, -0.18732483013668594, 0.3615199952862194, 0.48260691224313995, 0.5228814865154369, 0.36147391133502427, 0.33125861866860434, 0.36154971696105204], [-0.008507162405232782, -0.060576839406188035, 0.12020601780298455, 0.06305315799997827, -0.09513849428922488, 0.35445796164509147, 0.29370469187781045, 0.33285005080469243, 1.0, 0.277548599200549, 0.2801552432906342, 0.03753587307318976, -0.16471590834411207, -0.15553386914722026, 0.09513849428922488, 0.10042125595413272, 0.3121832985222757, -0.020298967520709605, -0.33569508671869736, -0.28549086901033593, 0.09625836225380952, 0.24092408252256528, 0.10047200087443556, 0.11702370730984143, -0.11480726996437085, -0.08463055196615278, 0.325288454100009, 0.33830139143424953, 0.4328683682410939, 0.326785586874316, 0.2949889482119371, 0.32521961541637456], [-0.0071243969867245535, 0.10544501753678828, 0.12448262672518244, -0.01649868035801052, -0.021382711870578185, 0.1755144708953688, 0.2816010622259753, 0.3899237975094597, 0.277548599200549, 1.0, 0.5333800979319763, 0.22424119793848596, 0.06325398027519404, -0.26746641467807136, 0.021382711870577976, 0.25780350066730157, 0.014973379079172382, 0.3297441152730512, -0.41495062156578044, -0.11254989712217289, 0.061929689963200855, 0.07212357537070835, 0.04612070051242859, 0.040010276337768505, 0.1447470086556032, -0.2477115493728633, 0.280263628074823, 0.6296678921767406, 0.5157090769923935, 0.2808064575749621, 0.2730202699049361, 0.27996230663075244], [-0.010105418366566195, 0.11984236746151568, 0.11810820943292764, -0.03837492560091315, -0.03347749718236395, 0.18742584957299618, 0.27452301070772545, 0.4023088228216018, 0.2801552432906342, 0.5333800979319763, 1.0, 0.21158250423808916, 0.06085993668146301, -0.2759953197780627, 0.03347749718236395, 0.2591943175468362, 0.02562310861129719, 0.3224574540559222, -0.41844975538334045, -0.11786687989290552, 0.06477997824381859, 0.07560257919382919, 0.04875484714119087, 0.048398314068082315, 0.13742008269944622, -0.2502897149395328, 0.2854022671060787, 0.6272347301103788, 0.5198665357835017, 0.287259482952882, 0.2784625069940648, 0.2854831362524482], [-0.011901894766838502, 0.15625775052783097, -0.013956696136191696, -0.11013068597336993, 0.016696123642784135, -0.004051250607988492, 0.12705603268686044, 0.10407904724402045, 0.03753587307318976, 0.22424119793848596, 0.21158250423808916, 1.0, 0.19145432108006671, -0.1519737778021082, -0.016696123642784142, 0.1637457730112591, -0.06338966821876392, 0.32647017160380964, -0.3205922451174622, 0.16829626845602835, -0.052278164693773076, -0.1462807050684952, -0.017468900682392235, -0.013726285095880284, 0.20842668228002995, -0.20398064814312206, 0.004823156615386272, 0.3519304153712528, 0.15782978286591698, 0.006223064730713061, 0.014999064786656873, 0.00434167329867312], [-0.008544643224947218, 0.1505410534156757, -0.14998192562006138, -0.16312843938822, 0.011691398865422323, -0.17126992353351678, -0.08230696876508349, -0.06619251684228997, -0.16471590834411207, 0.06325398027519404, 0.06085993668146301, 0.19145432108006671, 1.0, -0.03265360299730401, -0.01169139886542221, 0.040032739872523634, -0.12414142842590645, 0.30746259069818205, -0.22757762044656818, 0.40456455007784087, -0.17822502328994053, -0.30155233962397837, -0.1181359978280296, -0.1346868372340906, 0.30145463790858057, -0.09077284582582087, -0.3540493589532626, 0.1928582184700881, -0.1994840835675715, -0.34428507741138387, -0.3268521946793886, -0.35377490910585707], [0.0043346914502916285, -0.13637672686229402, -0.13002839561671578, 0.023387669506115295, 0.31521775126801543, -0.15167751168612081, -0.2307241996493635, -0.24084736328107104, -0.15553386914722026, -0.26746641467807136, -0.2759953197780627, -0.1519737778021082, -0.03265360299730401, 1.0, -0.3152177512680155, -0.8230760279128654, -0.06951498798055156, -0.19053099387424138, 0.3099843327828031, 0.08679791861868207, 0.0016944436455045328, -0.1027560050227385, -0.06966277653167001, -0.06371157499118037, -0.0809902106781048, 0.22239547449983668, -0.323890766966285, -0.3385136039067215, -0.39676537714107735, -0.32431756170203596, -0.30567888164892937, -0.3237691769450972], [0.0075149799091999425, -0.008391611911217034, -0.018397189302703666, 0.0010778127080674446, -1.0, 0.09167570469500017, 0.05213341919796151, 0.07007561533228862, 0.09513849428922488, 0.021382711870577976, 0.03347749718236395, -0.016696123642784142, -0.01169139886542221, -0.3152177512680155, 1.0, -0.2795295400049995, 0.45225528090657086, -0.29018311793843365, -0.1718171065699321, 0.0012425134067734103, 0.0031417807184113207, -0.004442251315284906, -0.008271245210923579, 0.006916252198127564, -0.0027471183312986857, 0.004462839400732508, -0.007877333295041807, -0.2480330664757158, -0.1130082609547389, -0.012593990013283476, -0.020452202160340244, -0.007957717125226237], [-0.008882737146286056, 0.14299625086621018, 0.1425612874681736, -0.024306661314620996, 0.2795295400049995, 0.0985919934252315, 0.2022283972825372, 0.201732824517757, 0.10042125595413272, 0.25780350066730157, 0.2591943175468362, 0.1637457730112591, 0.040032739872523634, -0.8230760279128654, -0.2795295400049995, 1.0, -0.2003183214156725, 0.3664202566051166, -0.21079354712189471, -0.08855832218643561, -0.003594461398434266, 0.10661820819152797, 0.07542871730303179, 0.06031899094084278, 0.08358299305536028, -0.22767156949803466, 0.33239924473562554, 0.4909121973267493, 0.4690421356971826, 0.33565367565064, 0.32149931318096814, 0.3323243351963331], [0.00758357610303961, -0.10827563872848943, -0.0010430787434336079, 0.05159321756471237, -0.45225528090657086, 0.3203433737595294, 0.15676460995441888, 0.14514955473692903, 0.3121832985222757, 0.014973379079172382, 0.02562310861129719, -0.06338966821876392, -0.12414142842590645, -0.06951498798055156, 0.45225528090657086, -0.2003183214156725, 1.0, -0.6416356650534906, -0.3799117751052334, -0.06522632996531619, 0.04729967349374622, 0.030923714855574744, 0.02475954021490298, 0.05122176476699011, -0.10429333541089097, 0.04275388869901973, 0.013786269825793156, -0.16136793538251534, -0.052189866637419764, 0.012485490177993793, 7.356463250132146e-05, 0.013486840552942131], [-0.011189259276385864, 0.25492331502717946, 0.0012346095228208073, -0.16410089031864167, 0.29018311793843365, -0.03050626904076453, 0.16594028590307677, 0.17635617323471664, -0.020298967520709605, 0.3297441152730512, 0.3224574540559222, 0.32647017160380964, 0.30746259069818205, -0.19053099387424138, -0.29018311793843365, 0.3664202566051166, -0.6416356650534906, 1.0, -0.4657363343235562, 0.24301351814831268, -0.07680902975096314, -0.20996452908904545, -0.022778855291876635, -0.050551991558036385, 0.3357634768102139, -0.3059839224841771, 0.017929529906438778, 0.7871948529419658, 0.3607687920142481, 0.021051821741246052, 0.04929501633353061, 0.017761951980582284], [0.004744965758849955, -0.18251949495535458, -0.0002855204740384597, 0.13838288994798562, 0.1718171065699321, -0.33279949932167546, -0.3809903317320751, -0.3801513548956378, -0.33569508671869736, -0.41495062156578044, -0.41844975538334045, -0.3205922451174622, -0.22757762044656818, 0.3099843327828031, -0.1718171065699321, -0.21079354712189471, -0.3799117751052334, -0.4657363343235562, 1.0, -0.217823505545489, 0.038061459724733744, 0.21754205606911817, -0.0010943032992050863, 0.0018701145623306124, -0.2846082097225956, 0.3196937439459745, -0.037528889581619734, -0.7631910615169571, -0.37487836259896, -0.039793659742096886, -0.05953525420313971, -0.03698132743894044], [-0.0032507651194551004, 0.13775207088551514, -0.2802019157901561, -0.2297147909213749, -0.0012425134067734023, -0.24684428487400414, -0.16439302987919688, -0.22598757731112262, -0.28549086901033593, -0.11254989712217289, -0.11786687989290552, 0.16829626845602835, 0.40456455007784087, 0.08679791861868207, 0.0012425134067734103, -0.08855832218643561, -0.06522632996531619, 0.24301351814831268, -0.217823505545489, 1.0, -0.5700527848944215, -0.6219327447713561, -0.18015909738683936, -0.20496021669474843, 0.33087881370583405, 0.006208692442055045, -0.649345648869048, 0.0589334582292538, -0.4467758743246882, -0.6424106530886872, -0.5493783436187444, -0.6490472178431379], [0.0077548529142672145, -0.0464907545657889, 0.08306706395255747, 0.06922205672629726, -0.0031417807184111624, 0.10065777311969464, 0.08411316021806066, 0.10291089629343353, 0.09625836225380952, 0.061929689963200855, 0.06477997824381859, -0.052278164693773076, -0.17822502328994053, 0.0016944436455045328, 0.0031417807184113207, -0.003594461398434266, 0.04729967349374622, -0.07680902975096314, 0.038061459724733744, -0.5700527848944215, 1.0, -0.28884268256780254, 0.05762874929825631, 0.06758968145792751, -0.10954646682258033, 0.0001971241890499786, 0.2023384083649546, 0.004809615120440435, 0.17056928655718714, 0.17587062205049822, 0.164025819357598, 0.20184147674591488], [-0.003603167413572989, -0.11620511425710835, 0.24733370647615796, 0.2016993304297039, 0.0044422513152849235, 0.19169819815673583, 0.11139068731904943, 0.16524753554250074, 0.24092408252256528, 0.07212357537070835, 0.07560257919382919, -0.1462807050684952, -0.30155233962397837, -0.1027560050227385, -0.004442251315284906, 0.10661820819152797, 0.030923714855574744, -0.20996452908904545, 0.21754205606911817, -0.6219327447713561, -0.28884268256780254, 1.0, 0.1550042180767056, 0.17440993895950943, -0.28114743393395547, -0.007422540118618717, 0.5638005002286687, -0.07325607300641665, 0.35803561609140894, 0.580945833792506, 0.4838294116746136, 0.5639263773982215], [-0.015973079031173835, -0.01623474200582214, 0.11140561212215645, 0.05236890928127545, 0.008271245210923577, 0.09436639279979232, 0.0869415675760231, 0.08304690185342707, 0.10047200087443556, 0.04612070051242859, 0.04875484714119087, -0.017468900682392235, -0.1181359978280296, -0.06966277653167001, -0.008271245210923579, 0.07542871730303179, 0.02475954021490298, -0.022778855291876635, -0.0010943032992050863, -0.18015909738683936, 0.05762874929825631, 0.1550042180767056, 1.0, -0.27842319712065355, -0.3772703602158491, -0.28809669563791657, 0.24382246495742915, 0.04240972759459293, 0.18611944938877964, 0.24394721422056376, 0.22123221256526218, 0.2426564112213155], [0.001631872518613598, -0.024359419683712323, 0.08232738919649572, 0.06113408322897806, -0.006916252198127548, 0.11547320256635303, 0.09045518641091457, 0.11125168129784246, 0.11702370730984143, 0.040010276337768505, 0.048398314068082315, -0.013726285095880284, -0.1346868372340906, -0.06371157499118037, 0.006916252198127564, 0.06031899094084278, 0.05122176476699011, -0.050551991558036385, 0.0018701145623306124, -0.20496021669474843, 0.06758968145792751, 0.17440993895950943, -0.27842319712065355, 1.0, -0.37397801626928234, -0.28558254792863036, 0.23280034413314615, 0.030054608328366407, 0.1826633671546002, 0.23127960150021054, 0.21266306000359528, 0.23330772454627896], [0.0008437084888753327, 0.17132216591713703, -0.08320661736633733, -0.1492739811934336, 0.0027471183312986857, -0.11229466175861408, -0.00036426636786500763, -0.003308493511411254, -0.11480726996437085, 0.1447470086556032, 0.13742008269944622, 0.20842668228002995, 0.30145463790858057, -0.0809902106781048, -0.0027471183312986857, 0.08358299305536028, -0.10429333541089097, 0.3357634768102139, -0.2846082097225956, 0.33087881370583405, -0.10954646682258033, -0.28114743393395547, -0.3772703602158491, -0.37397801626928234, 1.0, -0.3869714587097063, -0.21019749610817867, 0.27111737739356384, -0.060436278689198375, -0.21029920576372518, -0.1848658934887741, -0.20989007342744784], [0.01319936726545174, -0.15298719260173027, -0.09694798339506473, 0.05644841359590588, -0.004462839400732194, -0.07991768713640306, -0.17407470231312427, -0.18732483013668594, -0.08463055196615278, -0.2477115493728633, -0.2502897149395328, -0.20398064814312206, -0.09077284582582087, 0.22239547449983668, 0.004462839400732508, -0.22767156949803466, 0.04275388869901973, -0.3059839224841771, 0.3196937439459745, 0.006208692442055045, 0.0001971241890499786, -0.007422540118618717, -0.28809669563791657, -0.28558254792863036, -0.3869714587097063, 1.0, -0.23218078070201725, -0.37656828808083825, -0.29470837017550655, -0.23069712031446035, -0.21866825161747971, -0.2318749530937623], [0.005285371870295646, 0.01568347989913396, 0.38191150910757077, 0.16338596691556453, 0.007877333295041818, 0.32829748818662485, 0.36113847824658735, 0.3615199952862194, 0.325288454100009, 0.280263628074823, 0.2854022671060787, 0.004823156615386272, -0.3540493589532626, -0.323890766966285, -0.007877333295041807, 0.33239924473562554, 0.013786269825793156, 0.017929529906438778, -0.037528889581619734, -0.649345648869048, 0.2023384083649546, 0.5638005002286687, 0.24382246495742915, 0.23280034413314615, -0.21019749610817867, -0.23218078070201725, 1.0, 0.2468617666408947, 0.8258804609332017, 0.9919837506572002, 0.8575698213649838, 0.9989308049691923], [-0.013779327268354416, 0.21987422950593646, 0.09782497186892049, -0.11234295350128225, 0.2480330664757158, 0.2964469592375873, 0.4415290881871007, 0.48260691224313995, 0.33830139143424953, 0.6296678921767406, 0.6272347301103788, 0.3519304153712528, 0.1928582184700881, -0.3385136039067215, -0.2480330664757158, 0.4909121973267493, -0.16136793538251534, 0.7871948529419658, -0.7631910615169571, 0.0589334582292538, 0.004809615120440435, -0.07325607300641665, 0.04240972759459293, 0.030054608328366407, 0.27111737739356384, -0.37656828808083825, 0.2468617666408947, 1.0, 0.6510648032262032, 0.25110583181301643, 0.2581980255865873, 0.246501744370659], [4.783950839776602e-05, 0.10241060539532633, 0.31907236323857324, 0.0646532494217739, 0.11300826095473893, 0.41261876950713655, 0.510100290145439, 0.5228814865154369, 0.4328683682410939, 0.5157090769923935, 0.5198665357835017, 0.15782978286591698, -0.1994840835675715, -0.39676537714107735, -0.1130082609547389, 0.4690421356971826, -0.052189866637419764, 0.3607687920142481, -0.37487836259896, -0.4467758743246882, 0.17056928655718714, 0.35803561609140894, 0.18611944938877964, 0.1826633671546002, -0.060436278689198375, -0.29470837017550655, 0.8258804609332017, 0.6510648032262032, 1.0, 0.8294059575864499, 0.7231586821352854, 0.8261605364106668], [0.005054469118174045, 0.01628334833352422, 0.3813605520785624, 0.15983287932713344, 0.012593990013283459, 0.33169383027754334, 0.3634109766229255, 0.36147391133502427, 0.326785586874316, 0.2808064575749621, 0.287259482952882, 0.006223064730713061, -0.34428507741138387, -0.32431756170203596, -0.012593990013283476, 0.33565367565064, 0.012485490177993793, 0.021051821741246052, -0.039793659742096886, -0.6424106530886872, 0.17587062205049822, 0.580945833792506, 0.24394721422056376, 0.23127960150021054, -0.21029920576372518, -0.23069712031446035, 0.9919837506572002, 0.25110583181301643, 0.8294059575864499, 1.0, 0.8822650512691953, 0.9909956562369509], [-0.0030483552705343085, 0.031272420754458095, 0.35200885566740225, 0.1390705877261361, 0.02045220216034022, 0.3019337309405064, 0.33470392918481345, 0.33125861866860434, 0.2949889482119371, 0.2730202699049361, 0.2784625069940648, 0.014999064786656873, -0.3268521946793886, -0.30567888164892937, -0.020452202160340244, 0.32149931318096814, 7.356463250132146e-05, 0.04929501633353061, -0.05953525420313971, -0.5493783436187444, 0.164025819357598, 0.4838294116746136, 0.22123221256526218, 0.21266306000359528, -0.1848658934887741, -0.21866825161747971, 0.8575698213649838, 0.2581980255865873, 0.7231586821352854, 0.8822650512691953, 1.0, 0.8566700981971004], [0.004639752729912085, 0.01530238790396527, 0.3816996730135033, 0.16251695135119998, 0.007957717125226249, 0.32811102871825787, 0.36039829539559814, 0.36154971696105204, 0.32521961541637456, 0.27996230663075244, 0.2854831362524482, 0.00434167329867312, -0.35377490910585707, -0.3237691769450972, -0.007957717125226237, 0.3323243351963331, 0.013486840552942131, 0.017761951980582284, -0.03698132743894044, -0.6490472178431379, 0.20184147674591488, 0.5639263773982215, 0.2426564112213155, 0.23330772454627896, -0.20989007342744784, -0.2318749530937623, 0.9989308049691923, 0.246501744370659, 0.8261605364106668, 0.9909956562369509, 0.8566700981971004, 1.0]]}],\n",
       "                        {\"autosize\": false, \"height\": 720, \"margin\": {\"b\": 210, \"l\": 210, \"r\": 0, \"t\": 25}, \"template\": {\"data\": {\"bar\": [{\"error_x\": {\"color\": \"#2a3f5f\"}, \"error_y\": {\"color\": \"#2a3f5f\"}, \"marker\": {\"line\": {\"color\": \"#E5ECF6\", \"width\": 0.5}}, \"type\": \"bar\"}], \"barpolar\": [{\"marker\": {\"line\": {\"color\": \"#E5ECF6\", \"width\": 0.5}}, \"type\": \"barpolar\"}], \"carpet\": [{\"aaxis\": {\"endlinecolor\": \"#2a3f5f\", \"gridcolor\": \"white\", \"linecolor\": \"white\", \"minorgridcolor\": \"white\", \"startlinecolor\": \"#2a3f5f\"}, \"baxis\": {\"endlinecolor\": \"#2a3f5f\", \"gridcolor\": \"white\", \"linecolor\": \"white\", \"minorgridcolor\": \"white\", \"startlinecolor\": \"#2a3f5f\"}, \"type\": \"carpet\"}], \"choropleth\": [{\"colorbar\": {\"outlinewidth\": 0, \"ticks\": \"\"}, \"type\": \"choropleth\"}], \"contour\": [{\"colorbar\": {\"outlinewidth\": 0, \"ticks\": \"\"}, \"colorscale\": [[0.0, \"#0d0887\"], [0.1111111111111111, \"#46039f\"], [0.2222222222222222, \"#7201a8\"], [0.3333333333333333, \"#9c179e\"], [0.4444444444444444, \"#bd3786\"], [0.5555555555555556, \"#d8576b\"], [0.6666666666666666, \"#ed7953\"], [0.7777777777777778, \"#fb9f3a\"], [0.8888888888888888, \"#fdca26\"], [1.0, \"#f0f921\"]], \"type\": \"contour\"}], \"contourcarpet\": [{\"colorbar\": {\"outlinewidth\": 0, \"ticks\": \"\"}, \"type\": \"contourcarpet\"}], \"heatmap\": [{\"colorbar\": {\"outlinewidth\": 0, \"ticks\": \"\"}, \"colorscale\": [[0.0, \"#0d0887\"], [0.1111111111111111, \"#46039f\"], [0.2222222222222222, \"#7201a8\"], [0.3333333333333333, \"#9c179e\"], [0.4444444444444444, \"#bd3786\"], [0.5555555555555556, \"#d8576b\"], [0.6666666666666666, \"#ed7953\"], [0.7777777777777778, \"#fb9f3a\"], [0.8888888888888888, \"#fdca26\"], [1.0, \"#f0f921\"]], \"type\": \"heatmap\"}], \"heatmapgl\": [{\"colorbar\": {\"outlinewidth\": 0, \"ticks\": \"\"}, \"colorscale\": [[0.0, \"#0d0887\"], [0.1111111111111111, \"#46039f\"], [0.2222222222222222, \"#7201a8\"], [0.3333333333333333, \"#9c179e\"], [0.4444444444444444, \"#bd3786\"], [0.5555555555555556, \"#d8576b\"], [0.6666666666666666, \"#ed7953\"], [0.7777777777777778, \"#fb9f3a\"], [0.8888888888888888, \"#fdca26\"], [1.0, \"#f0f921\"]], \"type\": \"heatmapgl\"}], \"histogram\": [{\"marker\": {\"colorbar\": {\"outlinewidth\": 0, \"ticks\": \"\"}}, \"type\": \"histogram\"}], \"histogram2d\": [{\"colorbar\": {\"outlinewidth\": 0, \"ticks\": \"\"}, \"colorscale\": [[0.0, \"#0d0887\"], [0.1111111111111111, \"#46039f\"], [0.2222222222222222, \"#7201a8\"], [0.3333333333333333, \"#9c179e\"], [0.4444444444444444, \"#bd3786\"], [0.5555555555555556, \"#d8576b\"], [0.6666666666666666, \"#ed7953\"], [0.7777777777777778, \"#fb9f3a\"], [0.8888888888888888, \"#fdca26\"], [1.0, \"#f0f921\"]], \"type\": \"histogram2d\"}], \"histogram2dcontour\": [{\"colorbar\": {\"outlinewidth\": 0, \"ticks\": \"\"}, \"colorscale\": [[0.0, \"#0d0887\"], [0.1111111111111111, \"#46039f\"], [0.2222222222222222, \"#7201a8\"], [0.3333333333333333, \"#9c179e\"], [0.4444444444444444, \"#bd3786\"], [0.5555555555555556, \"#d8576b\"], [0.6666666666666666, \"#ed7953\"], [0.7777777777777778, \"#fb9f3a\"], [0.8888888888888888, \"#fdca26\"], [1.0, \"#f0f921\"]], \"type\": \"histogram2dcontour\"}], \"mesh3d\": [{\"colorbar\": {\"outlinewidth\": 0, \"ticks\": \"\"}, \"type\": \"mesh3d\"}], \"parcoords\": [{\"line\": {\"colorbar\": {\"outlinewidth\": 0, \"ticks\": \"\"}}, \"type\": \"parcoords\"}], \"pie\": [{\"automargin\": true, \"type\": \"pie\"}], \"scatter\": [{\"marker\": {\"colorbar\": {\"outlinewidth\": 0, \"ticks\": \"\"}}, \"type\": \"scatter\"}], \"scatter3d\": [{\"line\": {\"colorbar\": {\"outlinewidth\": 0, \"ticks\": \"\"}}, \"marker\": {\"colorbar\": {\"outlinewidth\": 0, \"ticks\": \"\"}}, \"type\": \"scatter3d\"}], \"scattercarpet\": [{\"marker\": {\"colorbar\": {\"outlinewidth\": 0, \"ticks\": \"\"}}, \"type\": \"scattercarpet\"}], \"scattergeo\": [{\"marker\": {\"colorbar\": {\"outlinewidth\": 0, \"ticks\": \"\"}}, \"type\": \"scattergeo\"}], \"scattergl\": [{\"marker\": {\"colorbar\": {\"outlinewidth\": 0, \"ticks\": \"\"}}, \"type\": \"scattergl\"}], \"scattermapbox\": [{\"marker\": {\"colorbar\": {\"outlinewidth\": 0, \"ticks\": \"\"}}, \"type\": \"scattermapbox\"}], \"scatterpolar\": [{\"marker\": {\"colorbar\": {\"outlinewidth\": 0, \"ticks\": \"\"}}, \"type\": \"scatterpolar\"}], \"scatterpolargl\": [{\"marker\": {\"colorbar\": {\"outlinewidth\": 0, \"ticks\": \"\"}}, \"type\": \"scatterpolargl\"}], \"scatterternary\": [{\"marker\": {\"colorbar\": {\"outlinewidth\": 0, \"ticks\": \"\"}}, \"type\": \"scatterternary\"}], \"surface\": [{\"colorbar\": {\"outlinewidth\": 0, \"ticks\": \"\"}, \"colorscale\": [[0.0, \"#0d0887\"], [0.1111111111111111, \"#46039f\"], [0.2222222222222222, \"#7201a8\"], [0.3333333333333333, \"#9c179e\"], [0.4444444444444444, \"#bd3786\"], [0.5555555555555556, \"#d8576b\"], [0.6666666666666666, \"#ed7953\"], [0.7777777777777778, \"#fb9f3a\"], [0.8888888888888888, \"#fdca26\"], [1.0, \"#f0f921\"]], \"type\": \"surface\"}], \"table\": [{\"cells\": {\"fill\": {\"color\": \"#EBF0F8\"}, \"line\": {\"color\": \"white\"}}, \"header\": {\"fill\": {\"color\": \"#C8D4E3\"}, \"line\": {\"color\": \"white\"}}, \"type\": \"table\"}]}, \"layout\": {\"annotationdefaults\": {\"arrowcolor\": \"#2a3f5f\", \"arrowhead\": 0, \"arrowwidth\": 1}, \"coloraxis\": {\"colorbar\": {\"outlinewidth\": 0, \"ticks\": \"\"}}, \"colorscale\": {\"diverging\": [[0, \"#8e0152\"], [0.1, \"#c51b7d\"], [0.2, \"#de77ae\"], [0.3, \"#f1b6da\"], [0.4, \"#fde0ef\"], [0.5, \"#f7f7f7\"], [0.6, \"#e6f5d0\"], [0.7, \"#b8e186\"], [0.8, \"#7fbc41\"], [0.9, \"#4d9221\"], [1, \"#276419\"]], \"sequential\": [[0.0, \"#0d0887\"], [0.1111111111111111, \"#46039f\"], [0.2222222222222222, \"#7201a8\"], [0.3333333333333333, \"#9c179e\"], [0.4444444444444444, \"#bd3786\"], [0.5555555555555556, \"#d8576b\"], [0.6666666666666666, \"#ed7953\"], [0.7777777777777778, \"#fb9f3a\"], [0.8888888888888888, \"#fdca26\"], [1.0, \"#f0f921\"]], \"sequentialminus\": [[0.0, \"#0d0887\"], [0.1111111111111111, \"#46039f\"], [0.2222222222222222, \"#7201a8\"], [0.3333333333333333, \"#9c179e\"], [0.4444444444444444, \"#bd3786\"], [0.5555555555555556, \"#d8576b\"], [0.6666666666666666, \"#ed7953\"], [0.7777777777777778, \"#fb9f3a\"], [0.8888888888888888, \"#fdca26\"], [1.0, \"#f0f921\"]]}, \"colorway\": [\"#636efa\", \"#EF553B\", \"#00cc96\", \"#ab63fa\", \"#FFA15A\", \"#19d3f3\", \"#FF6692\", \"#B6E880\", \"#FF97FF\", \"#FECB52\"], \"font\": {\"color\": \"#2a3f5f\"}, \"geo\": {\"bgcolor\": \"white\", \"lakecolor\": \"white\", \"landcolor\": \"#E5ECF6\", \"showlakes\": true, \"showland\": true, \"subunitcolor\": \"white\"}, \"hoverlabel\": {\"align\": \"left\"}, \"hovermode\": \"closest\", \"mapbox\": {\"style\": \"light\"}, \"paper_bgcolor\": \"white\", \"plot_bgcolor\": \"#E5ECF6\", \"polar\": {\"angularaxis\": {\"gridcolor\": \"white\", \"linecolor\": \"white\", \"ticks\": \"\"}, \"bgcolor\": \"#E5ECF6\", \"radialaxis\": {\"gridcolor\": \"white\", \"linecolor\": \"white\", \"ticks\": \"\"}}, \"scene\": {\"xaxis\": {\"backgroundcolor\": \"#E5ECF6\", \"gridcolor\": \"white\", \"gridwidth\": 2, \"linecolor\": \"white\", \"showbackground\": true, \"ticks\": \"\", \"zerolinecolor\": \"white\"}, \"yaxis\": {\"backgroundcolor\": \"#E5ECF6\", \"gridcolor\": \"white\", \"gridwidth\": 2, \"linecolor\": \"white\", \"showbackground\": true, \"ticks\": \"\", \"zerolinecolor\": \"white\"}, \"zaxis\": {\"backgroundcolor\": \"#E5ECF6\", \"gridcolor\": \"white\", \"gridwidth\": 2, \"linecolor\": \"white\", \"showbackground\": true, \"ticks\": \"\", \"zerolinecolor\": \"white\"}}, \"shapedefaults\": {\"line\": {\"color\": \"#2a3f5f\"}}, \"ternary\": {\"aaxis\": {\"gridcolor\": \"white\", \"linecolor\": \"white\", \"ticks\": \"\"}, \"baxis\": {\"gridcolor\": \"white\", \"linecolor\": \"white\", \"ticks\": \"\"}, \"bgcolor\": \"#E5ECF6\", \"caxis\": {\"gridcolor\": \"white\", \"linecolor\": \"white\", \"ticks\": \"\"}}, \"title\": {\"x\": 0.05}, \"xaxis\": {\"automargin\": true, \"gridcolor\": \"white\", \"linecolor\": \"white\", \"ticks\": \"\", \"title\": {\"standoff\": 15}, \"zerolinecolor\": \"white\", \"zerolinewidth\": 2}, \"yaxis\": {\"automargin\": true, \"gridcolor\": \"white\", \"linecolor\": \"white\", \"ticks\": \"\", \"title\": {\"standoff\": 15}, \"zerolinecolor\": \"white\", \"zerolinewidth\": 2}}}, \"title\": {\"text\": \"Correlation Matrix for variables\"}, \"width\": 800, \"xaxis\": {\"tickfont\": {\"size\": 9}}, \"yaxis\": {\"tickfont\": {\"size\": 9}}},\n",
       "                        {\"responsive\": true}\n",
       "                    ).then(function(){\n",
       "                            \n",
       "var gd = document.getElementById('4ca411be-2e98-4bb7-addb-922adea3e934');\n",
       "var x = new MutationObserver(function (mutations, observer) {{\n",
       "        var display = window.getComputedStyle(gd).display;\n",
       "        if (!display || display === 'none') {{\n",
       "            console.log([gd, 'removed!']);\n",
       "            Plotly.purge(gd);\n",
       "            observer.disconnect();\n",
       "        }}\n",
       "}});\n",
       "\n",
       "// Listen for the removal of the full notebook cells\n",
       "var notebookContainer = gd.closest('#notebook-container');\n",
       "if (notebookContainer) {{\n",
       "    x.observe(notebookContainer, {childList: true});\n",
       "}}\n",
       "\n",
       "// Listen for the clearing of the current output cell\n",
       "var outputEl = gd.closest('.output');\n",
       "if (outputEl) {{\n",
       "    x.observe(outputEl, {childList: true});\n",
       "}}\n",
       "\n",
       "                        })\n",
       "                };\n",
       "                });\n",
       "            </script>\n",
       "        </div>"
      ]
     },
     "metadata": {},
     "output_type": "display_data"
    }
   ],
   "source": [
    "#correlation\n",
    "correlation = telcom.corr()\n",
    "#tick labels\n",
    "matrix_cols = correlation.columns.tolist()\n",
    "#convert to array\n",
    "corr_array  = np.array(correlation)\n",
    "\n",
    "#Plotting\n",
    "trace = go.Heatmap(z = corr_array,\n",
    "                   x = matrix_cols,\n",
    "                   y = matrix_cols,\n",
    "                   colorscale = \"Viridis\",\n",
    "                   colorbar   = dict(title = \"Pearson Correlation coefficient\",\n",
    "                                     titleside = \"right\"\n",
    "                                    ) ,\n",
    "                  )\n",
    "\n",
    "layout = go.Layout(dict(title = \"Correlation Matrix for variables\",\n",
    "                        autosize = False,\n",
    "                        height  = 720,\n",
    "                        width   = 800,\n",
    "                        margin  = dict(r = 0 ,l = 210,\n",
    "                                       t = 25,b = 210,\n",
    "                                      ),\n",
    "                        yaxis   = dict(tickfont = dict(size = 9)),\n",
    "                        xaxis   = dict(tickfont = dict(size = 9))\n",
    "                       )\n",
    "                  )\n",
    "\n",
    "data = [trace]\n",
    "fig = go.Figure(data=data,layout=layout)\n",
    "py.iplot(fig)"
   ]
  },
  {
   "cell_type": "code",
   "execution_count": 9,
   "metadata": {},
   "outputs": [
    {
     "name": "stdout",
     "output_type": "stream",
     "text": [
      "LogisticRegression(multi_class='ovr', n_jobs=1, solver='liblinear')\n",
      "\n",
      " Classification report : \n",
      "               precision    recall  f1-score   support\n",
      "\n",
      "           0       0.83      0.91      0.87      1268\n",
      "           1       0.69      0.53      0.60       490\n",
      "\n",
      "    accuracy                           0.80      1758\n",
      "   macro avg       0.76      0.72      0.74      1758\n",
      "weighted avg       0.79      0.80      0.79      1758\n",
      "\n",
      "Accuracy   Score :  0.8031854379977247\n",
      "Area under curve :  0.7201908839245477 \n",
      "\n"
     ]
    },
    {
     "name": "stderr",
     "output_type": "stream",
     "text": [
      "D:\\Compile\\Anaconda3\\lib\\site-packages\\plotly\\tools.py:465: DeprecationWarning:\n",
      "\n",
      "plotly.tools.make_subplots is deprecated, please use plotly.subplots.make_subplots instead\n",
      "\n"
     ]
    },
    {
     "data": {
      "application/vnd.plotly.v1+json": {
       "config": {
        "linkText": "Export to plot.ly",
        "plotlyServerURL": "https://plot.ly",
        "showLink": false
       },
       "data": [
        {
         "colorscale": [
          [
           0,
           "rgb(0,0,255)"
          ],
          [
           0.1,
           "rgb(51,153,255)"
          ],
          [
           0.2,
           "rgb(102,204,255)"
          ],
          [
           0.3,
           "rgb(153,204,255)"
          ],
          [
           0.4,
           "rgb(204,204,255)"
          ],
          [
           0.5,
           "rgb(255,255,255)"
          ],
          [
           0.6,
           "rgb(255,204,255)"
          ],
          [
           0.7,
           "rgb(255,153,255)"
          ],
          [
           0.8,
           "rgb(255,102,204)"
          ],
          [
           0.9,
           "rgb(255,102,102)"
          ],
          [
           1,
           "rgb(255,0,0)"
          ]
         ],
         "name": "matrix",
         "showscale": false,
         "type": "heatmap",
         "x": [
          "Not churn",
          "Churn"
         ],
         "xaxis": "x",
         "y": [
          "Not churn",
          "Churn"
         ],
         "yaxis": "y",
         "z": [
          [
           1151,
           117
          ],
          [
           229,
           261
          ]
         ]
        },
        {
         "line": {
          "color": "rgb(22, 96, 167)",
          "width": 2
         },
         "name": "Roc : 0.7201908839245477",
         "type": "scatter",
         "x": [
          0,
          0,
          0,
          0.0015772870662460567,
          0.0015772870662460567,
          0.002365930599369085,
          0.002365930599369085,
          0.00473186119873817,
          0.00473186119873817,
          0.005520504731861199,
          0.005520504731861199,
          0.006309148264984227,
          0.006309148264984227,
          0.007097791798107256,
          0.007097791798107256,
          0.007886435331230283,
          0.007886435331230283,
          0.00946372239747634,
          0.00946372239747634,
          0.011041009463722398,
          0.011041009463722398,
          0.011829652996845425,
          0.011829652996845425,
          0.012618296529968454,
          0.012618296529968454,
          0.013406940063091483,
          0.013406940063091483,
          0.014195583596214511,
          0.014195583596214511,
          0.01498422712933754,
          0.01498422712933754,
          0.015772870662460567,
          0.015772870662460567,
          0.016561514195583597,
          0.016561514195583597,
          0.017350157728706624,
          0.017350157728706624,
          0.018138801261829655,
          0.018138801261829655,
          0.01971608832807571,
          0.01971608832807571,
          0.021293375394321766,
          0.021293375394321766,
          0.022082018927444796,
          0.022082018927444796,
          0.022870662460567823,
          0.022870662460567823,
          0.02365930599369085,
          0.02365930599369085,
          0.02444794952681388,
          0.02444794952681388,
          0.025236593059936908,
          0.025236593059936908,
          0.026025236593059938,
          0.026025236593059938,
          0.026813880126182965,
          0.026813880126182965,
          0.027602523659305992,
          0.027602523659305992,
          0.02917981072555205,
          0.02917981072555205,
          0.031545741324921134,
          0.031545741324921134,
          0.033123028391167195,
          0.033123028391167195,
          0.03470031545741325,
          0.03470031545741325,
          0.03548895899053628,
          0.03548895899053628,
          0.03627760252365931,
          0.03627760252365931,
          0.03706624605678233,
          0.03706624605678233,
          0.03785488958990536,
          0.03785488958990536,
          0.03943217665615142,
          0.03943217665615142,
          0.04022082018927445,
          0.04022082018927445,
          0.04100946372239748,
          0.04100946372239748,
          0.04258675078864353,
          0.04258675078864353,
          0.04337539432176656,
          0.04337539432176656,
          0.04652996845425868,
          0.04652996845425868,
          0.0473186119873817,
          0.0473186119873817,
          0.04968454258675079,
          0.04968454258675079,
          0.050473186119873815,
          0.050473186119873815,
          0.0528391167192429,
          0.0528391167192429,
          0.05362776025236593,
          0.05362776025236593,
          0.057570977917981075,
          0.057570977917981075,
          0.0583596214511041,
          0.0583596214511041,
          0.05914826498422713,
          0.05914826498422713,
          0.05993690851735016,
          0.05993690851735016,
          0.06072555205047318,
          0.06072555205047318,
          0.06309148264984227,
          0.06309148264984227,
          0.0638801261829653,
          0.0638801261829653,
          0.06466876971608833,
          0.06466876971608833,
          0.06703470031545741,
          0.06703470031545741,
          0.06782334384858044,
          0.06782334384858044,
          0.07018927444794952,
          0.07018927444794952,
          0.07176656151419558,
          0.07176656151419558,
          0.07334384858044164,
          0.07334384858044164,
          0.07413249211356467,
          0.07413249211356467,
          0.0749211356466877,
          0.0749211356466877,
          0.07728706624605679,
          0.07728706624605679,
          0.07886435331230283,
          0.07886435331230283,
          0.07965299684542587,
          0.07965299684542587,
          0.0804416403785489,
          0.0804416403785489,
          0.08123028391167192,
          0.08123028391167192,
          0.083596214511041,
          0.083596214511041,
          0.08438485804416404,
          0.08438485804416404,
          0.0859621451104101,
          0.0859621451104101,
          0.08832807570977919,
          0.08832807570977919,
          0.09069400630914827,
          0.09069400630914827,
          0.0914826498422713,
          0.0914826498422713,
          0.09227129337539432,
          0.09227129337539432,
          0.09305993690851735,
          0.09305993690851735,
          0.09542586750788644,
          0.09542586750788644,
          0.09621451104100946,
          0.09621451104100946,
          0.09779179810725552,
          0.09779179810725552,
          0.09936908517350158,
          0.09936908517350158,
          0.10173501577287067,
          0.10173501577287067,
          0.10252365930599369,
          0.10252365930599369,
          0.10331230283911672,
          0.10331230283911672,
          0.1056782334384858,
          0.1056782334384858,
          0.10646687697160884,
          0.10646687697160884,
          0.10725552050473186,
          0.10725552050473186,
          0.10883280757097792,
          0.10883280757097792,
          0.111198738170347,
          0.111198738170347,
          0.11198738170347003,
          0.11198738170347003,
          0.11356466876971609,
          0.11356466876971609,
          0.11435331230283911,
          0.11435331230283911,
          0.1167192429022082,
          0.1167192429022082,
          0.11750788643533124,
          0.11750788643533124,
          0.11829652996845426,
          0.11829652996845426,
          0.12145110410094637,
          0.12145110410094637,
          0.12381703470031545,
          0.12381703470031545,
          0.12460567823343849,
          0.12460567823343849,
          0.1253943217665615,
          0.1253943217665615,
          0.12618296529968454,
          0.12618296529968454,
          0.13012618296529968,
          0.13012618296529968,
          0.13249211356466878,
          0.13249211356466878,
          0.1332807570977918,
          0.1332807570977918,
          0.13406940063091483,
          0.13406940063091483,
          0.138801261829653,
          0.138801261829653,
          0.1411671924290221,
          0.1411671924290221,
          0.14195583596214512,
          0.14195583596214512,
          0.14274447949526814,
          0.14274447949526814,
          0.1443217665615142,
          0.1443217665615142,
          0.1474763406940063,
          0.1474763406940063,
          0.14905362776025236,
          0.14905362776025236,
          0.1498422712933754,
          0.1498422712933754,
          0.15220820189274448,
          0.15220820189274448,
          0.1529968454258675,
          0.1529968454258675,
          0.15378548895899052,
          0.15378548895899052,
          0.15772870662460567,
          0.15772870662460567,
          0.16009463722397477,
          0.16009463722397477,
          0.1608832807570978,
          0.1608832807570978,
          0.1640378548895899,
          0.1640378548895899,
          0.16876971608832808,
          0.16876971608832808,
          0.1750788643533123,
          0.1750788643533123,
          0.17823343848580442,
          0.17823343848580442,
          0.17981072555205047,
          0.17981072555205047,
          0.18138801261829654,
          0.18138801261829654,
          0.18217665615141956,
          0.18217665615141956,
          0.1837539432176656,
          0.1837539432176656,
          0.1861198738170347,
          0.1861198738170347,
          0.18848580441640378,
          0.18848580441640378,
          0.1892744479495268,
          0.1892744479495268,
          0.19321766561514195,
          0.19321766561514195,
          0.19479495268138802,
          0.19479495268138802,
          0.19637223974763407,
          0.19637223974763407,
          0.19794952681388012,
          0.19794952681388012,
          0.1995268138801262,
          0.1995268138801262,
          0.20031545741324921,
          0.20031545741324921,
          0.20110410094637224,
          0.20110410094637224,
          0.20504731861198738,
          0.20504731861198738,
          0.2058359621451104,
          0.2058359621451104,
          0.20662460567823343,
          0.20662460567823343,
          0.20899053627760253,
          0.20899053627760253,
          0.21214511041009465,
          0.21214511041009465,
          0.2200315457413249,
          0.2200315457413249,
          0.221608832807571,
          0.221608832807571,
          0.222397476340694,
          0.222397476340694,
          0.22397476340694006,
          0.22397476340694006,
          0.22555205047318613,
          0.22555205047318613,
          0.22949526813880125,
          0.22949526813880125,
          0.23264984227129337,
          0.23264984227129337,
          0.2334384858044164,
          0.2334384858044164,
          0.23501577287066247,
          0.23501577287066247,
          0.2358044164037855,
          0.2358044164037855,
          0.23895899053627762,
          0.23895899053627762,
          0.2444794952681388,
          0.2444794952681388,
          0.24605678233438485,
          0.24605678233438485,
          0.25157728706624605,
          0.25157728706624605,
          0.25236593059936907,
          0.25236593059936907,
          0.2539432176656151,
          0.2539432176656151,
          0.26025236593059936,
          0.26025236593059936,
          0.2634069400630915,
          0.2634069400630915,
          0.2665615141955836,
          0.2665615141955836,
          0.27681388012618297,
          0.27681388012618297,
          0.27917981072555204,
          0.27917981072555204,
          0.27996845425867506,
          0.27996845425867506,
          0.2831230283911672,
          0.2831230283911672,
          0.28391167192429023,
          0.28391167192429023,
          0.2854889589905363,
          0.2854889589905363,
          0.2886435331230284,
          0.2886435331230284,
          0.2917981072555205,
          0.29258675078864355,
          0.29337539432176657,
          0.2949526813880126,
          0.29652996845425866,
          0.29652996845425866,
          0.2981072555205047,
          0.2981072555205047,
          0.305993690851735,
          0.305993690851735,
          0.306782334384858,
          0.306782334384858,
          0.30757097791798105,
          0.30757097791798105,
          0.31230283911671924,
          0.31230283911671924,
          0.3146687697160883,
          0.3146687697160883,
          0.31545741324921134,
          0.31545741324921134,
          0.31782334384858046,
          0.31782334384858046,
          0.3186119873817035,
          0.3186119873817035,
          0.32097791798107256,
          0.32097791798107256,
          0.3249211356466877,
          0.3249211356466877,
          0.3280757097791798,
          0.3280757097791798,
          0.32965299684542587,
          0.32965299684542587,
          0.34069400630914826,
          0.34069400630914826,
          0.3422712933753943,
          0.3422712933753943,
          0.3462145110410095,
          0.3462145110410095,
          0.34858044164037855,
          0.34858044164037855,
          0.34936908517350157,
          0.34936908517350157,
          0.3548895899053628,
          0.3548895899053628,
          0.3556782334384858,
          0.3556782334384858,
          0.35962145110410093,
          0.35962145110410093,
          0.361198738170347,
          0.361198738170347,
          0.36198738170347006,
          0.36198738170347006,
          0.3627760252365931,
          0.3627760252365931,
          0.3801261829652997,
          0.3801261829652997,
          0.38485804416403785,
          0.38485804416403785,
          0.39274447949526814,
          0.39274447949526814,
          0.39668769716088326,
          0.39668769716088326,
          0.3990536277602524,
          0.3990536277602524,
          0.40457413249211355,
          0.40457413249211355,
          0.40930599369085174,
          0.40930599369085174,
          0.41009463722397477,
          0.41009463722397477,
          0.41324921135646686,
          0.41324921135646686,
          0.4353312302839117,
          0.4353312302839117,
          0.44637223974763407,
          0.44637223974763407,
          0.4668769716088328,
          0.4668769716088328,
          0.4747634069400631,
          0.4747634069400631,
          0.48501577287066244,
          0.48501577287066244,
          0.4865930599369085,
          0.4865930599369085,
          0.4944794952681388,
          0.4944794952681388,
          0.4952681388012618,
          0.4952681388012618,
          0.5,
          0.5,
          0.5023659305993691,
          0.5023659305993691,
          0.5047318611987381,
          0.5047318611987381,
          0.5118296529968455,
          0.5118296529968455,
          0.5212933753943217,
          0.5212933753943217,
          0.527602523659306,
          0.527602523659306,
          0.5488958990536278,
          0.5488958990536278,
          0.554416403785489,
          0.554416403785489,
          0.5843848580441641,
          0.5843848580441641,
          0.6009463722397477,
          0.6009463722397477,
          0.6048895899053628,
          0.6048895899053628,
          0.6175078864353313,
          0.6175078864353313,
          0.636435331230284,
          0.636435331230284,
          0.6403785488958991,
          0.6403785488958991,
          0.6458990536277602,
          0.6458990536277602,
          0.6577287066246057,
          0.6577287066246057,
          0.6585173501577287,
          0.6585173501577287,
          0.6916403785488959,
          0.6916403785488959,
          0.7310725552050473,
          0.7310725552050473,
          0.7547318611987381,
          0.7547318611987381,
          0.7586750788643533,
          0.7586750788643533,
          0.7626182965299685,
          0.7626182965299685,
          0.7870662460567823,
          0.7870662460567823,
          0.8548895899053628,
          0.8548895899053628,
          0.8927444794952681,
          0.8927444794952681,
          0.9227129337539433,
          0.9227129337539433,
          1
         ],
         "xaxis": "x2",
         "y": [
          0,
          0.0020408163265306124,
          0.036734693877551024,
          0.036734693877551024,
          0.03877551020408163,
          0.03877551020408163,
          0.053061224489795916,
          0.053061224489795916,
          0.0653061224489796,
          0.0653061224489796,
          0.08163265306122448,
          0.08163265306122448,
          0.09183673469387756,
          0.09183673469387756,
          0.1,
          0.1,
          0.10204081632653061,
          0.10204081632653061,
          0.11836734693877551,
          0.11836734693877551,
          0.14081632653061224,
          0.14081632653061224,
          0.15306122448979592,
          0.15306122448979592,
          0.16122448979591836,
          0.16122448979591836,
          0.17755102040816326,
          0.17755102040816326,
          0.1836734693877551,
          0.1836734693877551,
          0.19591836734693877,
          0.19591836734693877,
          0.19795918367346937,
          0.19795918367346937,
          0.20204081632653062,
          0.20204081632653062,
          0.21836734693877552,
          0.21836734693877552,
          0.22040816326530613,
          0.22040816326530613,
          0.22244897959183674,
          0.22244897959183674,
          0.23061224489795917,
          0.23061224489795917,
          0.23673469387755103,
          0.23673469387755103,
          0.24693877551020407,
          0.24693877551020407,
          0.2571428571428571,
          0.2571428571428571,
          0.26326530612244897,
          0.26326530612244897,
          0.27346938775510204,
          0.27346938775510204,
          0.2755102040816326,
          0.2755102040816326,
          0.2795918367346939,
          0.2795918367346939,
          0.2836734693877551,
          0.2836734693877551,
          0.28775510204081634,
          0.28775510204081634,
          0.29591836734693877,
          0.29591836734693877,
          0.3081632653061224,
          0.3081632653061224,
          0.3122448979591837,
          0.3122448979591837,
          0.3183673469387755,
          0.3183673469387755,
          0.3224489795918367,
          0.3224489795918367,
          0.32857142857142857,
          0.32857142857142857,
          0.3326530612244898,
          0.3326530612244898,
          0.33877551020408164,
          0.33877551020408164,
          0.3489795918367347,
          0.3489795918367347,
          0.3510204081632653,
          0.3510204081632653,
          0.3551020408163265,
          0.3551020408163265,
          0.35918367346938773,
          0.35918367346938773,
          0.3673469387755102,
          0.3673469387755102,
          0.37142857142857144,
          0.37142857142857144,
          0.37755102040816324,
          0.37755102040816324,
          0.38571428571428573,
          0.38571428571428573,
          0.39183673469387753,
          0.39183673469387753,
          0.4061224489795918,
          0.4061224489795918,
          0.40816326530612246,
          0.40816326530612246,
          0.4163265306122449,
          0.4163265306122449,
          0.4346938775510204,
          0.4346938775510204,
          0.4387755102040816,
          0.4387755102040816,
          0.44285714285714284,
          0.44285714285714284,
          0.45714285714285713,
          0.45714285714285713,
          0.45918367346938777,
          0.45918367346938777,
          0.46938775510204084,
          0.46938775510204084,
          0.47346938775510206,
          0.47346938775510206,
          0.4775510204081633,
          0.4775510204081633,
          0.47959183673469385,
          0.47959183673469385,
          0.4897959183673469,
          0.4897959183673469,
          0.49183673469387756,
          0.49183673469387756,
          0.49795918367346936,
          0.49795918367346936,
          0.5020408163265306,
          0.5020408163265306,
          0.5040816326530613,
          0.5040816326530613,
          0.5061224489795918,
          0.5061224489795918,
          0.5102040816326531,
          0.5102040816326531,
          0.5163265306122449,
          0.5163265306122449,
          0.5183673469387755,
          0.5183673469387755,
          0.5204081632653061,
          0.5204081632653061,
          0.5224489795918368,
          0.5224489795918368,
          0.5244897959183673,
          0.5244897959183673,
          0.5285714285714286,
          0.5285714285714286,
          0.5306122448979592,
          0.5306122448979592,
          0.5326530612244897,
          0.5326530612244897,
          0.536734693877551,
          0.536734693877551,
          0.5408163265306123,
          0.5408163265306123,
          0.5428571428571428,
          0.5428571428571428,
          0.5448979591836735,
          0.5448979591836735,
          0.5551020408163265,
          0.5551020408163265,
          0.5571428571428572,
          0.5571428571428572,
          0.5591836734693878,
          0.5591836734693878,
          0.5612244897959183,
          0.5612244897959183,
          0.563265306122449,
          0.563265306122449,
          0.5653061224489796,
          0.5653061224489796,
          0.5795918367346938,
          0.5795918367346938,
          0.5836734693877551,
          0.5836734693877551,
          0.5857142857142857,
          0.5857142857142857,
          0.5918367346938775,
          0.5918367346938775,
          0.5938775510204082,
          0.5938775510204082,
          0.5959183673469388,
          0.5959183673469388,
          0.5979591836734693,
          0.5979591836734693,
          0.6,
          0.6,
          0.6061224489795919,
          0.6061224489795919,
          0.6122448979591837,
          0.6122448979591837,
          0.6142857142857143,
          0.6142857142857143,
          0.6183673469387755,
          0.6183673469387755,
          0.6244897959183674,
          0.6244897959183674,
          0.6265306122448979,
          0.6265306122448979,
          0.6306122448979592,
          0.6306122448979592,
          0.6326530612244898,
          0.6326530612244898,
          0.636734693877551,
          0.636734693877551,
          0.6428571428571429,
          0.6428571428571429,
          0.6448979591836734,
          0.6448979591836734,
          0.6469387755102041,
          0.6469387755102041,
          0.6510204081632653,
          0.6510204081632653,
          0.6530612244897959,
          0.6530612244897959,
          0.6551020408163265,
          0.6551020408163265,
          0.6612244897959184,
          0.6612244897959184,
          0.6632653061224489,
          0.6632653061224489,
          0.6653061224489796,
          0.6653061224489796,
          0.6673469387755102,
          0.6673469387755102,
          0.6693877551020408,
          0.6693877551020408,
          0.6714285714285714,
          0.6714285714285714,
          0.673469387755102,
          0.673469387755102,
          0.6775510204081633,
          0.6775510204081633,
          0.6836734693877551,
          0.6836734693877551,
          0.6857142857142857,
          0.6857142857142857,
          0.6877551020408164,
          0.6877551020408164,
          0.689795918367347,
          0.689795918367347,
          0.6918367346938775,
          0.6918367346938775,
          0.6938775510204082,
          0.6938775510204082,
          0.6959183673469388,
          0.6959183673469388,
          0.6979591836734694,
          0.6979591836734694,
          0.7,
          0.7,
          0.7081632653061225,
          0.7081632653061225,
          0.7122448979591837,
          0.7122448979591837,
          0.7183673469387755,
          0.7183673469387755,
          0.7224489795918367,
          0.7224489795918367,
          0.726530612244898,
          0.726530612244898,
          0.7285714285714285,
          0.7285714285714285,
          0.7306122448979592,
          0.7306122448979592,
          0.7326530612244898,
          0.7326530612244898,
          0.7346938775510204,
          0.7346938775510204,
          0.7387755102040816,
          0.7387755102040816,
          0.7408163265306122,
          0.7408163265306122,
          0.7448979591836735,
          0.7448979591836735,
          0.746938775510204,
          0.746938775510204,
          0.7489795918367347,
          0.7489795918367347,
          0.7510204081632653,
          0.7510204081632653,
          0.7551020408163265,
          0.7551020408163265,
          0.7591836734693878,
          0.7591836734693878,
          0.7612244897959184,
          0.7612244897959184,
          0.7653061224489796,
          0.7653061224489796,
          0.7693877551020408,
          0.7693877551020408,
          0.773469387755102,
          0.773469387755102,
          0.7755102040816326,
          0.7755102040816326,
          0.7775510204081633,
          0.7775510204081633,
          0.7816326530612245,
          0.7816326530612245,
          0.7836734693877551,
          0.7836734693877551,
          0.7857142857142857,
          0.7857142857142857,
          0.7877551020408163,
          0.7877551020408163,
          0.789795918367347,
          0.789795918367347,
          0.7918367346938775,
          0.7918367346938775,
          0.7938775510204081,
          0.7938775510204081,
          0.7959183673469388,
          0.7959183673469388,
          0.8,
          0.8,
          0.8020408163265306,
          0.8020408163265306,
          0.8040816326530612,
          0.8040816326530612,
          0.8061224489795918,
          0.8061224489795918,
          0.8081632653061225,
          0.8081632653061225,
          0.810204081632653,
          0.810204081632653,
          0.8122448979591836,
          0.8122448979591836,
          0.8142857142857143,
          0.8142857142857143,
          0.8183673469387756,
          0.8183673469387756,
          0.8204081632653061,
          0.8204081632653061,
          0.8224489795918367,
          0.8224489795918367,
          0.8244897959183674,
          0.8244897959183674,
          0.8244897959183674,
          0.8244897959183674,
          0.826530612244898,
          0.826530612244898,
          0.8306122448979592,
          0.8306122448979592,
          0.8326530612244898,
          0.8326530612244898,
          0.8367346938775511,
          0.8367346938775511,
          0.8387755102040816,
          0.8387755102040816,
          0.8448979591836735,
          0.8448979591836735,
          0.8530612244897959,
          0.8530612244897959,
          0.8551020408163266,
          0.8551020408163266,
          0.8591836734693877,
          0.8591836734693877,
          0.8612244897959184,
          0.8612244897959184,
          0.8653061224489796,
          0.8653061224489796,
          0.8673469387755102,
          0.8673469387755102,
          0.8693877551020408,
          0.8693877551020408,
          0.8714285714285714,
          0.8714285714285714,
          0.8734693877551021,
          0.8734693877551021,
          0.8755102040816326,
          0.8755102040816326,
          0.8775510204081632,
          0.8775510204081632,
          0.8795918367346939,
          0.8795918367346939,
          0.8816326530612245,
          0.8816326530612245,
          0.8836734693877552,
          0.8836734693877552,
          0.8857142857142857,
          0.8857142857142857,
          0.8877551020408163,
          0.8877551020408163,
          0.8918367346938776,
          0.8918367346938776,
          0.8938775510204081,
          0.8938775510204081,
          0.8959183673469387,
          0.8959183673469387,
          0.9,
          0.9,
          0.9020408163265307,
          0.9020408163265307,
          0.9040816326530612,
          0.9040816326530612,
          0.9081632653061225,
          0.9081632653061225,
          0.9122448979591836,
          0.9122448979591836,
          0.9142857142857143,
          0.9142857142857143,
          0.9163265306122449,
          0.9163265306122449,
          0.9204081632653062,
          0.9204081632653062,
          0.9244897959183673,
          0.9244897959183673,
          0.926530612244898,
          0.926530612244898,
          0.9285714285714286,
          0.9285714285714286,
          0.9306122448979591,
          0.9306122448979591,
          0.9326530612244898,
          0.9326530612244898,
          0.9346938775510204,
          0.9346938775510204,
          0.936734693877551,
          0.936734693877551,
          0.9387755102040817,
          0.9387755102040817,
          0.9469387755102041,
          0.9469387755102041,
          0.9489795918367347,
          0.9489795918367347,
          0.9510204081632653,
          0.9510204081632653,
          0.9530612244897959,
          0.9530612244897959,
          0.9551020408163265,
          0.9551020408163265,
          0.9571428571428572,
          0.9571428571428572,
          0.9591836734693877,
          0.9591836734693877,
          0.9612244897959183,
          0.9612244897959183,
          0.963265306122449,
          0.963265306122449,
          0.9653061224489796,
          0.9653061224489796,
          0.9673469387755103,
          0.9673469387755103,
          0.9693877551020408,
          0.9693877551020408,
          0.9714285714285714,
          0.9714285714285714,
          0.9734693877551021,
          0.9734693877551021,
          0.9755102040816327,
          0.9755102040816327,
          0.9775510204081632,
          0.9775510204081632,
          0.9795918367346939,
          0.9795918367346939,
          0.9816326530612245,
          0.9816326530612245,
          0.9836734693877551,
          0.9836734693877551,
          0.9857142857142858,
          0.9857142857142858,
          0.9877551020408163,
          0.9877551020408163,
          0.9897959183673469,
          0.9897959183673469,
          0.9918367346938776,
          0.9918367346938776,
          0.9938775510204082,
          0.9938775510204082,
          0.9959183673469387,
          0.9959183673469387,
          0.9979591836734694,
          0.9979591836734694,
          1,
          1
         ],
         "yaxis": "y2"
        },
        {
         "line": {
          "color": "rgb(205, 12, 24)",
          "dash": "dot",
          "width": 2
         },
         "type": "scatter",
         "x": [
          0,
          1
         ],
         "xaxis": "x2",
         "y": [
          0,
          1
         ],
         "yaxis": "y2"
        },
        {
         "marker": {
          "color": [
           1.7022555338931038,
           0.5103703450677064,
           0.39019306715759994,
           0.35456369414761746,
           0.2837377898998907,
           0.23687573145237278,
           0.2117423345378637,
           0.1997842569298738,
           0.12609886566402378,
           0.05962017983185225,
           0.016917229088824128,
           -0.055942424565975514,
           -0.08970188362759039,
           -0.0899288065975654,
           -0.14862254809868788,
           -0.14906368402385264,
           -0.16000163823320374,
           -0.17217921427892255,
           -0.21321216008060662,
           -0.25743951724583736,
           -0.2723336933168494,
           -0.30167214582501567,
           -0.32851515919943225,
           -0.43334626579115954,
           -0.4657808357172624,
           -0.5230481494194563,
           -0.5286064653159751,
           -0.6830747941012115,
           -0.8689188086078529,
           -1.0220394043526326,
           -1.3644837670920715
          ],
          "colorscale": [
           [
            0,
            "rgb(0,0,255)"
           ],
           [
            0.1,
            "rgb(51,153,255)"
           ],
           [
            0.2,
            "rgb(102,204,255)"
           ],
           [
            0.3,
            "rgb(153,204,255)"
           ],
           [
            0.4,
            "rgb(204,204,255)"
           ],
           [
            0.5,
            "rgb(255,255,255)"
           ],
           [
            0.6,
            "rgb(255,204,255)"
           ],
           [
            0.7,
            "rgb(255,153,255)"
           ],
           [
            0.8,
            "rgb(255,102,204)"
           ],
           [
            0.9,
            "rgb(255,102,102)"
           ],
           [
            1,
            "rgb(255,0,0)"
           ]
          ],
          "line": {
           "color": "black",
           "width": 0.6
          }
         },
         "name": "coefficients",
         "type": "bar",
         "x": [
          "TotalCharges_tenure",
          "Contract_Month-to-month",
          "MonthlyCharges",
          "PaperlessBilling",
          "InternetService_Fiber optic",
          "TotalCharges",
          "SeniorCitizen",
          "StreamingMovies",
          "StreamingTV",
          "PaymentMethod_Electronic check",
          "Partner",
          "DeviceProtection",
          "MultipleLines_Yes",
          "gender",
          "MultipleLines_No phone service",
          "Dependents",
          "Contract_One year",
          "PaymentMethod_Bank transfer (automatic)",
          "OnlineBackup",
          "PaymentMethod_Mailed check",
          "InternetService_DSL",
          "PaymentMethod_Credit card (automatic)",
          "TechSupport",
          "MultipleLines_No",
          "OnlineSecurity",
          "PhoneService",
          "MonthlyCharges_tenure",
          "InternetService_No",
          "avg_month_charges",
          "Contract_Two year",
          "tenure"
         ],
         "xaxis": "x3",
         "y": [
          1.7022555338931038,
          0.5103703450677064,
          0.39019306715759994,
          0.35456369414761746,
          0.2837377898998907,
          0.23687573145237278,
          0.2117423345378637,
          0.1997842569298738,
          0.12609886566402378,
          0.05962017983185225,
          0.016917229088824128,
          -0.055942424565975514,
          -0.08970188362759039,
          -0.0899288065975654,
          -0.14862254809868788,
          -0.14906368402385264,
          -0.16000163823320374,
          -0.17217921427892255,
          -0.21321216008060662,
          -0.25743951724583736,
          -0.2723336933168494,
          -0.30167214582501567,
          -0.32851515919943225,
          -0.43334626579115954,
          -0.4657808357172624,
          -0.5230481494194563,
          -0.5286064653159751,
          -0.6830747941012115,
          -0.8689188086078529,
          -1.0220394043526326,
          -1.3644837670920715
         ],
         "yaxis": "y3"
        }
       ],
       "layout": {
        "annotations": [
         {
          "font": {
           "size": 16
          },
          "showarrow": false,
          "text": "Confusion Matrix",
          "x": 0.225,
          "xanchor": "center",
          "xref": "paper",
          "y": 1,
          "yanchor": "bottom",
          "yref": "paper"
         },
         {
          "font": {
           "size": 16
          },
          "showarrow": false,
          "text": "Receiver operating characteristic",
          "x": 0.775,
          "xanchor": "center",
          "xref": "paper",
          "y": 1,
          "yanchor": "bottom",
          "yref": "paper"
         },
         {
          "font": {
           "size": 16
          },
          "showarrow": false,
          "text": "Feature Importances",
          "x": 0.5,
          "xanchor": "center",
          "xref": "paper",
          "y": 0.375,
          "yanchor": "bottom",
          "yref": "paper"
         }
        ],
        "autosize": false,
        "height": 900,
        "margin": {
         "b": 195
        },
        "paper_bgcolor": "rgba(240,240,240, 0.95)",
        "plot_bgcolor": "rgba(240,240,240, 0.95)",
        "showlegend": false,
        "template": {
         "data": {
          "bar": [
           {
            "error_x": {
             "color": "#2a3f5f"
            },
            "error_y": {
             "color": "#2a3f5f"
            },
            "marker": {
             "line": {
              "color": "#E5ECF6",
              "width": 0.5
             }
            },
            "type": "bar"
           }
          ],
          "barpolar": [
           {
            "marker": {
             "line": {
              "color": "#E5ECF6",
              "width": 0.5
             }
            },
            "type": "barpolar"
           }
          ],
          "carpet": [
           {
            "aaxis": {
             "endlinecolor": "#2a3f5f",
             "gridcolor": "white",
             "linecolor": "white",
             "minorgridcolor": "white",
             "startlinecolor": "#2a3f5f"
            },
            "baxis": {
             "endlinecolor": "#2a3f5f",
             "gridcolor": "white",
             "linecolor": "white",
             "minorgridcolor": "white",
             "startlinecolor": "#2a3f5f"
            },
            "type": "carpet"
           }
          ],
          "choropleth": [
           {
            "colorbar": {
             "outlinewidth": 0,
             "ticks": ""
            },
            "type": "choropleth"
           }
          ],
          "contour": [
           {
            "colorbar": {
             "outlinewidth": 0,
             "ticks": ""
            },
            "colorscale": [
             [
              0,
              "#0d0887"
             ],
             [
              0.1111111111111111,
              "#46039f"
             ],
             [
              0.2222222222222222,
              "#7201a8"
             ],
             [
              0.3333333333333333,
              "#9c179e"
             ],
             [
              0.4444444444444444,
              "#bd3786"
             ],
             [
              0.5555555555555556,
              "#d8576b"
             ],
             [
              0.6666666666666666,
              "#ed7953"
             ],
             [
              0.7777777777777778,
              "#fb9f3a"
             ],
             [
              0.8888888888888888,
              "#fdca26"
             ],
             [
              1,
              "#f0f921"
             ]
            ],
            "type": "contour"
           }
          ],
          "contourcarpet": [
           {
            "colorbar": {
             "outlinewidth": 0,
             "ticks": ""
            },
            "type": "contourcarpet"
           }
          ],
          "heatmap": [
           {
            "colorbar": {
             "outlinewidth": 0,
             "ticks": ""
            },
            "colorscale": [
             [
              0,
              "#0d0887"
             ],
             [
              0.1111111111111111,
              "#46039f"
             ],
             [
              0.2222222222222222,
              "#7201a8"
             ],
             [
              0.3333333333333333,
              "#9c179e"
             ],
             [
              0.4444444444444444,
              "#bd3786"
             ],
             [
              0.5555555555555556,
              "#d8576b"
             ],
             [
              0.6666666666666666,
              "#ed7953"
             ],
             [
              0.7777777777777778,
              "#fb9f3a"
             ],
             [
              0.8888888888888888,
              "#fdca26"
             ],
             [
              1,
              "#f0f921"
             ]
            ],
            "type": "heatmap"
           }
          ],
          "heatmapgl": [
           {
            "colorbar": {
             "outlinewidth": 0,
             "ticks": ""
            },
            "colorscale": [
             [
              0,
              "#0d0887"
             ],
             [
              0.1111111111111111,
              "#46039f"
             ],
             [
              0.2222222222222222,
              "#7201a8"
             ],
             [
              0.3333333333333333,
              "#9c179e"
             ],
             [
              0.4444444444444444,
              "#bd3786"
             ],
             [
              0.5555555555555556,
              "#d8576b"
             ],
             [
              0.6666666666666666,
              "#ed7953"
             ],
             [
              0.7777777777777778,
              "#fb9f3a"
             ],
             [
              0.8888888888888888,
              "#fdca26"
             ],
             [
              1,
              "#f0f921"
             ]
            ],
            "type": "heatmapgl"
           }
          ],
          "histogram": [
           {
            "marker": {
             "colorbar": {
              "outlinewidth": 0,
              "ticks": ""
             }
            },
            "type": "histogram"
           }
          ],
          "histogram2d": [
           {
            "colorbar": {
             "outlinewidth": 0,
             "ticks": ""
            },
            "colorscale": [
             [
              0,
              "#0d0887"
             ],
             [
              0.1111111111111111,
              "#46039f"
             ],
             [
              0.2222222222222222,
              "#7201a8"
             ],
             [
              0.3333333333333333,
              "#9c179e"
             ],
             [
              0.4444444444444444,
              "#bd3786"
             ],
             [
              0.5555555555555556,
              "#d8576b"
             ],
             [
              0.6666666666666666,
              "#ed7953"
             ],
             [
              0.7777777777777778,
              "#fb9f3a"
             ],
             [
              0.8888888888888888,
              "#fdca26"
             ],
             [
              1,
              "#f0f921"
             ]
            ],
            "type": "histogram2d"
           }
          ],
          "histogram2dcontour": [
           {
            "colorbar": {
             "outlinewidth": 0,
             "ticks": ""
            },
            "colorscale": [
             [
              0,
              "#0d0887"
             ],
             [
              0.1111111111111111,
              "#46039f"
             ],
             [
              0.2222222222222222,
              "#7201a8"
             ],
             [
              0.3333333333333333,
              "#9c179e"
             ],
             [
              0.4444444444444444,
              "#bd3786"
             ],
             [
              0.5555555555555556,
              "#d8576b"
             ],
             [
              0.6666666666666666,
              "#ed7953"
             ],
             [
              0.7777777777777778,
              "#fb9f3a"
             ],
             [
              0.8888888888888888,
              "#fdca26"
             ],
             [
              1,
              "#f0f921"
             ]
            ],
            "type": "histogram2dcontour"
           }
          ],
          "mesh3d": [
           {
            "colorbar": {
             "outlinewidth": 0,
             "ticks": ""
            },
            "type": "mesh3d"
           }
          ],
          "parcoords": [
           {
            "line": {
             "colorbar": {
              "outlinewidth": 0,
              "ticks": ""
             }
            },
            "type": "parcoords"
           }
          ],
          "pie": [
           {
            "automargin": true,
            "type": "pie"
           }
          ],
          "scatter": [
           {
            "marker": {
             "colorbar": {
              "outlinewidth": 0,
              "ticks": ""
             }
            },
            "type": "scatter"
           }
          ],
          "scatter3d": [
           {
            "line": {
             "colorbar": {
              "outlinewidth": 0,
              "ticks": ""
             }
            },
            "marker": {
             "colorbar": {
              "outlinewidth": 0,
              "ticks": ""
             }
            },
            "type": "scatter3d"
           }
          ],
          "scattercarpet": [
           {
            "marker": {
             "colorbar": {
              "outlinewidth": 0,
              "ticks": ""
             }
            },
            "type": "scattercarpet"
           }
          ],
          "scattergeo": [
           {
            "marker": {
             "colorbar": {
              "outlinewidth": 0,
              "ticks": ""
             }
            },
            "type": "scattergeo"
           }
          ],
          "scattergl": [
           {
            "marker": {
             "colorbar": {
              "outlinewidth": 0,
              "ticks": ""
             }
            },
            "type": "scattergl"
           }
          ],
          "scattermapbox": [
           {
            "marker": {
             "colorbar": {
              "outlinewidth": 0,
              "ticks": ""
             }
            },
            "type": "scattermapbox"
           }
          ],
          "scatterpolar": [
           {
            "marker": {
             "colorbar": {
              "outlinewidth": 0,
              "ticks": ""
             }
            },
            "type": "scatterpolar"
           }
          ],
          "scatterpolargl": [
           {
            "marker": {
             "colorbar": {
              "outlinewidth": 0,
              "ticks": ""
             }
            },
            "type": "scatterpolargl"
           }
          ],
          "scatterternary": [
           {
            "marker": {
             "colorbar": {
              "outlinewidth": 0,
              "ticks": ""
             }
            },
            "type": "scatterternary"
           }
          ],
          "surface": [
           {
            "colorbar": {
             "outlinewidth": 0,
             "ticks": ""
            },
            "colorscale": [
             [
              0,
              "#0d0887"
             ],
             [
              0.1111111111111111,
              "#46039f"
             ],
             [
              0.2222222222222222,
              "#7201a8"
             ],
             [
              0.3333333333333333,
              "#9c179e"
             ],
             [
              0.4444444444444444,
              "#bd3786"
             ],
             [
              0.5555555555555556,
              "#d8576b"
             ],
             [
              0.6666666666666666,
              "#ed7953"
             ],
             [
              0.7777777777777778,
              "#fb9f3a"
             ],
             [
              0.8888888888888888,
              "#fdca26"
             ],
             [
              1,
              "#f0f921"
             ]
            ],
            "type": "surface"
           }
          ],
          "table": [
           {
            "cells": {
             "fill": {
              "color": "#EBF0F8"
             },
             "line": {
              "color": "white"
             }
            },
            "header": {
             "fill": {
              "color": "#C8D4E3"
             },
             "line": {
              "color": "white"
             }
            },
            "type": "table"
           }
          ]
         },
         "layout": {
          "annotationdefaults": {
           "arrowcolor": "#2a3f5f",
           "arrowhead": 0,
           "arrowwidth": 1
          },
          "coloraxis": {
           "colorbar": {
            "outlinewidth": 0,
            "ticks": ""
           }
          },
          "colorscale": {
           "diverging": [
            [
             0,
             "#8e0152"
            ],
            [
             0.1,
             "#c51b7d"
            ],
            [
             0.2,
             "#de77ae"
            ],
            [
             0.3,
             "#f1b6da"
            ],
            [
             0.4,
             "#fde0ef"
            ],
            [
             0.5,
             "#f7f7f7"
            ],
            [
             0.6,
             "#e6f5d0"
            ],
            [
             0.7,
             "#b8e186"
            ],
            [
             0.8,
             "#7fbc41"
            ],
            [
             0.9,
             "#4d9221"
            ],
            [
             1,
             "#276419"
            ]
           ],
           "sequential": [
            [
             0,
             "#0d0887"
            ],
            [
             0.1111111111111111,
             "#46039f"
            ],
            [
             0.2222222222222222,
             "#7201a8"
            ],
            [
             0.3333333333333333,
             "#9c179e"
            ],
            [
             0.4444444444444444,
             "#bd3786"
            ],
            [
             0.5555555555555556,
             "#d8576b"
            ],
            [
             0.6666666666666666,
             "#ed7953"
            ],
            [
             0.7777777777777778,
             "#fb9f3a"
            ],
            [
             0.8888888888888888,
             "#fdca26"
            ],
            [
             1,
             "#f0f921"
            ]
           ],
           "sequentialminus": [
            [
             0,
             "#0d0887"
            ],
            [
             0.1111111111111111,
             "#46039f"
            ],
            [
             0.2222222222222222,
             "#7201a8"
            ],
            [
             0.3333333333333333,
             "#9c179e"
            ],
            [
             0.4444444444444444,
             "#bd3786"
            ],
            [
             0.5555555555555556,
             "#d8576b"
            ],
            [
             0.6666666666666666,
             "#ed7953"
            ],
            [
             0.7777777777777778,
             "#fb9f3a"
            ],
            [
             0.8888888888888888,
             "#fdca26"
            ],
            [
             1,
             "#f0f921"
            ]
           ]
          },
          "colorway": [
           "#636efa",
           "#EF553B",
           "#00cc96",
           "#ab63fa",
           "#FFA15A",
           "#19d3f3",
           "#FF6692",
           "#B6E880",
           "#FF97FF",
           "#FECB52"
          ],
          "font": {
           "color": "#2a3f5f"
          },
          "geo": {
           "bgcolor": "white",
           "lakecolor": "white",
           "landcolor": "#E5ECF6",
           "showlakes": true,
           "showland": true,
           "subunitcolor": "white"
          },
          "hoverlabel": {
           "align": "left"
          },
          "hovermode": "closest",
          "mapbox": {
           "style": "light"
          },
          "paper_bgcolor": "white",
          "plot_bgcolor": "#E5ECF6",
          "polar": {
           "angularaxis": {
            "gridcolor": "white",
            "linecolor": "white",
            "ticks": ""
           },
           "bgcolor": "#E5ECF6",
           "radialaxis": {
            "gridcolor": "white",
            "linecolor": "white",
            "ticks": ""
           }
          },
          "scene": {
           "xaxis": {
            "backgroundcolor": "#E5ECF6",
            "gridcolor": "white",
            "gridwidth": 2,
            "linecolor": "white",
            "showbackground": true,
            "ticks": "",
            "zerolinecolor": "white"
           },
           "yaxis": {
            "backgroundcolor": "#E5ECF6",
            "gridcolor": "white",
            "gridwidth": 2,
            "linecolor": "white",
            "showbackground": true,
            "ticks": "",
            "zerolinecolor": "white"
           },
           "zaxis": {
            "backgroundcolor": "#E5ECF6",
            "gridcolor": "white",
            "gridwidth": 2,
            "linecolor": "white",
            "showbackground": true,
            "ticks": "",
            "zerolinecolor": "white"
           }
          },
          "shapedefaults": {
           "line": {
            "color": "#2a3f5f"
           }
          },
          "ternary": {
           "aaxis": {
            "gridcolor": "white",
            "linecolor": "white",
            "ticks": ""
           },
           "baxis": {
            "gridcolor": "white",
            "linecolor": "white",
            "ticks": ""
           },
           "bgcolor": "#E5ECF6",
           "caxis": {
            "gridcolor": "white",
            "linecolor": "white",
            "ticks": ""
           }
          },
          "title": {
           "x": 0.05
          },
          "xaxis": {
           "automargin": true,
           "gridcolor": "white",
           "linecolor": "white",
           "ticks": "",
           "title": {
            "standoff": 15
           },
           "zerolinecolor": "white",
           "zerolinewidth": 2
          },
          "yaxis": {
           "automargin": true,
           "gridcolor": "white",
           "linecolor": "white",
           "ticks": "",
           "title": {
            "standoff": 15
           },
           "zerolinecolor": "white",
           "zerolinewidth": 2
          }
         }
        },
        "title": {
         "text": "Model performance"
        },
        "width": 800,
        "xaxis": {
         "anchor": "y",
         "domain": [
          0,
          0.45
         ]
        },
        "xaxis2": {
         "anchor": "y2",
         "domain": [
          0.55,
          1
         ],
         "title": {
          "text": "false positive rate"
         }
        },
        "xaxis3": {
         "anchor": "y3",
         "domain": [
          0,
          1
         ],
         "showgrid": true,
         "tickangle": 90,
         "tickfont": {
          "size": 10
         }
        },
        "yaxis": {
         "anchor": "x",
         "domain": [
          0.625,
          1
         ]
        },
        "yaxis2": {
         "anchor": "x2",
         "domain": [
          0.625,
          1
         ],
         "title": {
          "text": "true positive rate"
         }
        },
        "yaxis3": {
         "anchor": "x3",
         "domain": [
          0,
          0.375
         ]
        }
       }
      },
      "text/html": [
       "<div>\n",
       "        \n",
       "        \n",
       "            <div id=\"44fcba62-8bd7-49f2-bdfb-19457817c5bf\" class=\"plotly-graph-div\" style=\"height:900px; width:800px;\"></div>\n",
       "            <script type=\"text/javascript\">\n",
       "                require([\"plotly\"], function(Plotly) {\n",
       "                    window.PLOTLYENV=window.PLOTLYENV || {};\n",
       "                    \n",
       "                if (document.getElementById(\"44fcba62-8bd7-49f2-bdfb-19457817c5bf\")) {\n",
       "                    Plotly.newPlot(\n",
       "                        '44fcba62-8bd7-49f2-bdfb-19457817c5bf',\n",
       "                        [{\"colorscale\": [[0.0, \"rgb(0,0,255)\"], [0.1, \"rgb(51,153,255)\"], [0.2, \"rgb(102,204,255)\"], [0.3, \"rgb(153,204,255)\"], [0.4, \"rgb(204,204,255)\"], [0.5, \"rgb(255,255,255)\"], [0.6, \"rgb(255,204,255)\"], [0.7, \"rgb(255,153,255)\"], [0.8, \"rgb(255,102,204)\"], [0.9, \"rgb(255,102,102)\"], [1.0, \"rgb(255,0,0)\"]], \"name\": \"matrix\", \"showscale\": false, \"type\": \"heatmap\", \"x\": [\"Not churn\", \"Churn\"], \"xaxis\": \"x\", \"y\": [\"Not churn\", \"Churn\"], \"yaxis\": \"y\", \"z\": [[1151, 117], [229, 261]]}, {\"line\": {\"color\": \"rgb(22, 96, 167)\", \"width\": 2}, \"name\": \"Roc : 0.7201908839245477\", \"type\": \"scatter\", \"x\": [0.0, 0.0, 0.0, 0.0015772870662460567, 0.0015772870662460567, 0.002365930599369085, 0.002365930599369085, 0.00473186119873817, 0.00473186119873817, 0.005520504731861199, 0.005520504731861199, 0.006309148264984227, 0.006309148264984227, 0.007097791798107256, 0.007097791798107256, 0.007886435331230283, 0.007886435331230283, 0.00946372239747634, 0.00946372239747634, 0.011041009463722398, 0.011041009463722398, 0.011829652996845425, 0.011829652996845425, 0.012618296529968454, 0.012618296529968454, 0.013406940063091483, 0.013406940063091483, 0.014195583596214511, 0.014195583596214511, 0.01498422712933754, 0.01498422712933754, 0.015772870662460567, 0.015772870662460567, 0.016561514195583597, 0.016561514195583597, 0.017350157728706624, 0.017350157728706624, 0.018138801261829655, 0.018138801261829655, 0.01971608832807571, 0.01971608832807571, 0.021293375394321766, 0.021293375394321766, 0.022082018927444796, 0.022082018927444796, 0.022870662460567823, 0.022870662460567823, 0.02365930599369085, 0.02365930599369085, 0.02444794952681388, 0.02444794952681388, 0.025236593059936908, 0.025236593059936908, 0.026025236593059938, 0.026025236593059938, 0.026813880126182965, 0.026813880126182965, 0.027602523659305992, 0.027602523659305992, 0.02917981072555205, 0.02917981072555205, 0.031545741324921134, 0.031545741324921134, 0.033123028391167195, 0.033123028391167195, 0.03470031545741325, 0.03470031545741325, 0.03548895899053628, 0.03548895899053628, 0.03627760252365931, 0.03627760252365931, 0.03706624605678233, 0.03706624605678233, 0.03785488958990536, 0.03785488958990536, 0.03943217665615142, 0.03943217665615142, 0.04022082018927445, 0.04022082018927445, 0.04100946372239748, 0.04100946372239748, 0.04258675078864353, 0.04258675078864353, 0.04337539432176656, 0.04337539432176656, 0.04652996845425868, 0.04652996845425868, 0.0473186119873817, 0.0473186119873817, 0.04968454258675079, 0.04968454258675079, 0.050473186119873815, 0.050473186119873815, 0.0528391167192429, 0.0528391167192429, 0.05362776025236593, 0.05362776025236593, 0.057570977917981075, 0.057570977917981075, 0.0583596214511041, 0.0583596214511041, 0.05914826498422713, 0.05914826498422713, 0.05993690851735016, 0.05993690851735016, 0.06072555205047318, 0.06072555205047318, 0.06309148264984227, 0.06309148264984227, 0.0638801261829653, 0.0638801261829653, 0.06466876971608833, 0.06466876971608833, 0.06703470031545741, 0.06703470031545741, 0.06782334384858044, 0.06782334384858044, 0.07018927444794952, 0.07018927444794952, 0.07176656151419558, 0.07176656151419558, 0.07334384858044164, 0.07334384858044164, 0.07413249211356467, 0.07413249211356467, 0.0749211356466877, 0.0749211356466877, 0.07728706624605679, 0.07728706624605679, 0.07886435331230283, 0.07886435331230283, 0.07965299684542587, 0.07965299684542587, 0.0804416403785489, 0.0804416403785489, 0.08123028391167192, 0.08123028391167192, 0.083596214511041, 0.083596214511041, 0.08438485804416404, 0.08438485804416404, 0.0859621451104101, 0.0859621451104101, 0.08832807570977919, 0.08832807570977919, 0.09069400630914827, 0.09069400630914827, 0.0914826498422713, 0.0914826498422713, 0.09227129337539432, 0.09227129337539432, 0.09305993690851735, 0.09305993690851735, 0.09542586750788644, 0.09542586750788644, 0.09621451104100946, 0.09621451104100946, 0.09779179810725552, 0.09779179810725552, 0.09936908517350158, 0.09936908517350158, 0.10173501577287067, 0.10173501577287067, 0.10252365930599369, 0.10252365930599369, 0.10331230283911672, 0.10331230283911672, 0.1056782334384858, 0.1056782334384858, 0.10646687697160884, 0.10646687697160884, 0.10725552050473186, 0.10725552050473186, 0.10883280757097792, 0.10883280757097792, 0.111198738170347, 0.111198738170347, 0.11198738170347003, 0.11198738170347003, 0.11356466876971609, 0.11356466876971609, 0.11435331230283911, 0.11435331230283911, 0.1167192429022082, 0.1167192429022082, 0.11750788643533124, 0.11750788643533124, 0.11829652996845426, 0.11829652996845426, 0.12145110410094637, 0.12145110410094637, 0.12381703470031545, 0.12381703470031545, 0.12460567823343849, 0.12460567823343849, 0.1253943217665615, 0.1253943217665615, 0.12618296529968454, 0.12618296529968454, 0.13012618296529968, 0.13012618296529968, 0.13249211356466878, 0.13249211356466878, 0.1332807570977918, 0.1332807570977918, 0.13406940063091483, 0.13406940063091483, 0.138801261829653, 0.138801261829653, 0.1411671924290221, 0.1411671924290221, 0.14195583596214512, 0.14195583596214512, 0.14274447949526814, 0.14274447949526814, 0.1443217665615142, 0.1443217665615142, 0.1474763406940063, 0.1474763406940063, 0.14905362776025236, 0.14905362776025236, 0.1498422712933754, 0.1498422712933754, 0.15220820189274448, 0.15220820189274448, 0.1529968454258675, 0.1529968454258675, 0.15378548895899052, 0.15378548895899052, 0.15772870662460567, 0.15772870662460567, 0.16009463722397477, 0.16009463722397477, 0.1608832807570978, 0.1608832807570978, 0.1640378548895899, 0.1640378548895899, 0.16876971608832808, 0.16876971608832808, 0.1750788643533123, 0.1750788643533123, 0.17823343848580442, 0.17823343848580442, 0.17981072555205047, 0.17981072555205047, 0.18138801261829654, 0.18138801261829654, 0.18217665615141956, 0.18217665615141956, 0.1837539432176656, 0.1837539432176656, 0.1861198738170347, 0.1861198738170347, 0.18848580441640378, 0.18848580441640378, 0.1892744479495268, 0.1892744479495268, 0.19321766561514195, 0.19321766561514195, 0.19479495268138802, 0.19479495268138802, 0.19637223974763407, 0.19637223974763407, 0.19794952681388012, 0.19794952681388012, 0.1995268138801262, 0.1995268138801262, 0.20031545741324921, 0.20031545741324921, 0.20110410094637224, 0.20110410094637224, 0.20504731861198738, 0.20504731861198738, 0.2058359621451104, 0.2058359621451104, 0.20662460567823343, 0.20662460567823343, 0.20899053627760253, 0.20899053627760253, 0.21214511041009465, 0.21214511041009465, 0.2200315457413249, 0.2200315457413249, 0.221608832807571, 0.221608832807571, 0.222397476340694, 0.222397476340694, 0.22397476340694006, 0.22397476340694006, 0.22555205047318613, 0.22555205047318613, 0.22949526813880125, 0.22949526813880125, 0.23264984227129337, 0.23264984227129337, 0.2334384858044164, 0.2334384858044164, 0.23501577287066247, 0.23501577287066247, 0.2358044164037855, 0.2358044164037855, 0.23895899053627762, 0.23895899053627762, 0.2444794952681388, 0.2444794952681388, 0.24605678233438485, 0.24605678233438485, 0.25157728706624605, 0.25157728706624605, 0.25236593059936907, 0.25236593059936907, 0.2539432176656151, 0.2539432176656151, 0.26025236593059936, 0.26025236593059936, 0.2634069400630915, 0.2634069400630915, 0.2665615141955836, 0.2665615141955836, 0.27681388012618297, 0.27681388012618297, 0.27917981072555204, 0.27917981072555204, 0.27996845425867506, 0.27996845425867506, 0.2831230283911672, 0.2831230283911672, 0.28391167192429023, 0.28391167192429023, 0.2854889589905363, 0.2854889589905363, 0.2886435331230284, 0.2886435331230284, 0.2917981072555205, 0.29258675078864355, 0.29337539432176657, 0.2949526813880126, 0.29652996845425866, 0.29652996845425866, 0.2981072555205047, 0.2981072555205047, 0.305993690851735, 0.305993690851735, 0.306782334384858, 0.306782334384858, 0.30757097791798105, 0.30757097791798105, 0.31230283911671924, 0.31230283911671924, 0.3146687697160883, 0.3146687697160883, 0.31545741324921134, 0.31545741324921134, 0.31782334384858046, 0.31782334384858046, 0.3186119873817035, 0.3186119873817035, 0.32097791798107256, 0.32097791798107256, 0.3249211356466877, 0.3249211356466877, 0.3280757097791798, 0.3280757097791798, 0.32965299684542587, 0.32965299684542587, 0.34069400630914826, 0.34069400630914826, 0.3422712933753943, 0.3422712933753943, 0.3462145110410095, 0.3462145110410095, 0.34858044164037855, 0.34858044164037855, 0.34936908517350157, 0.34936908517350157, 0.3548895899053628, 0.3548895899053628, 0.3556782334384858, 0.3556782334384858, 0.35962145110410093, 0.35962145110410093, 0.361198738170347, 0.361198738170347, 0.36198738170347006, 0.36198738170347006, 0.3627760252365931, 0.3627760252365931, 0.3801261829652997, 0.3801261829652997, 0.38485804416403785, 0.38485804416403785, 0.39274447949526814, 0.39274447949526814, 0.39668769716088326, 0.39668769716088326, 0.3990536277602524, 0.3990536277602524, 0.40457413249211355, 0.40457413249211355, 0.40930599369085174, 0.40930599369085174, 0.41009463722397477, 0.41009463722397477, 0.41324921135646686, 0.41324921135646686, 0.4353312302839117, 0.4353312302839117, 0.44637223974763407, 0.44637223974763407, 0.4668769716088328, 0.4668769716088328, 0.4747634069400631, 0.4747634069400631, 0.48501577287066244, 0.48501577287066244, 0.4865930599369085, 0.4865930599369085, 0.4944794952681388, 0.4944794952681388, 0.4952681388012618, 0.4952681388012618, 0.5, 0.5, 0.5023659305993691, 0.5023659305993691, 0.5047318611987381, 0.5047318611987381, 0.5118296529968455, 0.5118296529968455, 0.5212933753943217, 0.5212933753943217, 0.527602523659306, 0.527602523659306, 0.5488958990536278, 0.5488958990536278, 0.554416403785489, 0.554416403785489, 0.5843848580441641, 0.5843848580441641, 0.6009463722397477, 0.6009463722397477, 0.6048895899053628, 0.6048895899053628, 0.6175078864353313, 0.6175078864353313, 0.636435331230284, 0.636435331230284, 0.6403785488958991, 0.6403785488958991, 0.6458990536277602, 0.6458990536277602, 0.6577287066246057, 0.6577287066246057, 0.6585173501577287, 0.6585173501577287, 0.6916403785488959, 0.6916403785488959, 0.7310725552050473, 0.7310725552050473, 0.7547318611987381, 0.7547318611987381, 0.7586750788643533, 0.7586750788643533, 0.7626182965299685, 0.7626182965299685, 0.7870662460567823, 0.7870662460567823, 0.8548895899053628, 0.8548895899053628, 0.8927444794952681, 0.8927444794952681, 0.9227129337539433, 0.9227129337539433, 1.0], \"xaxis\": \"x2\", \"y\": [0.0, 0.0020408163265306124, 0.036734693877551024, 0.036734693877551024, 0.03877551020408163, 0.03877551020408163, 0.053061224489795916, 0.053061224489795916, 0.0653061224489796, 0.0653061224489796, 0.08163265306122448, 0.08163265306122448, 0.09183673469387756, 0.09183673469387756, 0.1, 0.1, 0.10204081632653061, 0.10204081632653061, 0.11836734693877551, 0.11836734693877551, 0.14081632653061224, 0.14081632653061224, 0.15306122448979592, 0.15306122448979592, 0.16122448979591836, 0.16122448979591836, 0.17755102040816326, 0.17755102040816326, 0.1836734693877551, 0.1836734693877551, 0.19591836734693877, 0.19591836734693877, 0.19795918367346937, 0.19795918367346937, 0.20204081632653062, 0.20204081632653062, 0.21836734693877552, 0.21836734693877552, 0.22040816326530613, 0.22040816326530613, 0.22244897959183674, 0.22244897959183674, 0.23061224489795917, 0.23061224489795917, 0.23673469387755103, 0.23673469387755103, 0.24693877551020407, 0.24693877551020407, 0.2571428571428571, 0.2571428571428571, 0.26326530612244897, 0.26326530612244897, 0.27346938775510204, 0.27346938775510204, 0.2755102040816326, 0.2755102040816326, 0.2795918367346939, 0.2795918367346939, 0.2836734693877551, 0.2836734693877551, 0.28775510204081634, 0.28775510204081634, 0.29591836734693877, 0.29591836734693877, 0.3081632653061224, 0.3081632653061224, 0.3122448979591837, 0.3122448979591837, 0.3183673469387755, 0.3183673469387755, 0.3224489795918367, 0.3224489795918367, 0.32857142857142857, 0.32857142857142857, 0.3326530612244898, 0.3326530612244898, 0.33877551020408164, 0.33877551020408164, 0.3489795918367347, 0.3489795918367347, 0.3510204081632653, 0.3510204081632653, 0.3551020408163265, 0.3551020408163265, 0.35918367346938773, 0.35918367346938773, 0.3673469387755102, 0.3673469387755102, 0.37142857142857144, 0.37142857142857144, 0.37755102040816324, 0.37755102040816324, 0.38571428571428573, 0.38571428571428573, 0.39183673469387753, 0.39183673469387753, 0.4061224489795918, 0.4061224489795918, 0.40816326530612246, 0.40816326530612246, 0.4163265306122449, 0.4163265306122449, 0.4346938775510204, 0.4346938775510204, 0.4387755102040816, 0.4387755102040816, 0.44285714285714284, 0.44285714285714284, 0.45714285714285713, 0.45714285714285713, 0.45918367346938777, 0.45918367346938777, 0.46938775510204084, 0.46938775510204084, 0.47346938775510206, 0.47346938775510206, 0.4775510204081633, 0.4775510204081633, 0.47959183673469385, 0.47959183673469385, 0.4897959183673469, 0.4897959183673469, 0.49183673469387756, 0.49183673469387756, 0.49795918367346936, 0.49795918367346936, 0.5020408163265306, 0.5020408163265306, 0.5040816326530613, 0.5040816326530613, 0.5061224489795918, 0.5061224489795918, 0.5102040816326531, 0.5102040816326531, 0.5163265306122449, 0.5163265306122449, 0.5183673469387755, 0.5183673469387755, 0.5204081632653061, 0.5204081632653061, 0.5224489795918368, 0.5224489795918368, 0.5244897959183673, 0.5244897959183673, 0.5285714285714286, 0.5285714285714286, 0.5306122448979592, 0.5306122448979592, 0.5326530612244897, 0.5326530612244897, 0.536734693877551, 0.536734693877551, 0.5408163265306123, 0.5408163265306123, 0.5428571428571428, 0.5428571428571428, 0.5448979591836735, 0.5448979591836735, 0.5551020408163265, 0.5551020408163265, 0.5571428571428572, 0.5571428571428572, 0.5591836734693878, 0.5591836734693878, 0.5612244897959183, 0.5612244897959183, 0.563265306122449, 0.563265306122449, 0.5653061224489796, 0.5653061224489796, 0.5795918367346938, 0.5795918367346938, 0.5836734693877551, 0.5836734693877551, 0.5857142857142857, 0.5857142857142857, 0.5918367346938775, 0.5918367346938775, 0.5938775510204082, 0.5938775510204082, 0.5959183673469388, 0.5959183673469388, 0.5979591836734693, 0.5979591836734693, 0.6, 0.6, 0.6061224489795919, 0.6061224489795919, 0.6122448979591837, 0.6122448979591837, 0.6142857142857143, 0.6142857142857143, 0.6183673469387755, 0.6183673469387755, 0.6244897959183674, 0.6244897959183674, 0.6265306122448979, 0.6265306122448979, 0.6306122448979592, 0.6306122448979592, 0.6326530612244898, 0.6326530612244898, 0.636734693877551, 0.636734693877551, 0.6428571428571429, 0.6428571428571429, 0.6448979591836734, 0.6448979591836734, 0.6469387755102041, 0.6469387755102041, 0.6510204081632653, 0.6510204081632653, 0.6530612244897959, 0.6530612244897959, 0.6551020408163265, 0.6551020408163265, 0.6612244897959184, 0.6612244897959184, 0.6632653061224489, 0.6632653061224489, 0.6653061224489796, 0.6653061224489796, 0.6673469387755102, 0.6673469387755102, 0.6693877551020408, 0.6693877551020408, 0.6714285714285714, 0.6714285714285714, 0.673469387755102, 0.673469387755102, 0.6775510204081633, 0.6775510204081633, 0.6836734693877551, 0.6836734693877551, 0.6857142857142857, 0.6857142857142857, 0.6877551020408164, 0.6877551020408164, 0.689795918367347, 0.689795918367347, 0.6918367346938775, 0.6918367346938775, 0.6938775510204082, 0.6938775510204082, 0.6959183673469388, 0.6959183673469388, 0.6979591836734694, 0.6979591836734694, 0.7, 0.7, 0.7081632653061225, 0.7081632653061225, 0.7122448979591837, 0.7122448979591837, 0.7183673469387755, 0.7183673469387755, 0.7224489795918367, 0.7224489795918367, 0.726530612244898, 0.726530612244898, 0.7285714285714285, 0.7285714285714285, 0.7306122448979592, 0.7306122448979592, 0.7326530612244898, 0.7326530612244898, 0.7346938775510204, 0.7346938775510204, 0.7387755102040816, 0.7387755102040816, 0.7408163265306122, 0.7408163265306122, 0.7448979591836735, 0.7448979591836735, 0.746938775510204, 0.746938775510204, 0.7489795918367347, 0.7489795918367347, 0.7510204081632653, 0.7510204081632653, 0.7551020408163265, 0.7551020408163265, 0.7591836734693878, 0.7591836734693878, 0.7612244897959184, 0.7612244897959184, 0.7653061224489796, 0.7653061224489796, 0.7693877551020408, 0.7693877551020408, 0.773469387755102, 0.773469387755102, 0.7755102040816326, 0.7755102040816326, 0.7775510204081633, 0.7775510204081633, 0.7816326530612245, 0.7816326530612245, 0.7836734693877551, 0.7836734693877551, 0.7857142857142857, 0.7857142857142857, 0.7877551020408163, 0.7877551020408163, 0.789795918367347, 0.789795918367347, 0.7918367346938775, 0.7918367346938775, 0.7938775510204081, 0.7938775510204081, 0.7959183673469388, 0.7959183673469388, 0.8, 0.8, 0.8020408163265306, 0.8020408163265306, 0.8040816326530612, 0.8040816326530612, 0.8061224489795918, 0.8061224489795918, 0.8081632653061225, 0.8081632653061225, 0.810204081632653, 0.810204081632653, 0.8122448979591836, 0.8122448979591836, 0.8142857142857143, 0.8142857142857143, 0.8183673469387756, 0.8183673469387756, 0.8204081632653061, 0.8204081632653061, 0.8224489795918367, 0.8224489795918367, 0.8244897959183674, 0.8244897959183674, 0.8244897959183674, 0.8244897959183674, 0.826530612244898, 0.826530612244898, 0.8306122448979592, 0.8306122448979592, 0.8326530612244898, 0.8326530612244898, 0.8367346938775511, 0.8367346938775511, 0.8387755102040816, 0.8387755102040816, 0.8448979591836735, 0.8448979591836735, 0.8530612244897959, 0.8530612244897959, 0.8551020408163266, 0.8551020408163266, 0.8591836734693877, 0.8591836734693877, 0.8612244897959184, 0.8612244897959184, 0.8653061224489796, 0.8653061224489796, 0.8673469387755102, 0.8673469387755102, 0.8693877551020408, 0.8693877551020408, 0.8714285714285714, 0.8714285714285714, 0.8734693877551021, 0.8734693877551021, 0.8755102040816326, 0.8755102040816326, 0.8775510204081632, 0.8775510204081632, 0.8795918367346939, 0.8795918367346939, 0.8816326530612245, 0.8816326530612245, 0.8836734693877552, 0.8836734693877552, 0.8857142857142857, 0.8857142857142857, 0.8877551020408163, 0.8877551020408163, 0.8918367346938776, 0.8918367346938776, 0.8938775510204081, 0.8938775510204081, 0.8959183673469387, 0.8959183673469387, 0.9, 0.9, 0.9020408163265307, 0.9020408163265307, 0.9040816326530612, 0.9040816326530612, 0.9081632653061225, 0.9081632653061225, 0.9122448979591836, 0.9122448979591836, 0.9142857142857143, 0.9142857142857143, 0.9163265306122449, 0.9163265306122449, 0.9204081632653062, 0.9204081632653062, 0.9244897959183673, 0.9244897959183673, 0.926530612244898, 0.926530612244898, 0.9285714285714286, 0.9285714285714286, 0.9306122448979591, 0.9306122448979591, 0.9326530612244898, 0.9326530612244898, 0.9346938775510204, 0.9346938775510204, 0.936734693877551, 0.936734693877551, 0.9387755102040817, 0.9387755102040817, 0.9469387755102041, 0.9469387755102041, 0.9489795918367347, 0.9489795918367347, 0.9510204081632653, 0.9510204081632653, 0.9530612244897959, 0.9530612244897959, 0.9551020408163265, 0.9551020408163265, 0.9571428571428572, 0.9571428571428572, 0.9591836734693877, 0.9591836734693877, 0.9612244897959183, 0.9612244897959183, 0.963265306122449, 0.963265306122449, 0.9653061224489796, 0.9653061224489796, 0.9673469387755103, 0.9673469387755103, 0.9693877551020408, 0.9693877551020408, 0.9714285714285714, 0.9714285714285714, 0.9734693877551021, 0.9734693877551021, 0.9755102040816327, 0.9755102040816327, 0.9775510204081632, 0.9775510204081632, 0.9795918367346939, 0.9795918367346939, 0.9816326530612245, 0.9816326530612245, 0.9836734693877551, 0.9836734693877551, 0.9857142857142858, 0.9857142857142858, 0.9877551020408163, 0.9877551020408163, 0.9897959183673469, 0.9897959183673469, 0.9918367346938776, 0.9918367346938776, 0.9938775510204082, 0.9938775510204082, 0.9959183673469387, 0.9959183673469387, 0.9979591836734694, 0.9979591836734694, 1.0, 1.0], \"yaxis\": \"y2\"}, {\"line\": {\"color\": \"rgb(205, 12, 24)\", \"dash\": \"dot\", \"width\": 2}, \"type\": \"scatter\", \"x\": [0, 1], \"xaxis\": \"x2\", \"y\": [0, 1], \"yaxis\": \"y2\"}, {\"marker\": {\"color\": [1.7022555338931038, 0.5103703450677064, 0.39019306715759994, 0.35456369414761746, 0.2837377898998907, 0.23687573145237278, 0.2117423345378637, 0.1997842569298738, 0.12609886566402378, 0.05962017983185225, 0.016917229088824128, -0.055942424565975514, -0.08970188362759039, -0.0899288065975654, -0.14862254809868788, -0.14906368402385264, -0.16000163823320374, -0.17217921427892255, -0.21321216008060662, -0.25743951724583736, -0.2723336933168494, -0.30167214582501567, -0.32851515919943225, -0.43334626579115954, -0.4657808357172624, -0.5230481494194563, -0.5286064653159751, -0.6830747941012115, -0.8689188086078529, -1.0220394043526326, -1.3644837670920715], \"colorscale\": [[0.0, \"rgb(0,0,255)\"], [0.1, \"rgb(51,153,255)\"], [0.2, \"rgb(102,204,255)\"], [0.3, \"rgb(153,204,255)\"], [0.4, \"rgb(204,204,255)\"], [0.5, \"rgb(255,255,255)\"], [0.6, \"rgb(255,204,255)\"], [0.7, \"rgb(255,153,255)\"], [0.8, \"rgb(255,102,204)\"], [0.9, \"rgb(255,102,102)\"], [1.0, \"rgb(255,0,0)\"]], \"line\": {\"color\": \"black\", \"width\": 0.6}}, \"name\": \"coefficients\", \"type\": \"bar\", \"x\": [\"TotalCharges_tenure\", \"Contract_Month-to-month\", \"MonthlyCharges\", \"PaperlessBilling\", \"InternetService_Fiber optic\", \"TotalCharges\", \"SeniorCitizen\", \"StreamingMovies\", \"StreamingTV\", \"PaymentMethod_Electronic check\", \"Partner\", \"DeviceProtection\", \"MultipleLines_Yes\", \"gender\", \"MultipleLines_No phone service\", \"Dependents\", \"Contract_One year\", \"PaymentMethod_Bank transfer (automatic)\", \"OnlineBackup\", \"PaymentMethod_Mailed check\", \"InternetService_DSL\", \"PaymentMethod_Credit card (automatic)\", \"TechSupport\", \"MultipleLines_No\", \"OnlineSecurity\", \"PhoneService\", \"MonthlyCharges_tenure\", \"InternetService_No\", \"avg_month_charges\", \"Contract_Two year\", \"tenure\"], \"xaxis\": \"x3\", \"y\": [1.7022555338931038, 0.5103703450677064, 0.39019306715759994, 0.35456369414761746, 0.2837377898998907, 0.23687573145237278, 0.2117423345378637, 0.1997842569298738, 0.12609886566402378, 0.05962017983185225, 0.016917229088824128, -0.055942424565975514, -0.08970188362759039, -0.0899288065975654, -0.14862254809868788, -0.14906368402385264, -0.16000163823320374, -0.17217921427892255, -0.21321216008060662, -0.25743951724583736, -0.2723336933168494, -0.30167214582501567, -0.32851515919943225, -0.43334626579115954, -0.4657808357172624, -0.5230481494194563, -0.5286064653159751, -0.6830747941012115, -0.8689188086078529, -1.0220394043526326, -1.3644837670920715], \"yaxis\": \"y3\"}],\n",
       "                        {\"annotations\": [{\"font\": {\"size\": 16}, \"showarrow\": false, \"text\": \"Confusion Matrix\", \"x\": 0.225, \"xanchor\": \"center\", \"xref\": \"paper\", \"y\": 1.0, \"yanchor\": \"bottom\", \"yref\": \"paper\"}, {\"font\": {\"size\": 16}, \"showarrow\": false, \"text\": \"Receiver operating characteristic\", \"x\": 0.775, \"xanchor\": \"center\", \"xref\": \"paper\", \"y\": 1.0, \"yanchor\": \"bottom\", \"yref\": \"paper\"}, {\"font\": {\"size\": 16}, \"showarrow\": false, \"text\": \"Feature Importances\", \"x\": 0.5, \"xanchor\": \"center\", \"xref\": \"paper\", \"y\": 0.375, \"yanchor\": \"bottom\", \"yref\": \"paper\"}], \"autosize\": false, \"height\": 900, \"margin\": {\"b\": 195}, \"paper_bgcolor\": \"rgba(240,240,240, 0.95)\", \"plot_bgcolor\": \"rgba(240,240,240, 0.95)\", \"showlegend\": false, \"template\": {\"data\": {\"bar\": [{\"error_x\": {\"color\": \"#2a3f5f\"}, \"error_y\": {\"color\": \"#2a3f5f\"}, \"marker\": {\"line\": {\"color\": \"#E5ECF6\", \"width\": 0.5}}, \"type\": \"bar\"}], \"barpolar\": [{\"marker\": {\"line\": {\"color\": \"#E5ECF6\", \"width\": 0.5}}, \"type\": \"barpolar\"}], \"carpet\": [{\"aaxis\": {\"endlinecolor\": \"#2a3f5f\", \"gridcolor\": \"white\", \"linecolor\": \"white\", \"minorgridcolor\": \"white\", \"startlinecolor\": \"#2a3f5f\"}, \"baxis\": {\"endlinecolor\": \"#2a3f5f\", \"gridcolor\": \"white\", \"linecolor\": \"white\", \"minorgridcolor\": \"white\", \"startlinecolor\": \"#2a3f5f\"}, \"type\": \"carpet\"}], \"choropleth\": [{\"colorbar\": {\"outlinewidth\": 0, \"ticks\": \"\"}, \"type\": \"choropleth\"}], \"contour\": [{\"colorbar\": {\"outlinewidth\": 0, \"ticks\": \"\"}, \"colorscale\": [[0.0, \"#0d0887\"], [0.1111111111111111, \"#46039f\"], [0.2222222222222222, \"#7201a8\"], [0.3333333333333333, \"#9c179e\"], [0.4444444444444444, \"#bd3786\"], [0.5555555555555556, \"#d8576b\"], [0.6666666666666666, \"#ed7953\"], [0.7777777777777778, \"#fb9f3a\"], [0.8888888888888888, \"#fdca26\"], [1.0, \"#f0f921\"]], \"type\": \"contour\"}], \"contourcarpet\": [{\"colorbar\": {\"outlinewidth\": 0, \"ticks\": \"\"}, \"type\": \"contourcarpet\"}], \"heatmap\": [{\"colorbar\": {\"outlinewidth\": 0, \"ticks\": \"\"}, \"colorscale\": [[0.0, \"#0d0887\"], [0.1111111111111111, \"#46039f\"], [0.2222222222222222, \"#7201a8\"], [0.3333333333333333, \"#9c179e\"], [0.4444444444444444, \"#bd3786\"], [0.5555555555555556, \"#d8576b\"], [0.6666666666666666, \"#ed7953\"], [0.7777777777777778, \"#fb9f3a\"], [0.8888888888888888, \"#fdca26\"], [1.0, \"#f0f921\"]], \"type\": \"heatmap\"}], \"heatmapgl\": [{\"colorbar\": {\"outlinewidth\": 0, \"ticks\": \"\"}, \"colorscale\": [[0.0, \"#0d0887\"], [0.1111111111111111, \"#46039f\"], [0.2222222222222222, \"#7201a8\"], [0.3333333333333333, \"#9c179e\"], [0.4444444444444444, \"#bd3786\"], [0.5555555555555556, \"#d8576b\"], [0.6666666666666666, \"#ed7953\"], [0.7777777777777778, \"#fb9f3a\"], [0.8888888888888888, \"#fdca26\"], [1.0, \"#f0f921\"]], \"type\": \"heatmapgl\"}], \"histogram\": [{\"marker\": {\"colorbar\": {\"outlinewidth\": 0, \"ticks\": \"\"}}, \"type\": \"histogram\"}], \"histogram2d\": [{\"colorbar\": {\"outlinewidth\": 0, \"ticks\": \"\"}, \"colorscale\": [[0.0, \"#0d0887\"], [0.1111111111111111, \"#46039f\"], [0.2222222222222222, \"#7201a8\"], [0.3333333333333333, \"#9c179e\"], [0.4444444444444444, \"#bd3786\"], [0.5555555555555556, \"#d8576b\"], [0.6666666666666666, \"#ed7953\"], [0.7777777777777778, \"#fb9f3a\"], [0.8888888888888888, \"#fdca26\"], [1.0, \"#f0f921\"]], \"type\": \"histogram2d\"}], \"histogram2dcontour\": [{\"colorbar\": {\"outlinewidth\": 0, \"ticks\": \"\"}, \"colorscale\": [[0.0, \"#0d0887\"], [0.1111111111111111, \"#46039f\"], [0.2222222222222222, \"#7201a8\"], [0.3333333333333333, \"#9c179e\"], [0.4444444444444444, \"#bd3786\"], [0.5555555555555556, \"#d8576b\"], [0.6666666666666666, \"#ed7953\"], [0.7777777777777778, \"#fb9f3a\"], [0.8888888888888888, \"#fdca26\"], [1.0, \"#f0f921\"]], \"type\": \"histogram2dcontour\"}], \"mesh3d\": [{\"colorbar\": {\"outlinewidth\": 0, \"ticks\": \"\"}, \"type\": \"mesh3d\"}], \"parcoords\": [{\"line\": {\"colorbar\": {\"outlinewidth\": 0, \"ticks\": \"\"}}, \"type\": \"parcoords\"}], \"pie\": [{\"automargin\": true, \"type\": \"pie\"}], \"scatter\": [{\"marker\": {\"colorbar\": {\"outlinewidth\": 0, \"ticks\": \"\"}}, \"type\": \"scatter\"}], \"scatter3d\": [{\"line\": {\"colorbar\": {\"outlinewidth\": 0, \"ticks\": \"\"}}, \"marker\": {\"colorbar\": {\"outlinewidth\": 0, \"ticks\": \"\"}}, \"type\": \"scatter3d\"}], \"scattercarpet\": [{\"marker\": {\"colorbar\": {\"outlinewidth\": 0, \"ticks\": \"\"}}, \"type\": \"scattercarpet\"}], \"scattergeo\": [{\"marker\": {\"colorbar\": {\"outlinewidth\": 0, \"ticks\": \"\"}}, \"type\": \"scattergeo\"}], \"scattergl\": [{\"marker\": {\"colorbar\": {\"outlinewidth\": 0, \"ticks\": \"\"}}, \"type\": \"scattergl\"}], \"scattermapbox\": [{\"marker\": {\"colorbar\": {\"outlinewidth\": 0, \"ticks\": \"\"}}, \"type\": \"scattermapbox\"}], \"scatterpolar\": [{\"marker\": {\"colorbar\": {\"outlinewidth\": 0, \"ticks\": \"\"}}, \"type\": \"scatterpolar\"}], \"scatterpolargl\": [{\"marker\": {\"colorbar\": {\"outlinewidth\": 0, \"ticks\": \"\"}}, \"type\": \"scatterpolargl\"}], \"scatterternary\": [{\"marker\": {\"colorbar\": {\"outlinewidth\": 0, \"ticks\": \"\"}}, \"type\": \"scatterternary\"}], \"surface\": [{\"colorbar\": {\"outlinewidth\": 0, \"ticks\": \"\"}, \"colorscale\": [[0.0, \"#0d0887\"], [0.1111111111111111, \"#46039f\"], [0.2222222222222222, \"#7201a8\"], [0.3333333333333333, \"#9c179e\"], [0.4444444444444444, \"#bd3786\"], [0.5555555555555556, \"#d8576b\"], [0.6666666666666666, \"#ed7953\"], [0.7777777777777778, \"#fb9f3a\"], [0.8888888888888888, \"#fdca26\"], [1.0, \"#f0f921\"]], \"type\": \"surface\"}], \"table\": [{\"cells\": {\"fill\": {\"color\": \"#EBF0F8\"}, \"line\": {\"color\": \"white\"}}, \"header\": {\"fill\": {\"color\": \"#C8D4E3\"}, \"line\": {\"color\": \"white\"}}, \"type\": \"table\"}]}, \"layout\": {\"annotationdefaults\": {\"arrowcolor\": \"#2a3f5f\", \"arrowhead\": 0, \"arrowwidth\": 1}, \"coloraxis\": {\"colorbar\": {\"outlinewidth\": 0, \"ticks\": \"\"}}, \"colorscale\": {\"diverging\": [[0, \"#8e0152\"], [0.1, \"#c51b7d\"], [0.2, \"#de77ae\"], [0.3, \"#f1b6da\"], [0.4, \"#fde0ef\"], [0.5, \"#f7f7f7\"], [0.6, \"#e6f5d0\"], [0.7, \"#b8e186\"], [0.8, \"#7fbc41\"], [0.9, \"#4d9221\"], [1, \"#276419\"]], \"sequential\": [[0.0, \"#0d0887\"], [0.1111111111111111, \"#46039f\"], [0.2222222222222222, \"#7201a8\"], [0.3333333333333333, \"#9c179e\"], [0.4444444444444444, \"#bd3786\"], [0.5555555555555556, \"#d8576b\"], [0.6666666666666666, \"#ed7953\"], [0.7777777777777778, \"#fb9f3a\"], [0.8888888888888888, \"#fdca26\"], [1.0, \"#f0f921\"]], \"sequentialminus\": [[0.0, \"#0d0887\"], [0.1111111111111111, \"#46039f\"], [0.2222222222222222, \"#7201a8\"], [0.3333333333333333, \"#9c179e\"], [0.4444444444444444, \"#bd3786\"], [0.5555555555555556, \"#d8576b\"], [0.6666666666666666, \"#ed7953\"], [0.7777777777777778, \"#fb9f3a\"], [0.8888888888888888, \"#fdca26\"], [1.0, \"#f0f921\"]]}, \"colorway\": [\"#636efa\", \"#EF553B\", \"#00cc96\", \"#ab63fa\", \"#FFA15A\", \"#19d3f3\", \"#FF6692\", \"#B6E880\", \"#FF97FF\", \"#FECB52\"], \"font\": {\"color\": \"#2a3f5f\"}, \"geo\": {\"bgcolor\": \"white\", \"lakecolor\": \"white\", \"landcolor\": \"#E5ECF6\", \"showlakes\": true, \"showland\": true, \"subunitcolor\": \"white\"}, \"hoverlabel\": {\"align\": \"left\"}, \"hovermode\": \"closest\", \"mapbox\": {\"style\": \"light\"}, \"paper_bgcolor\": \"white\", \"plot_bgcolor\": \"#E5ECF6\", \"polar\": {\"angularaxis\": {\"gridcolor\": \"white\", \"linecolor\": \"white\", \"ticks\": \"\"}, \"bgcolor\": \"#E5ECF6\", \"radialaxis\": {\"gridcolor\": \"white\", \"linecolor\": \"white\", \"ticks\": \"\"}}, \"scene\": {\"xaxis\": {\"backgroundcolor\": \"#E5ECF6\", \"gridcolor\": \"white\", \"gridwidth\": 2, \"linecolor\": \"white\", \"showbackground\": true, \"ticks\": \"\", \"zerolinecolor\": \"white\"}, \"yaxis\": {\"backgroundcolor\": \"#E5ECF6\", \"gridcolor\": \"white\", \"gridwidth\": 2, \"linecolor\": \"white\", \"showbackground\": true, \"ticks\": \"\", \"zerolinecolor\": \"white\"}, \"zaxis\": {\"backgroundcolor\": \"#E5ECF6\", \"gridcolor\": \"white\", \"gridwidth\": 2, \"linecolor\": \"white\", \"showbackground\": true, \"ticks\": \"\", \"zerolinecolor\": \"white\"}}, \"shapedefaults\": {\"line\": {\"color\": \"#2a3f5f\"}}, \"ternary\": {\"aaxis\": {\"gridcolor\": \"white\", \"linecolor\": \"white\", \"ticks\": \"\"}, \"baxis\": {\"gridcolor\": \"white\", \"linecolor\": \"white\", \"ticks\": \"\"}, \"bgcolor\": \"#E5ECF6\", \"caxis\": {\"gridcolor\": \"white\", \"linecolor\": \"white\", \"ticks\": \"\"}}, \"title\": {\"x\": 0.05}, \"xaxis\": {\"automargin\": true, \"gridcolor\": \"white\", \"linecolor\": \"white\", \"ticks\": \"\", \"title\": {\"standoff\": 15}, \"zerolinecolor\": \"white\", \"zerolinewidth\": 2}, \"yaxis\": {\"automargin\": true, \"gridcolor\": \"white\", \"linecolor\": \"white\", \"ticks\": \"\", \"title\": {\"standoff\": 15}, \"zerolinecolor\": \"white\", \"zerolinewidth\": 2}}}, \"title\": {\"text\": \"Model performance\"}, \"width\": 800, \"xaxis\": {\"anchor\": \"y\", \"domain\": [0.0, 0.45]}, \"xaxis2\": {\"anchor\": \"y2\", \"domain\": [0.55, 1.0], \"title\": {\"text\": \"false positive rate\"}}, \"xaxis3\": {\"anchor\": \"y3\", \"domain\": [0.0, 1.0], \"showgrid\": true, \"tickangle\": 90, \"tickfont\": {\"size\": 10}}, \"yaxis\": {\"anchor\": \"x\", \"domain\": [0.625, 1.0]}, \"yaxis2\": {\"anchor\": \"x2\", \"domain\": [0.625, 1.0], \"title\": {\"text\": \"true positive rate\"}}, \"yaxis3\": {\"anchor\": \"x3\", \"domain\": [0.0, 0.375]}},\n",
       "                        {\"responsive\": true}\n",
       "                    ).then(function(){\n",
       "                            \n",
       "var gd = document.getElementById('44fcba62-8bd7-49f2-bdfb-19457817c5bf');\n",
       "var x = new MutationObserver(function (mutations, observer) {{\n",
       "        var display = window.getComputedStyle(gd).display;\n",
       "        if (!display || display === 'none') {{\n",
       "            console.log([gd, 'removed!']);\n",
       "            Plotly.purge(gd);\n",
       "            observer.disconnect();\n",
       "        }}\n",
       "}});\n",
       "\n",
       "// Listen for the removal of the full notebook cells\n",
       "var notebookContainer = gd.closest('#notebook-container');\n",
       "if (notebookContainer) {{\n",
       "    x.observe(notebookContainer, {childList: true});\n",
       "}}\n",
       "\n",
       "// Listen for the clearing of the current output cell\n",
       "var outputEl = gd.closest('.output');\n",
       "if (outputEl) {{\n",
       "    x.observe(outputEl, {childList: true});\n",
       "}}\n",
       "\n",
       "                        })\n",
       "                };\n",
       "                });\n",
       "            </script>\n",
       "        </div>"
      ]
     },
     "metadata": {},
     "output_type": "display_data"
    },
    {
     "data": {
      "image/png": "[encoded data removed]",
      "text/plain": [
       "<Figure size 576x396 with 1 Axes>"
      ]
     },
     "metadata": {},
     "output_type": "display_data"
    }
   ],
   "source": [
    "from sklearn.model_selection import train_test_split\n",
    "from sklearn.linear_model import LogisticRegression\n",
    "from sklearn.metrics import confusion_matrix,accuracy_score,classification_report\n",
    "from sklearn.metrics import roc_auc_score,roc_curve,scorer\n",
    "from sklearn.metrics import f1_score\n",
    "import statsmodels.api as sm\n",
    "from sklearn.metrics import precision_score,recall_score\n",
    "from yellowbrick.classifier import DiscriminationThreshold\n",
    "#splitting train and test data \n",
    "train,test = train_test_split(telcom,test_size = .25 ,random_state = 111)\n",
    "    \n",
    "##seperating dependent and independent variables\n",
    "cols    = [i for i in telcom.columns if i not in Id_col + target_col]\n",
    "train_X = train[cols]\n",
    "train_Y = train[target_col]\n",
    "test_X  = test[cols]\n",
    "test_Y  = test[target_col]\n",
    "\n",
    "\n",
    "def telecom_churn_prediction(algorithm,training_x,testing_x,\n",
    "                             training_y,testing_y,cols,cf,threshold_plot) :\n",
    "    \n",
    "    #model\n",
    "    algorithm.fit(training_x,training_y)\n",
    "    predictions   = algorithm.predict(testing_x)\n",
    "    probabilities = algorithm.predict_proba(testing_x)\n",
    "    #coeffs\n",
    "    if   cf == \"coefficients\" :\n",
    "        coefficients  = pd.DataFrame(algorithm.coef_.ravel())\n",
    "    elif cf == \"features\" :\n",
    "        coefficients  = pd.DataFrame(algorithm.feature_importances_)\n",
    "        \n",
    "    column_df     = pd.DataFrame(cols)\n",
    "    coef_sumry    = (pd.merge(coefficients,column_df,left_index= True,\n",
    "                              right_index= True, how = \"left\"))\n",
    "    coef_sumry.columns = [\"coefficients\",\"features\"]\n",
    "    coef_sumry    = coef_sumry.sort_values(by = \"coefficients\",ascending = False)\n",
    "    \n",
    "    print (algorithm)\n",
    "    print (\"\\n Classification report : \\n\",classification_report(testing_y,predictions))\n",
    "    print (\"Accuracy   Score : \",accuracy_score(testing_y,predictions))\n",
    "    #confusion matrix\n",
    "    conf_matrix = confusion_matrix(testing_y,predictions)\n",
    "    #roc_auc_score\n",
    "    model_roc_auc = roc_auc_score(testing_y,predictions) \n",
    "    print (\"Area under curve : \",model_roc_auc,\"\\n\")\n",
    "    fpr,tpr,thresholds = roc_curve(testing_y,probabilities[:,1])\n",
    "    \n",
    "    #plot confusion matrix\n",
    "    trace1 = go.Heatmap(z = conf_matrix ,\n",
    "                        x = [\"Not churn\",\"Churn\"],\n",
    "                        y = [\"Not churn\",\"Churn\"],\n",
    "                        showscale  = False,colorscale = \"Picnic\",\n",
    "                        name = \"matrix\")\n",
    "    \n",
    "    #plot roc curve\n",
    "    trace2 = go.Scatter(x = fpr,y = tpr,\n",
    "                        name = \"Roc : \" + str(model_roc_auc),\n",
    "                        line = dict(color = ('rgb(22, 96, 167)'),width = 2))\n",
    "    trace3 = go.Scatter(x = [0,1],y=[0,1],\n",
    "                        line = dict(color = ('rgb(205, 12, 24)'),width = 2,\n",
    "                        dash = 'dot'))\n",
    "    \n",
    "    #plot coeffs\n",
    "    trace4 = go.Bar(x = coef_sumry[\"features\"],y = coef_sumry[\"coefficients\"],\n",
    "                    name = \"coefficients\",\n",
    "                    marker = dict(color = coef_sumry[\"coefficients\"],\n",
    "                                  colorscale = \"Picnic\",\n",
    "                                  line = dict(width = .6,color = \"black\")))\n",
    "    \n",
    "    #subplots\n",
    "    fig = tls.make_subplots(rows=2, cols=2, specs=[[{}, {}], [{'colspan': 2}, None]],\n",
    "                            subplot_titles=('Confusion Matrix',\n",
    "                                            'Receiver operating characteristic',\n",
    "                                            'Feature Importances'))\n",
    "    \n",
    "    fig.append_trace(trace1,1,1)\n",
    "    fig.append_trace(trace2,1,2)\n",
    "    fig.append_trace(trace3,1,2)\n",
    "    fig.append_trace(trace4,2,1)\n",
    "    \n",
    "    fig['layout'].update(showlegend=False, title=\"Model performance\" ,\n",
    "                         autosize = False,height = 900,width = 800,\n",
    "                         plot_bgcolor = 'rgba(240,240,240, 0.95)',\n",
    "                         paper_bgcolor = 'rgba(240,240,240, 0.95)',\n",
    "                         margin = dict(b = 195))\n",
    "    fig[\"layout\"][\"xaxis2\"].update(dict(title = \"false positive rate\"))\n",
    "    fig[\"layout\"][\"yaxis2\"].update(dict(title = \"true positive rate\"))\n",
    "    fig[\"layout\"][\"xaxis3\"].update(dict(showgrid = True,tickfont = dict(size = 10),\n",
    "                                        tickangle = 90))\n",
    "    py.iplot(fig)\n",
    "    \n",
    "    if threshold_plot == True : \n",
    "        visualizer = DiscriminationThreshold(algorithm)\n",
    "        visualizer.fit(training_x,training_y)\n",
    "        visualizer.poof()\n",
    "        \n",
    "logit  = LogisticRegression(C=1.0, class_weight=None, dual=False, fit_intercept=True,\n",
    "          intercept_scaling=1, max_iter=100, multi_class='ovr', n_jobs=1,\n",
    "          penalty='l2', random_state=None, solver='liblinear', tol=0.0001,\n",
    "          verbose=0, warm_start=False)\n",
    "\n",
    "telecom_churn_prediction(logit,train_X,test_X,train_Y,test_Y,\n",
    "                         cols,\"coefficients\",threshold_plot = True)"
   ]
  },
  {
   "cell_type": "markdown",
   "metadata": {},
   "source": [
    "__2. дополнить список моделей еще как минимум тремя (lightgbm, xgboost, svm, knn, naivebayes, сети, что-то еще)__\n"
   ]
  },
  {
   "cell_type": "code",
   "execution_count": 10,
   "metadata": {},
   "outputs": [],
   "source": [
    "result_table = pd.DataFrame(columns=['alg', 'precision_0', 'recall_0', 'f1-score_0',\n",
    "                                     'precision_1', 'recall_1', 'f1-score_1'])"
   ]
  },
  {
   "cell_type": "code",
   "execution_count": 11,
   "metadata": {},
   "outputs": [],
   "source": [
    "import xgboost as xgb, lightgbm as lgbm, catboost as catb\n",
    "from sklearn.neighbors import KNeighborsClassifier\n",
    "from imblearn.over_sampling import SMOTE\n",
    "import ast "
   ]
  },
  {
   "cell_type": "code",
   "execution_count": 13,
   "metadata": {},
   "outputs": [],
   "source": [
    "cols    = [i for i in telcom.columns if i not in Id_col+target_col]\n",
    "\n",
    "X = telcom[cols]\n",
    "y = telcom[target_col]\n",
    "\n",
    "#Split train and test data\n",
    "X_train,X_test,y_train,y_test = train_test_split(X,y, test_size = .25 , random_state = 111)\n",
    "\n",
    "#oversampling minority class using smote\n",
    "os = SMOTE(random_state = 0)\n",
    "os_smote_X,os_smote_Y = os.fit_sample(X_train,y_train)\n",
    "os_smote_X = pd.DataFrame(data = os_smote_X,columns=cols)\n",
    "os_smote_Y = pd.DataFrame(data = os_smote_Y,columns=target_col)\n",
    "###\n",
    "\n",
    "\n",
    "\n"
   ]
  },
  {
   "cell_type": "code",
   "execution_count": 14,
   "metadata": {},
   "outputs": [],
   "source": [
    "model_xgb = xgb.XGBClassifier(random_state=21)\n",
    "model_xgb.fit(os_smote_X, os_smote_Y)\n",
    "\n",
    "y_test_pred = model_xgb.predict(X_test)\n",
    "\n",
    "res = classification_report(y_test, y_test_pred, output_dict=True)\n",
    "result_table.loc[0] = ['XGBClassifier', res['0']['precision'], res['0']['recall'], res['0']['f1-score']\n",
    "                                      , res['1']['precision'], res['1']['recall'], res['1']['f1-score']]\n",
    "\n",
    "\n"
   ]
  },
  {
   "cell_type": "code",
   "execution_count": 15,
   "metadata": {},
   "outputs": [],
   "source": [
    "model_knn = KNeighborsClassifier()\n",
    "model_knn.fit(os_smote_X, os_smote_Y)\n",
    "\n",
    "y_train_pred = model_knn.predict(X_train)\n",
    "y_test_pred = model_knn.predict(X_test)\n",
    "\n",
    "res = classification_report(y_test, y_test_pred, output_dict=True)\n",
    "result_table.loc[1] = ['KNeighborsClassifier', res['0']['precision'], res['0']['recall'], res['0']['f1-score']\n",
    "                                      , res['1']['precision'], res['1']['recall'], res['1']['f1-score']]\n",
    "\n"
   ]
  },
  {
   "cell_type": "code",
   "execution_count": 16,
   "metadata": {},
   "outputs": [],
   "source": [
    "model_catb = catb.CatBoostClassifier(silent=True, random_state=21)\n",
    "model_catb.fit(os_smote_X, os_smote_Y)\n",
    "\n",
    "y_train_pred = model_catb.predict(X_train)\n",
    "y_test_pred = model_catb.predict(X_test)\n",
    "\n",
    "res = classification_report(y_test, y_test_pred, output_dict=True)\n",
    "result_table.loc[2] = ['CatBoostClassifier', res['0']['precision'], res['0']['recall'], res['0']['f1-score']\n",
    "                                      , res['1']['precision'], res['1']['recall'], res['1']['f1-score']]\n",
    "\n"
   ]
  },
  {
   "cell_type": "code",
   "execution_count": 17,
   "metadata": {},
   "outputs": [],
   "source": [
    "from sklearn.model_selection import KFold, GridSearchCV, RandomizedSearchCV\n",
    "from sklearn.ensemble import RandomForestClassifier\n",
    "\n",
    "params = {'n_estimators':[50, 100, 200, 500, 700],\n",
    "          'max_depth':[1,2,3,4,5]}\n",
    "cv=KFold(n_splits=4, random_state=21, shuffle=True)\n",
    "\n",
    "\n",
    "forest = RandomForestClassifier(max_depth=7, n_estimators = 100, random_state=42, class_weight={0:0.5, 1:1.5})\n",
    "rs = RandomizedSearchCV(forest, params, scoring='f1', cv=cv, n_jobs=-1)\n",
    "rs.fit(os_smote_X, os_smote_Y)\n",
    "param = rs.best_params_\n",
    "\n",
    "clf = RandomForestClassifier(max_depth=param['max_depth'], n_estimators = param['n_estimators'], random_state=17, class_weight={0:0.5, 1:1})\n",
    "clf.fit(X_train, y_train)\n",
    "\n",
    "y_train_pred = clf.predict(X_train)\n",
    "y_test_pred = clf.predict(X_test)\n",
    "\n",
    "res = classification_report(y_test, y_test_pred, output_dict=True)\n",
    "result_table.loc[3] = ['RandomForestClassifier', res['0']['precision'], res['0']['recall'], res['0']['f1-score']\n",
    "                                               , res['1']['precision'], res['1']['recall'], res['1']['f1-score']]\n"
   ]
  },
  {
   "cell_type": "markdown",
   "metadata": {},
   "source": [
    "__3. на выходе сформировать единую таблицу метрик качества со всеми моделями__\n"
   ]
  },
  {
   "cell_type": "code",
   "execution_count": 18,
   "metadata": {},
   "outputs": [],
   "source": [
    "result_table = result_table.set_index('alg')"
   ]
  },
  {
   "cell_type": "code",
   "execution_count": 19,
   "metadata": {},
   "outputs": [
    {
     "data": {
      "text/html": [
       "<div>\n",
       "<style scoped>\n",
       "    .dataframe tbody tr th:only-of-type {\n",
       "        vertical-align: middle;\n",
       "    }\n",
       "\n",
       "    .dataframe tbody tr th {\n",
       "        vertical-align: top;\n",
       "    }\n",
       "\n",
       "    .dataframe thead th {\n",
       "        text-align: right;\n",
       "    }\n",
       "</style>\n",
       "<table border=\"1\" class=\"dataframe\">\n",
       "  <thead>\n",
       "    <tr style=\"text-align: right;\">\n",
       "      <th></th>\n",
       "      <th>precision_0</th>\n",
       "      <th>recall_0</th>\n",
       "      <th>f1-score_0</th>\n",
       "      <th>precision_1</th>\n",
       "      <th>recall_1</th>\n",
       "      <th>f1-score_1</th>\n",
       "    </tr>\n",
       "    <tr>\n",
       "      <th>alg</th>\n",
       "      <th></th>\n",
       "      <th></th>\n",
       "      <th></th>\n",
       "      <th></th>\n",
       "      <th></th>\n",
       "      <th></th>\n",
       "    </tr>\n",
       "  </thead>\n",
       "  <tbody>\n",
       "    <tr>\n",
       "      <th>XGBClassifier</th>\n",
       "      <td>0.849206</td>\n",
       "      <td>0.843849</td>\n",
       "      <td>0.846519</td>\n",
       "      <td>0.602410</td>\n",
       "      <td>0.612245</td>\n",
       "      <td>0.607287</td>\n",
       "    </tr>\n",
       "    <tr>\n",
       "      <th>KNeighborsClassifier</th>\n",
       "      <td>0.869442</td>\n",
       "      <td>0.724763</td>\n",
       "      <td>0.790538</td>\n",
       "      <td>0.502140</td>\n",
       "      <td>0.718367</td>\n",
       "      <td>0.591100</td>\n",
       "    </tr>\n",
       "    <tr>\n",
       "      <th>CatBoostClassifier</th>\n",
       "      <td>0.852682</td>\n",
       "      <td>0.839905</td>\n",
       "      <td>0.846246</td>\n",
       "      <td>0.601179</td>\n",
       "      <td>0.624490</td>\n",
       "      <td>0.612613</td>\n",
       "    </tr>\n",
       "    <tr>\n",
       "      <th>RandomForestClassifier</th>\n",
       "      <td>0.889083</td>\n",
       "      <td>0.802839</td>\n",
       "      <td>0.843763</td>\n",
       "      <td>0.592170</td>\n",
       "      <td>0.740816</td>\n",
       "      <td>0.658205</td>\n",
       "    </tr>\n",
       "  </tbody>\n",
       "</table>\n",
       "</div>"
      ],
      "text/plain": [
       "                        precision_0  recall_0  f1-score_0  precision_1  \\\n",
       "alg                                                                      \n",
       "XGBClassifier              0.849206  0.843849    0.846519     0.602410   \n",
       "KNeighborsClassifier       0.869442  0.724763    0.790538     0.502140   \n",
       "CatBoostClassifier         0.852682  0.839905    0.846246     0.601179   \n",
       "RandomForestClassifier     0.889083  0.802839    0.843763     0.592170   \n",
       "\n",
       "                        recall_1  f1-score_1  \n",
       "alg                                           \n",
       "XGBClassifier           0.612245    0.607287  \n",
       "KNeighborsClassifier    0.718367    0.591100  \n",
       "CatBoostClassifier      0.624490    0.612613  \n",
       "RandomForestClassifier  0.740816    0.658205  "
      ]
     },
     "execution_count": 19,
     "metadata": {},
     "output_type": "execute_result"
    }
   ],
   "source": [
    "result_table"
   ]
  },
  {
   "cell_type": "markdown",
   "metadata": {},
   "source": [
    "__4. сделать выводы о том, какие модели лучше справляются с задачей прогноза оттока на этой выборке__\n"
   ]
  },
  {
   "cell_type": "markdown",
   "metadata": {},
   "source": [
    "Явного лидера не видно. Каждый алгоритм в чем-то выигрывает, а в чем-то проигрывает."
   ]
  },
  {
   "cell_type": "markdown",
   "metadata": {},
   "source": [
    "__5. есть ли смысл в этапе отборе признаков с точки зрения повышения качества прогнозов__\n"
   ]
  },
  {
   "cell_type": "markdown",
   "metadata": {},
   "source": [
    "Да, т.к. может найтись такой признак, который отрицательно влияет на прогноз. Например, кто-то пошутил и добавил random(0,1)  "
   ]
  },
  {
   "cell_type": "markdown",
   "metadata": {},
   "source": [
    "6. (опционально) сделать подбор параметров (без особого усердия) для лучшей (можно нескольких) моделей и проверить качество снова"
   ]
  }
 ],
 "metadata": {
  "kernelspec": {
   "display_name": "Python 3",
   "language": "python",
   "name": "python3"
  },
  "language_info": {
   "codemirror_mode": {
    "name": "ipython",
    "version": 3
   },
   "file_extension": ".py",
   "mimetype": "text/x-python",
   "name": "python",
   "nbconvert_exporter": "python",
   "pygments_lexer": "ipython3",
   "version": "3.7.3"
  }
 },
 "nbformat": 4,
 "nbformat_minor": 4
}
