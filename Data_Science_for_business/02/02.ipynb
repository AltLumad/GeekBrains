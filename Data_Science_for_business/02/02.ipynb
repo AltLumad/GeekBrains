{
 "cells": [
  {
   "cell_type": "markdown",
   "metadata": {},
   "source": [
    "## Временные ряды 2. Преобразование признаков "
   ]
  },
  {
   "cell_type": "markdown",
   "metadata": {},
   "source": [
    "p - глубина истории, сколько измерений назад учитываем в моделях   \n",
    "h - горизонт прогноза , на сколько измерений вперед смотрим при моделировании (как далеко предсказываем)\n",
    "\n",
    "__1. Прочитайте базу \"Потребление Энергии\" и сделайте модель для сезонных изменений по data_exp_1 с глубиной прогноза h=1 и h=10 по образцу из примера для обработки ряда \"цена Нефти\" .__\n",
    "\n"
   ]
  },
  {
   "cell_type": "code",
   "execution_count": 1,
   "metadata": {},
   "outputs": [],
   "source": [
    "%matplotlib inline\n",
    "\n",
    "import matplotlib.pyplot as plt\n",
    "import pandas as pd\n",
    "import seaborn as sns\n",
    "import numpy as np\n",
    "from sklearn.ensemble import GradientBoostingRegressor\n",
    "from sklearn.preprocessing import StandardScaler\n",
    "\n",
    "from sklearn.metrics import mean_absolute_error, mean_squared_error, median_absolute_error, r2_score\n",
    "import warnings\n",
    "warnings.filterwarnings('ignore')\n",
    "\n"
   ]
  },
  {
   "cell_type": "code",
   "execution_count": 2,
   "metadata": {},
   "outputs": [],
   "source": [
    "data = pd.read_csv('../lection2/my_PJME_MW.csv', index_col=[0], parse_dates=[0])\n"
   ]
  },
  {
   "cell_type": "code",
   "execution_count": 3,
   "metadata": {},
   "outputs": [],
   "source": [
    "def exponential_smoothing(series, alpha):\n",
    "    result = [series[0]] # first value is same as series\n",
    "    for n in range(1, len(series)):\n",
    "        result.append(alpha * series[n] + (1 - alpha) * result[n-1])\n",
    "    return result\n",
    "\n",
    "d_data=data.resample('D').mean()\n",
    "data_exp_1 = exponential_smoothing(d_data['PJME_MW']  , 0.05)"
   ]
  },
  {
   "cell_type": "code",
   "execution_count": 4,
   "metadata": {},
   "outputs": [],
   "source": [
    "d_ar = d_data['PJME_MW'].values\n",
    "d_s = pd.DataFrame(data = d_data[['PJME_MW']])\n"
   ]
  },
  {
   "cell_type": "code",
   "execution_count": 5,
   "metadata": {},
   "outputs": [],
   "source": [
    "data_exp_1 = pd.DataFrame(data = data_exp_1, index = d_s.index)"
   ]
  },
  {
   "cell_type": "code",
   "execution_count": 6,
   "metadata": {},
   "outputs": [
    {
     "data": {
      "text/html": [
       "<div>\n",
       "<style scoped>\n",
       "    .dataframe tbody tr th:only-of-type {\n",
       "        vertical-align: middle;\n",
       "    }\n",
       "\n",
       "    .dataframe tbody tr th {\n",
       "        vertical-align: top;\n",
       "    }\n",
       "\n",
       "    .dataframe thead th {\n",
       "        text-align: right;\n",
       "    }\n",
       "</style>\n",
       "<table border=\"1\" class=\"dataframe\">\n",
       "  <thead>\n",
       "    <tr style=\"text-align: right;\">\n",
       "      <th></th>\n",
       "      <th>0</th>\n",
       "      <th>t</th>\n",
       "      <th>exp_0_01</th>\n",
       "      <th>exp_0_03</th>\n",
       "      <th>exp_0_08</th>\n",
       "      <th>diff1</th>\n",
       "    </tr>\n",
       "    <tr>\n",
       "      <th>Date</th>\n",
       "      <th></th>\n",
       "      <th></th>\n",
       "      <th></th>\n",
       "      <th></th>\n",
       "      <th></th>\n",
       "      <th></th>\n",
       "    </tr>\n",
       "  </thead>\n",
       "  <tbody>\n",
       "    <tr>\n",
       "      <th>2002-01-01</th>\n",
       "      <td>31080.739130</td>\n",
       "      <td>0.000000</td>\n",
       "      <td>31080.739130</td>\n",
       "      <td>31080.739130</td>\n",
       "      <td>31080.739130</td>\n",
       "      <td>0.0</td>\n",
       "    </tr>\n",
       "    <tr>\n",
       "      <th>2002-01-02</th>\n",
       "      <td>31239.779257</td>\n",
       "      <td>31080.739130</td>\n",
       "      <td>31082.329532</td>\n",
       "      <td>31085.510334</td>\n",
       "      <td>31093.462341</td>\n",
       "      <td>0.0</td>\n",
       "    </tr>\n",
       "    <tr>\n",
       "      <th>2002-01-03</th>\n",
       "      <td>31403.384044</td>\n",
       "      <td>31239.779257</td>\n",
       "      <td>31085.540077</td>\n",
       "      <td>31095.046546</td>\n",
       "      <td>31118.256077</td>\n",
       "      <td>0.0</td>\n",
       "    </tr>\n",
       "    <tr>\n",
       "      <th>2002-01-04</th>\n",
       "      <td>31518.987759</td>\n",
       "      <td>31403.384044</td>\n",
       "      <td>31089.874554</td>\n",
       "      <td>31107.764782</td>\n",
       "      <td>31150.314611</td>\n",
       "      <td>0.0</td>\n",
       "    </tr>\n",
       "    <tr>\n",
       "      <th>2002-01-05</th>\n",
       "      <td>31463.294621</td>\n",
       "      <td>31518.987759</td>\n",
       "      <td>31093.608754</td>\n",
       "      <td>31118.430677</td>\n",
       "      <td>31175.353012</td>\n",
       "      <td>0.0</td>\n",
       "    </tr>\n",
       "  </tbody>\n",
       "</table>\n",
       "</div>"
      ],
      "text/plain": [
       "                       0             t      exp_0_01      exp_0_03  \\\n",
       "Date                                                                 \n",
       "2002-01-01  31080.739130      0.000000  31080.739130  31080.739130   \n",
       "2002-01-02  31239.779257  31080.739130  31082.329532  31085.510334   \n",
       "2002-01-03  31403.384044  31239.779257  31085.540077  31095.046546   \n",
       "2002-01-04  31518.987759  31403.384044  31089.874554  31107.764782   \n",
       "2002-01-05  31463.294621  31518.987759  31093.608754  31118.430677   \n",
       "\n",
       "                exp_0_08  diff1  \n",
       "Date                             \n",
       "2002-01-01  31080.739130    0.0  \n",
       "2002-01-02  31093.462341    0.0  \n",
       "2002-01-03  31118.256077    0.0  \n",
       "2002-01-04  31150.314611    0.0  \n",
       "2002-01-05  31175.353012    0.0  "
      ]
     },
     "execution_count": 6,
     "metadata": {},
     "output_type": "execute_result"
    }
   ],
   "source": [
    "df = pd.DataFrame(data_exp_1)\n",
    "df['t'] = 0\n",
    "df.iloc[1:,1]=df.iloc[:-1,0].values\n",
    "df.fillna(0)\n",
    "df['exp_0_01'] = exponential_smoothing(df[0], 0.01)\n",
    "df['exp_0_03'] = exponential_smoothing(df[0], 0.03)\n",
    "df['exp_0_08'] = exponential_smoothing(df[0], 0.08)\n",
    "df['diff1'] = 0\n",
    "df['diff1'].iloc[1:] = df.iloc[:-1,0]-df.iloc[1:,0]\n",
    "\n",
    "df.head()"
   ]
  },
  {
   "cell_type": "code",
   "execution_count": 7,
   "metadata": {},
   "outputs": [],
   "source": [
    "def split_data_d( data, split_date ):\n",
    "    return data.loc[data.index.get_level_values('Date') <= split_date].copy(), \\\n",
    "           data.loc[data.index.get_level_values('Date') >  split_date].copy()\n",
    "\n",
    "train_d, test_d = split_data_d( df, '10-10-2017')\n"
   ]
  },
  {
   "cell_type": "code",
   "execution_count": 8,
   "metadata": {},
   "outputs": [],
   "source": [
    "model_gb1 = GradientBoostingRegressor(max_depth=15, random_state=0, n_estimators=100)\n",
    "h=1\n",
    "X_train_d1 = train_d.iloc[:-h,:]\n",
    "y_train_d1 = train_d[df.columns[0]].values[h:]\n",
    "X_test_d1 = test_d.iloc[:-h,:]\n",
    "y_test_d1 = test_d[df.columns[0]].values[h:]\n",
    "\n",
    "model_gb1.fit( X_train_d1, y_train_d1) \n",
    "X_test_pred_gb1 = model_gb1.predict(X_test_d1)\n"
   ]
  },
  {
   "cell_type": "code",
   "execution_count": 9,
   "metadata": {},
   "outputs": [
    {
     "ename": "NameError",
     "evalue": "name 'X_train_d' is not defined",
     "output_type": "error",
     "traceback": [
      "\u001b[1;31m---------------------------------------------------------------------------\u001b[0m",
      "\u001b[1;31mNameError\u001b[0m                                 Traceback (most recent call last)",
      "\u001b[1;32m<ipython-input-9-5283f227989c>\u001b[0m in \u001b[0;36m<module>\u001b[1;34m\u001b[0m\n\u001b[0;32m      6\u001b[0m \u001b[0my_test_d10\u001b[0m \u001b[1;33m=\u001b[0m \u001b[0mtest_d\u001b[0m\u001b[1;33m[\u001b[0m\u001b[0mdf\u001b[0m\u001b[1;33m.\u001b[0m\u001b[0mcolumns\u001b[0m\u001b[1;33m[\u001b[0m\u001b[1;36m0\u001b[0m\u001b[1;33m]\u001b[0m\u001b[1;33m]\u001b[0m\u001b[1;33m.\u001b[0m\u001b[0mvalues\u001b[0m\u001b[1;33m[\u001b[0m\u001b[0mh\u001b[0m\u001b[1;33m:\u001b[0m\u001b[1;33m]\u001b[0m\u001b[1;33m\u001b[0m\u001b[1;33m\u001b[0m\u001b[0m\n\u001b[0;32m      7\u001b[0m \u001b[1;33m\u001b[0m\u001b[0m\n\u001b[1;32m----> 8\u001b[1;33m \u001b[0mmodel_gb10\u001b[0m\u001b[1;33m.\u001b[0m\u001b[0mfit\u001b[0m\u001b[1;33m(\u001b[0m \u001b[0mX_train_d\u001b[0m\u001b[1;33m,\u001b[0m \u001b[0my_train_d\u001b[0m \u001b[1;33m)\u001b[0m\u001b[1;33m\u001b[0m\u001b[1;33m\u001b[0m\u001b[0m\n\u001b[0m\u001b[0;32m      9\u001b[0m \u001b[0mX_test_pred_gb10\u001b[0m \u001b[1;33m=\u001b[0m \u001b[0mmodel_gb10\u001b[0m\u001b[1;33m.\u001b[0m\u001b[0mpredict\u001b[0m\u001b[1;33m(\u001b[0m\u001b[0mX_test_d\u001b[0m\u001b[1;33m)\u001b[0m\u001b[1;33m\u001b[0m\u001b[1;33m\u001b[0m\u001b[0m\n",
      "\u001b[1;31mNameError\u001b[0m: name 'X_train_d' is not defined"
     ]
    }
   ],
   "source": [
    "model_gb10 = GradientBoostingRegressor(max_depth=15, random_state=0, n_estimators=100)\n",
    "h=10\n",
    "X_train_d10 = train_d.iloc[:-h,:]\n",
    "y_train_d10 = train_d[df.columns[0]].values[h:]\n",
    "X_test_d10 = test_d.iloc[:-h,:]\n",
    "y_test_d10 = test_d[df.columns[0]].values[h:]\n",
    "\n",
    "model_gb10.fit( X_train_d, y_train_d ) \n",
    "X_test_pred_gb10 = model_gb10.predict(X_test_d)\n"
   ]
  },
  {
   "cell_type": "markdown",
   "metadata": {},
   "source": [
    "__2. Оцените ошибку модели из п.2 .__\n"
   ]
  },
  {
   "cell_type": "code",
   "execution_count": null,
   "metadata": {},
   "outputs": [],
   "source": [
    "def mean_absolute_percentage_error(y_true, y_pred): \n",
    "    y_true, y_pred = np.array(y_true), np.array(y_pred)\n",
    "    return np.mean(np.abs((y_true - y_pred) / y_true)) * 100\n",
    "\n",
    "er_g1 = mean_absolute_percentage_error(y_true=y_test_d1, y_pred=X_test_pred_gb1)\n",
    "er_g10 = mean_absolute_percentage_error(y_true=y_test_d10, y_pred=X_test_pred_gb10)\n",
    "print('ошибка градиентного бустинга при h 1:  ', er_g1, '%')\n",
    "print('ошибка градиентного бустинга при h 10:  ', er_g10, '%')\n"
   ]
  },
  {
   "cell_type": "markdown",
   "metadata": {},
   "source": [
    "__3. Сделайте вывод о том, как изменилась ошибка модели по значениям h.__\n",
    "\n",
    "При h=10 модель стала хуже"
   ]
  },
  {
   "cell_type": "markdown",
   "metadata": {},
   "source": [
    "__4. Попробуйте предположить характер ряда (стационарный или нет, с трендом, с сезоном, с циклом) для рядов из списка и аргументируйте свой ответ (одна строка):   \n",
    "    а) Изменение температуры за окном :).   \n",
    "    б) Количество денег, которые тратят покупатели в интернет магазине.   \n",
    "    в) Вес растущего котенка.   \n",
    "    г) Прирост объема деревьев в лесу от времени__\n",
    "    \n",
    "    \n",
    "Ответ:    \n",
    "    a) Не является, т.к. присутвует сезонность   \n",
    "    б) Не является. Сезонность, в виде праздников, выходных и т.д.\n",
    "    в) Не является. Присутвует тренд.\n",
    "    д) Можно сказать что является. Т.к. на прирост деревьев в лесу влияет множество внешних процессов. \n",
    "\n",
    "\n",
    "    \n",
    "\n",
    "\n"
   ]
  },
  {
   "cell_type": "code",
   "execution_count": null,
   "metadata": {},
   "outputs": [],
   "source": []
  }
 ],
 "metadata": {
  "kernelspec": {
   "display_name": "Python 3",
   "language": "python",
   "name": "python3"
  },
  "language_info": {
   "codemirror_mode": {
    "name": "ipython",
    "version": 3
   },
   "file_extension": ".py",
   "mimetype": "text/x-python",
   "name": "python",
   "nbconvert_exporter": "python",
   "pygments_lexer": "ipython3",
   "version": "3.7.3"
  }
 },
 "nbformat": 4,
 "nbformat_minor": 2
}
