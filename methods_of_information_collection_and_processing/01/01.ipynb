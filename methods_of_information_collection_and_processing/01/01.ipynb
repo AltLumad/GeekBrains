{
 "cells": [
  {
   "cell_type": "markdown",
   "metadata": {},
   "source": [
    "###### 1. Посмотреть документацию к API GitHub, разобраться как вывести список репозиториев для конкретного пользователя, сохранить JSON-вывод в файле *.json."
   ]
  },
  {
   "cell_type": "code",
   "execution_count": 1,
   "metadata": {},
   "outputs": [],
   "source": [
    "import os\n",
    "import requests as re\n",
    "import json"
   ]
  },
  {
   "cell_type": "code",
   "execution_count": 2,
   "metadata": {},
   "outputs": [],
   "source": [
    "GITHUB_KEY = os.environ[\"GITHUB_KEY\"]\n",
    "url = 'https://api.github.com/graphql'\n",
    "username = 'AltLumad'"
   ]
  },
  {
   "cell_type": "code",
   "execution_count": 3,
   "metadata": {},
   "outputs": [],
   "source": [
    "query = \"\"\"\n",
    "query { \n",
    "  user(login : \"%s\") {\n",
    "    repositories(first:100){\n",
    "       nodes {\n",
    "        name\n",
    "      }\n",
    "    }\n",
    "  } \n",
    "}\n",
    "\"\"\" % username"
   ]
  },
  {
   "cell_type": "code",
   "execution_count": 4,
   "metadata": {},
   "outputs": [
    {
     "name": "stdout",
     "output_type": "stream",
     "text": [
      "LearnNumber\n",
      "GeekBrains\n"
     ]
    }
   ],
   "source": [
    "jsn = { 'query' : query }\n",
    "headers = {'Authorization': 'token %s' % GITHUB_KEY}\n",
    "r = re.post(url=url, json=jsn, headers=headers)\n",
    "\n",
    "if r.ok:\n",
    "    data = r.json()\n",
    "    repos = data['data']['user']['repositories']['nodes']\n",
    "    for r in repos:\n",
    "        print(r['name'])\n",
    "    \n",
    "    with open(\"data.json\", \"w\", encoding=\"utf-8\") as file:\n",
    "        json.dump(data, file)\n",
    "else:\n",
    "    print(r.text)\n",
    "\n",
    "\n",
    "\n"
   ]
  },
  {
   "cell_type": "markdown",
   "metadata": {},
   "source": [
    "###### 2. Выполнить запрос методом GET к ресурсам, использующим любой тип авторизации через Postman, Python."
   ]
  },
  {
   "cell_type": "code",
   "execution_count": 18,
   "metadata": {},
   "outputs": [],
   "source": [
    "lnk = 'https://www.thecocktaildb.com/api/json/v1/1/search.php?f=b'"
   ]
  },
  {
   "cell_type": "code",
   "execution_count": 19,
   "metadata": {},
   "outputs": [
    {
     "name": "stdout",
     "output_type": "stream",
     "text": [
      "B-53\n",
      "B-52\n",
      "Bijou\n",
      "Boxcar\n",
      "Big Red\n",
      "Bellini\n",
      "Bramble\n",
      "Balmoral\n",
      "Bluebird\n",
      "Brooklyn\n",
      "Boomerang\n",
      "Bora Bora\n",
      "Barracuda\n",
      "Buccaneer\n",
      "Brigadier\n",
      "Broadside\n",
      "Blackthorn\n",
      "Bob Marley\n",
      "Bubble Gum\n",
      "Bible Belt\n",
      "Brain Fart\n",
      "Bloody Mary\n",
      "Blue Lagoon\n",
      "Boston Sour\n",
      "Brandy Flip\n"
     ]
    }
   ],
   "source": [
    "r = re.get(url=lnk)\n",
    "if r.ok:\n",
    "    data = r.json()\n",
    "    print('Все коктейли на букву \"b\"')\n",
    "    for d in data['drinks']:\n",
    "        print(d['strDrink'])\n",
    "else:\n",
    "    print(r.text)"
   ]
  },
  {
   "cell_type": "code",
   "execution_count": null,
   "metadata": {},
   "outputs": [],
   "source": []
  }
 ],
 "metadata": {
  "kernelspec": {
   "display_name": "Python 3",
   "language": "python",
   "name": "python3"
  },
  "language_info": {
   "codemirror_mode": {
    "name": "ipython",
    "version": 3
   },
   "file_extension": ".py",
   "mimetype": "text/x-python",
   "name": "python",
   "nbconvert_exporter": "python",
   "pygments_lexer": "ipython3",
   "version": "3.7.3"
  }
 },
 "nbformat": 4,
 "nbformat_minor": 2
}
