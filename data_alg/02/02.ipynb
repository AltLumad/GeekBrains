{
 "cells": [
  {
   "cell_type": "markdown",
   "metadata": {},
   "source": [
    "__1__ Постройте график зависимости весов всех признаков от lambda в L2-регуляризации (на данных из урока)."
   ]
  },
  {
   "cell_type": "code",
   "execution_count": 1,
   "metadata": {},
   "outputs": [],
   "source": [
    "import numpy as np\n",
    "import matplotlib.pyplot as plt\n",
    "\n",
    "\n",
    "X = np.array([[1, 1, 1, 1, 1, 1, 1, 1, 1, 1],\n",
    "              [1, 1, 2, 5, 3, 0, 5, 10, 1, 2],\n",
    "              [500, 700, 750, 600, 1450, 800, 1500, 2000, 450, 1000],\n",
    "              [1, 1, 2, 1, 2, 1, 3, 3, 1, 2]])\n",
    "\n",
    "y = [45, 55, 50, 55, 60, 35, 75, 80, 50, 60]\n",
    "\n",
    "\n",
    "X_norm = X.copy()\n",
    "X_norm = X_norm.astype(np.float64)\n",
    "\n",
    "for i in range(1,X_norm.shape[0]):\n",
    "    X_norm[i] = (X[i] - X[i].min()) / (X[i].max() - X[i].min())\n",
    "\n",
    "def calc_mse(y, y_pred):\n",
    "    err = np.mean((y - y_pred)**2)\n",
    "    return err\n",
    "    \n",
    "def eval_model_reg2(lambda_):\n",
    "    res = []\n",
    "    for l in lambda_:\n",
    "        np.random.seed(42)\n",
    "        W = np.random.randn(X_norm.shape[0])\n",
    "        n = X_norm.shape[1]\n",
    "        for i in range(1, 5001):\n",
    "            y_pred = np.dot(W, X_norm)\n",
    "            err = calc_mse(y, y_pred)\n",
    "            W -= 1e-2 * (1/n * 2 * np.dot((y_pred - y), X_norm.T) + l* W) \n",
    "        res.append(W)\n",
    "    return res    \n",
    "    \n"
   ]
  },
  {
   "cell_type": "code",
   "execution_count": 2,
   "metadata": {},
   "outputs": [
    {
     "data": {
      "image/png": "[encoded data removed]",
      "text/plain": [
       "<Figure size 432x288 with 1 Axes>"
      ]
     },
     "metadata": {
      "needs_background": "light"
     },
     "output_type": "display_data"
    }
   ],
   "source": [
    "    \n",
    "lambda__ = [1 / 10**i for i in range(10)]\n",
    "res = eval_model_reg2(lambda__)\n",
    "\n",
    "plt.xlabel('lambda')\n",
    "plt.ylabel('W')\n",
    "plt.ylim(0, 50)\n",
    "plt.xlim(0,0.1)\n",
    "\n",
    "plt.plot(lambda__, res)\n",
    "plt.show()\n",
    "#print(*res, sep='\\n')"
   ]
  },
  {
   "cell_type": "markdown",
   "metadata": {},
   "source": [
    "__2__ Можно ли к одному и тому же признаку применить сразу и нормализацию, и стандартизацию?"
   ]
  },
  {
   "cell_type": "markdown",
   "metadata": {},
   "source": [
    "Применить можно, но зачем? Это лишние вычисления.\n",
    "В зависимости от того, что мы применим последне, нормализацию или стандартизацию, то и признак будет нормализированным или стандартизированным."
   ]
  },
  {
   "cell_type": "markdown",
   "metadata": {},
   "source": [
    "__3__ Напишите функцию наподобие eval_model_reg2, но для применения L1-регуляризации."
   ]
  },
  {
   "cell_type": "code",
   "execution_count": 3,
   "metadata": {},
   "outputs": [],
   "source": [
    "import numpy as np\n",
    "def eval_model_reg(X, y, iterations, alpha=1e-4, lambda_=1e-8):\n",
    "    np.random.seed(42)\n",
    "    W = np.random.randn(X.shape[0])\n",
    "    n = X.shape[1]\n",
    "    for i in range(1, iterations+1):\n",
    "        y_pred = np.dot(W, X)\n",
    "        err = calc_mse(y, y_pred)\n",
    "        W -= alpha * (1/n * 2 * np.dot((y_pred - y), X.T) + lambda_ * W/np.abs(W)) \n",
    "    return W"
   ]
  }
 ],
 "metadata": {
  "kernelspec": {
   "display_name": "Python 3",
   "language": "python",
   "name": "python3"
  },
  "language_info": {
   "codemirror_mode": {
    "name": "ipython",
    "version": 3
   },
   "file_extension": ".py",
   "mimetype": "text/x-python",
   "name": "python",
   "nbconvert_exporter": "python",
   "pygments_lexer": "ipython3",
   "version": "3.7.3"
  }
 },
 "nbformat": 4,
 "nbformat_minor": 2
}
