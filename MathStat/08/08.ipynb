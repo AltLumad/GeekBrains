{
 "cells": [
  {
   "cell_type": "markdown",
   "metadata": {},
   "source": [
    "### Урок 8. Дисперсионный анализ. Логистическая регрессия   \n",
    "1) Провести дисперсионный анализ для определения того, есть ли различия среднего роста среди взрослых футболистов, хоккеистов и штангистов. Даны значения роста в трех группах случайно выбранных спортсменов: Футболисты: 173, 175, 180, 178, 177, 185, 183, 182. Хоккеисты: 177, 179, 180, 188, 177, 172, 171, 184, 180. Штангисты: 172, 173, 169, 177, 166, 180, 178, 177, 172, 166, 170."
   ]
  },
  {
   "attachments": {},
   "cell_type": "markdown",
   "metadata": {},
   "source": [
    "Тестируем нулевую гипотезу Н0 : µ1 =µ2 =µ3    \n",
    "$df_m = k - 1 = 2$   \n",
    "$df_v = n1 + n2 + n3 - k = 28 - 2 = 26$\n",
    "\n",
    "$F_{KP} = 3.37$"
   ]
  },
  {
   "cell_type": "code",
   "execution_count": 6,
   "metadata": {},
   "outputs": [
    {
     "name": "stdout",
     "output_type": "stream",
     "text": [
      "5.500053450812596\n"
     ]
    }
   ],
   "source": [
    "import numpy as np\n",
    "from scipy import stats\n",
    "stats.f_oneway?\n",
    "y1 = [173, 175, 180, 178, 177, 185, 183, 182] #Футболисты\n",
    "y2 = [177, 179, 180, 188, 177, 172, 171, 184, 180] #Хоккеисты\n",
    "y3 = [172, 173, 169, 177, 166, 180, 178, 177, 172, 166, 170] #Штангисты\n",
    "\n",
    "res = stats.f_oneway(y1,y2,y3)\n",
    "print(res.statistic)"
   ]
  },
  {
   "attachments": {},
   "cell_type": "markdown",
   "metadata": {},
   "source": [
    "5.5 > 3.37   \n",
    "Следовательно, различие между группами статистически значимое   \n"
   ]
  }
 ],
 "metadata": {
  "kernelspec": {
   "display_name": "Python 3",
   "language": "python",
   "name": "python3"
  },
  "language_info": {
   "codemirror_mode": {
    "name": "ipython",
    "version": 3
   },
   "file_extension": ".py",
   "mimetype": "text/x-python",
   "name": "python",
   "nbconvert_exporter": "python",
   "pygments_lexer": "ipython3",
   "version": "3.7.3"
  }
 },
 "nbformat": 4,
 "nbformat_minor": 2
}
