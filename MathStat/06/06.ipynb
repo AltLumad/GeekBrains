{
 "cells": [
  {
   "cell_type": "markdown",
   "metadata": {},
   "source": [
    "1. Даны значения величины заработной платы заемщиков банка (zp) и значения их поведенческого кредитного скоринга (ks):  \n",
    "zp = [35, 45, 190, 200, 40, 70, 54, 150, 120, 110],   \n",
    "ks = [401, 574, 874, 919, 459, 739, 653, 902, 746, 832].   \n",
    "Найдите ковариацию этих двух величин с помощью элементарных действий, а затем с помощью функции cov из numpy. Полученные значения должны быть равны.    \n",
    "Найдите коэффициент корреляции Пирсона с помощью ковариации и среднеквадратичных отклонений двух признаков, а затем с использованием функций из библиотек numpy и pandas.\n"
   ]
  },
  {
   "cell_type": "code",
   "execution_count": 1,
   "metadata": {},
   "outputs": [
    {
     "name": "stdout",
     "output_type": "stream",
     "text": [
      "Ковариация: 9157.839999999997 \tЗначения равны:  True\n",
      "Корреляция:  0.8875 0.8875 0.8875\n"
     ]
    }
   ],
   "source": [
    "import numpy as np\n",
    "import pandas as pd\n",
    "\n",
    "zp = np.array([35, 45, 190, 200, 40, 70, 54, 150, 120, 110])\n",
    "ks = np.array([401, 574, 874, 919, 459, 739, 653, 902, 746, 832])\n",
    "\n",
    "cov = np.mean(zp*ks) - np.mean(zp)*np.mean(ks)\n",
    "print('Ковариация:', cov, '\\tЗначения равны: ', round(cov,2)==np.cov(ks,zp, ddof=0)[0,1])\n",
    "\n",
    "\n",
    "corr = round(cov/(zp.std()*ks.std()),4) #Т.к. в np.corrcoef параметр ddof устарел и не влияет на результат, то используем ссмещенную оценку\n",
    "\n",
    "d = {'zp': zp, 'ks': ks}\n",
    "df = pd.DataFrame(data=d)\n",
    "dfcorr = round(df.corr()['zp'][1],4)\n",
    "npcorr = round(np.corrcoef(zp, ks)[0,1],4) #ddof : _NoValue, optional Has no effect, do not use.\n",
    "\n",
    "print('Корреляция: ', corr, npcorr, dfcorr) \n"
   ]
  },
  {
   "cell_type": "markdown",
   "metadata": {},
   "source": [
    "2. Измерены значения IQ выборки студентов, обучающихся в местных технических вузах: 131, 125, 115, 122, 131, 115, 107, 99, 125, 111. Известно, что в генеральной совокупности IQ распределен нормально. Найдите доверительный интервал для математического ожидания с надежностью 0.95."
   ]
  },
  {
   "cell_type": "markdown",
   "metadata": {},
   "source": [
    "$\\vec{X} \\pm t_{a/2}\\frac{\\sigma}{\\sqrt{n}}$   \n",
    "$\\vec{X} = \\frac{1}{n}\\sum_{i=1}^n{X_i} = 118.1$    \n",
    "$t_{a/2} = 2.262$   \n",
    "$\\sigma = \\sqrt{\\frac{1}{n-1}\\sum_{i=1}^n(X_i - \\vec{X})^2} = 10.546$     \n",
    "$118.1 \\pm 2.262*\\frac{10.546}{\\sqrt{10}}$   \n",
    "$118.1 \\pm 7.544$   \n",
    "Ответ: $[110.556‬;125.644‬]$\n"
   ]
  },
  {
   "cell_type": "markdown",
   "metadata": {},
   "source": [
    "3. Известно, что рост футболистов в сборной распределен нормально с дисперсией генеральной совокупности, равной 25 кв.см. Объем выборки равен 27, среднее выборочное составляет 174.2. Найдите доверительный интервал для математического ожидания с надежностью 0.95.   \n",
    "$\\vec{X} \\pm Z_{a/2}\\frac{\\sigma}{\\sqrt{n}}$    \n",
    "$174.2 \\pm 1.96*\\sqrt{25}/\\sqrt{27}$   \n",
    "$174.2 \\pm 1.885$  \n",
    "Ответ: $[172.315‬;176.085]$"
   ]
  },
  {
   "cell_type": "markdown",
   "metadata": {},
   "source": [
    "С темой курсовой ещё не определился :("
   ]
  }
 ],
 "metadata": {
  "kernelspec": {
   "display_name": "Python 3",
   "language": "python",
   "name": "python3"
  },
  "language_info": {
   "codemirror_mode": {
    "name": "ipython",
    "version": 3
   },
   "file_extension": ".py",
   "mimetype": "text/x-python",
   "name": "python",
   "nbconvert_exporter": "python",
   "pygments_lexer": "ipython3",
   "version": "3.7.3"
  }
 },
 "nbformat": 4,
 "nbformat_minor": 2
}
