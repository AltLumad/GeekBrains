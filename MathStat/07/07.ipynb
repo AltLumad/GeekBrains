{
 "cells": [
  {
   "cell_type": "markdown",
   "metadata": {},
   "source": [
    "### Урок 7. Многомерный статистический анализ. Линейная регрессия\n"
   ]
  },
  {
   "cell_type": "markdown",
   "metadata": {},
   "source": [
    "1. Даны значения величины заработной платы заемщиков банка (zp) и значения их поведенческого кредитного скоринга (ks): zp = [35, 45, 190, 200, 40, 70, 54, 150, 120, 110], ks = [401, 574, 874, 919, 459, 739, 653, 902, 746, 832]. Используя математические операции, посчитать коэффициенты линейной регрессии, приняв за X заработную плату (то есть, zp - признак), а за y - значения скорингового балла (то есть, ks - целевая переменная). Произвести расчет как с использованием intercept, так и без."
   ]
  },
  {
   "cell_type": "code",
   "execution_count": 1,
   "metadata": {},
   "outputs": [],
   "source": [
    "import numpy as np\n",
    "zp = [35, 45, 190, 200, 40, 70, 54, 150, 120, 110]\n",
    "ks = [401, 574, 874, 919, 459, 739, 653, 902, 746, 832]\n",
    "X = np.array(zp)\n",
    "y = np.array(ks)"
   ]
  },
  {
   "cell_type": "code",
   "execution_count": 2,
   "metadata": {},
   "outputs": [
    {
     "name": "stdout",
     "output_type": "stream",
     "text": [
      "444.1773573243596\n",
      "2.620538882402765\n"
     ]
    }
   ],
   "source": [
    "b = (np.mean(X*y)-np.mean(X)*np.mean(y))/(np.mean(X**2)-np.mean(X)**2)\n",
    "a = np.mean(y)-b*np.mean(X)\n",
    "print(a)\n",
    "print(b)"
   ]
  },
  {
   "cell_type": "code",
   "execution_count": 3,
   "metadata": {},
   "outputs": [
    {
     "name": "stdout",
     "output_type": "stream",
     "text": [
      "444.17735732435904\n",
      "2.620538882402766\n"
     ]
    }
   ],
   "source": [
    "#Матричный метод\n",
    "X = np.array(zp)\n",
    "y = np.array(ks)\n",
    "l = len(zp)\n",
    "X = np.hstack([np.ones((l,1)), X.reshape(l,1)])\n",
    "y = np.hstack([np.ones((l,1)), y.reshape(l,1)])\n",
    "\n",
    "B = np.dot(np.linalg.inv(np.dot(X.T,X)),X.T@y)\n",
    "print(B[0,1])\n",
    "print(B[1,1])"
   ]
  },
  {
   "cell_type": "markdown",
   "metadata": {},
   "source": [
    "2. Посчитать коэффициент линейной регрессии при заработной плате (zp), используя градиентный спуск (без intercept)."
   ]
  },
  {
   "cell_type": "code",
   "execution_count": 32,
   "metadata": {},
   "outputs": [
    {
     "name": "stdout",
     "output_type": "stream",
     "text": [
      "B1=0.25952808, mse=493237.7212546963\n",
      "B1=5.8898204201285544, mse=56516.85841571941\n",
      "B1=5.889820420132673, mse=56516.85841571943\n",
      "B1=5.889820420132673, mse=56516.85841571943\n",
      "B1=5.889820420132673, mse=56516.85841571943\n",
      "B1=5.889820420132673, mse=56516.85841571943\n",
      "B1=5.889820420132673, mse=56516.85841571943\n",
      "B1=5.889820420132673, mse=56516.85841571943\n",
      "B1=5.889820420132673, mse=56516.85841571943\n",
      "B1=5.889820420132673, mse=56516.85841571943\n"
     ]
    }
   ],
   "source": [
    "X = np.array(zp)\n",
    "y = np.array(ks)\n",
    "B1 = 0.1\n",
    "alpha = 1e-6\n",
    "\n",
    "def mse(B1,y,X):\n",
    "    return np.sum((B1*X-y)**2)/len(X)\n",
    "\n",
    "for i in range(10000):\n",
    "    B1 -= (2/len(X)) *alpha *np.sum((B1*X-y)*X)\n",
    "    if i % 1000 == 0:\n",
    "        print(f'B1={B1}, mse={mse(B1,y,X)}')\n",
    "\n",
    "#Не понимаю что дальше :("
   ]
  },
  {
   "cell_type": "markdown",
   "metadata": {},
   "source": [
    "3. В каких случаях для вычисления доверительных интервалов и проверки статистических гипотез используется таблица значений функции Лапласа, а в каких - таблица критических точек распределения Стьюдента? "
   ]
  },
  {
   "cell_type": "markdown",
   "metadata": {},
   "source": [
    "4. Произвести вычисления как в пункте 2, но с вычислением intercept. Учесть, что изменение коэффициентов должно производиться на каждом шаге одновременно (то есть изменение одного коэффициента не должно влиять на изменение другого во время одной итерации)"
   ]
  }
 ],
 "metadata": {
  "kernelspec": {
   "display_name": "Python 3",
   "language": "python",
   "name": "python3"
  },
  "language_info": {
   "codemirror_mode": {
    "name": "ipython",
    "version": 3
   },
   "file_extension": ".py",
   "mimetype": "text/x-python",
   "name": "python",
   "nbconvert_exporter": "python",
   "pygments_lexer": "ipython3",
   "version": "3.7.3"
  }
 },
 "nbformat": 4,
 "nbformat_minor": 2
}
