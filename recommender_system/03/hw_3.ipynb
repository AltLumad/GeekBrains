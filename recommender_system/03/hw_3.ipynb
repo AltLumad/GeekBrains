{
 "cells": [
  {
   "cell_type": "markdown",
   "metadata": {},
   "source": [
    "## Теоретическая часть"
   ]
  },
  {
   "cell_type": "markdown",
   "metadata": {},
   "source": [
    "___1. Вспомним прошлый вебинар, мы рассматривали User-User рекомендации и Item-Item рекомендации. Чем они отличаются и чем они похожи? Если есть функция item_item_rec(interaction_matrix). Можно ли использовать эту функцию для user_user_rec?    \n",
    "В чем принципиальные отличия item-item рекомендаций от ALS?___\n"
   ]
  },
  {
   "cell_type": "markdown",
   "metadata": {},
   "source": [
    "_Чем они отличаются и чем они похожи?_   \n",
    "Обе модели используют некоторую функцию определения схожести. На вебинаре мы рассмотривали косинусное сходство, но есть и другие. Разница между этими двума моделями, только в том, похожесть чего они определяют, пользователя или товара.   \n",
    "___\n",
    "_Если есть функция item_item_rec(interaction_matrix). Можно ли использовать эту функцию для user_user_rec?_   \n",
    "Если реализация функции item_item_rec достаточно универсальная, то можно ей подать на вход траспонированную матрицу interaction_matrix, чтобы получить предсказание для пользователей. item_item_rec(interaction_matrix.T)   \n",
    "___  \n",
    "_В чем принципиальные отличия item-item рекомендаций от ALS?_\n",
    "В item-item мы проверяем явное сходство между двумя сущностями, а в ALS мы делаем декомпозицию исходной матрицы, на вектора пользователей и вектора товаров. И предсказание делается, на основе умножения вектора товара на вектора пользователя."
   ]
  },
  {
   "cell_type": "markdown",
   "metadata": {},
   "source": [
    "___2. Приведите 3 примера весов (те, которых не было на вебинаре: сумма покупок, количество покупок - неинтересно) user-item матрицы для задачи рекомендаций товаров___   \n",
    "1. Акции. Акционные товары покупают охотнее.  \n",
    "2. Номер недели/52. Те или иные товары более популярны в разное время года.   \n",
    "3. Время покупки товара. Утром чаще покупают газеты и кофе в офис. Вечером что-то для расслабления.   "
   ]
  },
  {
   "cell_type": "markdown",
   "metadata": {},
   "source": [
    "___3. Какие ограничения есть у ALS? (Тип информации, линейность/нелинейность факторов и т д)___   \n",
    "\n",
    "- ALS не умеет корректно работать с новыми пользователями.\n",
    "- ALS не учитывает характеристики пользователей и товаров, т.е. модель может обучиться до какого-то предела, что обычно хуже чем если использовать использования весь набор полезных характеристик.   \n",
    "- Пересечение user-item - это скалярная величина, т.е. имея много информации по взаимодействию пользователя и товара, это будет преобразовано в число. Т.е. потеря информации.  "
   ]
  },
  {
   "cell_type": "markdown",
   "metadata": {},
   "source": [
    "___4. Мы рассматривали bm_25_weight.    \n",
    "Опишите, как он работает. Как сделать рекомендации только на основе bm_25? (Можно и нужно пользоваться любыми источниками, приложите на них ссылки). Какие еще способы перевзвешивания user-item матрицы Вы знаете / можете предложить (ещё 2-3 способа)?___"
   ]
  },
  {
   "attachments": {
    "image-2.png": {
     "image/png": "[encoded data removed]"
    },
    "image.png": {
     "image/png": "[encoded data removed]"
    }
   },
   "cell_type": "markdown",
   "metadata": {},
   "source": [
    "__BM25__ — фнукция оценивает частоту взаимодействия с товаром по всем пользователям.\n",
    "\n",
    "![image.png](attachment:image.png)\n",
    "\n",
    "![image-2.png](attachment:image-2.png)\n",
    "\n",
    "$f(q_i,D)$ частота взаимодейтсвия пользоватей с товаром $q_i$ в строке $D$ матрицы $item-user$    \n",
    "$|D|$  длина строки (количество пользователей, т.е. количество столбцов в матрице $item-user$)   \n",
    "$avgdl$ — средняя длина строки. В нашем случае она финсирована и вседа равна $|D|$        \n",
    "k и b — свободные коэффициенты, обычно их выбирают как k = 2.0 и b = 0.75. \n",
    "\n",
    "\n",
    "   \n",
    "   \n",
    "Источники:   \n",
    "https://habr.com/ru/post/162937/   \n",
    "https://ru.wikipedia.org/wiki/Okapi_BM25   "
   ]
  },
  {
   "cell_type": "markdown",
   "metadata": {},
   "source": [
    "__Как сделать рекомендацию на основе bm25__\n",
    "\n",
    "Пришел в голову такой вариант:   \n",
    "Делаем N случайных рекомендация, и на матрице $item-user$ через bm25, находим лучшего пользователя которому это подходит.   \n",
    "\n",
    "Или такой:   \n",
    "Пусть пользователю U, мы делаем 5 случайных рекомендаци. Эти рекомендации мы взвешиваем на матрице $item-user$. Далее любым оптимизационным алгоритмом(генетический, имитация отжиги и т.д.), находим лучшую случайную рекомендацию.   \n",
    "___\n",
    "Проблемы этого алгоритма, в том ничего не предсказывает. Он покажет какие товары пользователь уже купил, и именно это порекомендует.   \n",
    "Другое дело что мы через определённые товары захотим найти пользователя который это купил. \n",
    "\n"
   ]
  },
  {
   "cell_type": "markdown",
   "metadata": {},
   "source": [
    "__Какие еще способы перевзвешивания user-item матрицы Вы знаете / можете предложить (ещё 2-3 способа)?__   \n",
    "Удалось только найти модификации такие как bm11 и bm15   \n"
   ]
  },
  {
   "cell_type": "markdown",
   "metadata": {},
   "source": [
    "## Практическая часть\n"
   ]
  },
  {
   "cell_type": "markdown",
   "metadata": {},
   "source": [
    "### Подбор матрицы $c_{ui}$\n",
    "Попробуйте различные варианты матрицы весов (3+ вариантов). Обучите алгоритм для различных $C$. В качестве результата приведите таблицу: матрица весов - результат на train и validation.\n",
    "Сделате качественные выводы.\n"
   ]
  },
  {
   "cell_type": "code",
   "execution_count": 1,
   "metadata": {},
   "outputs": [],
   "source": [
    "import pandas as pd\n",
    "import numpy as np\n",
    "import matplotlib.pyplot as plt\n",
    "%matplotlib inline\n",
    "\n",
    "# Для работы с матрицами\n",
    "from scipy.sparse import csr_matrix\n",
    "from scipy import stats\n",
    "\n",
    "# Матричная факторизация\n",
    "import implicit\n",
    "from implicit.als import AlternatingLeastSquares\n",
    "from implicit.nearest_neighbours import bm25_weight, tfidf_weight\n",
    "import warnings\n",
    "warnings.filterwarnings('ignore')"
   ]
  },
  {
   "cell_type": "code",
   "execution_count": 2,
   "metadata": {},
   "outputs": [],
   "source": [
    "def precision_at_k(recommended_list, bought_list, k=5):\n",
    "    bought_list = np.array(bought_list)\n",
    "    recommended_list = np.array(recommended_list)[:k]\n",
    "    flags = np.isin(bought_list, recommended_list)\n",
    "    return flags.sum() / len(recommended_list)"
   ]
  },
  {
   "cell_type": "code",
   "execution_count": 3,
   "metadata": {},
   "outputs": [],
   "source": [
    "def get_recommendations(user, model, sparse_user_item, N=5):\n",
    "    res = [id_to_itemid[rec[0]] for rec in \n",
    "                    model.recommend(userid=userid_to_id[user], \n",
    "                                    user_items=sparse_user_item,   # на вход user-item matrix\n",
    "                                    N=N, \n",
    "                                    filter_already_liked_items=False, \n",
    "                                    filter_items=None, \n",
    "                                    recalculate_user=True)]\n",
    "    return res"
   ]
  },
  {
   "cell_type": "code",
   "execution_count": 4,
   "metadata": {},
   "outputs": [],
   "source": [
    "data = pd.read_csv('../data/retail_train.csv')\n",
    "\n",
    "data.columns = [col.lower() for col in data.columns]\n",
    "data.rename(columns={'household_key': 'user_id',\n",
    "                    'product_id': 'item_id'},\n",
    "           inplace=True)\n",
    "\n",
    "data['norm_retail_disc'] =  (data['retail_disc']-data['retail_disc'].min())/(data['retail_disc'].max() - data['retail_disc'].min())\n",
    "data['week_no_52'] =  data['week_no'] % 52\n",
    "data['week_no_52'] =  (data['week_no_52']-data['week_no_52'].min())/(data['week_no_52'].max() - data['week_no_52'].min())\n",
    "\n",
    "data['sec_trans_time'] = (60*data['trans_time'].astype(int)/100 + data['trans_time'] % 100)*60\n",
    "data['sec_trans_time'] =  (data['sec_trans_time']-data['sec_trans_time'].min())/(data['sec_trans_time'].max() - data['week_no_52'].min()).astype(float)\n",
    "\n",
    "test_size_weeks = 3\n",
    "data_train = data[data['week_no'] < data['week_no'].max() - test_size_weeks]\n",
    "data_test = data[data['week_no'] >= data['week_no'].max() - test_size_weeks]\n",
    "\n"
   ]
  },
  {
   "cell_type": "code",
   "execution_count": 5,
   "metadata": {},
   "outputs": [],
   "source": [
    "item_features = pd.read_csv('../data/product.csv')\n",
    "item_features.columns = [col.lower() for col in item_features.columns]\n",
    "item_features.rename(columns={'product_id': 'item_id'}, inplace=True)"
   ]
  },
  {
   "cell_type": "code",
   "execution_count": 38,
   "metadata": {},
   "outputs": [],
   "source": [
    "result_train = data_train.groupby('user_id')['item_id'].unique().reset_index()\n",
    "result_train.columns=['user_id', 'actual']\n",
    "result = data_test.groupby('user_id')['item_id'].unique().reset_index()\n",
    "result.columns=['user_id', 'actual']"
   ]
  },
  {
   "cell_type": "code",
   "execution_count": 7,
   "metadata": {},
   "outputs": [],
   "source": [
    "popularity = data_train.groupby('item_id')['quantity'].sum().reset_index()\n",
    "popularity.rename(columns={'quantity': 'n_sold'}, inplace=True)\n",
    "\n",
    "top_5000 = popularity.sort_values('n_sold', ascending=False).head(5000).item_id.tolist()\n",
    "data_train.loc[~data_train['item_id'].isin(top_5000), 'item_id'] = 999999"
   ]
  },
  {
   "cell_type": "code",
   "execution_count": 8,
   "metadata": {},
   "outputs": [],
   "source": [
    "\n",
    "user_item_matrix_quantity = pd.pivot_table(data_train, \n",
    "                                  index='user_id', columns='item_id', \n",
    "                                  values='quantity', aggfunc='count', \n",
    "                                  fill_value=0).astype(float)\n",
    "\n",
    "user_item_matrix_norm_retail_disc = pd.pivot_table(data_train, \n",
    "                                  index='user_id', columns='item_id', \n",
    "                                  values='norm_retail_disc', aggfunc='mean', \n",
    "                                  fill_value=0).astype(float)\n",
    "\n",
    "user_item_matrix_week_no_52 = pd.pivot_table(data_train, \n",
    "                                  index='user_id', columns='item_id', \n",
    "                                  values='week_no_52', aggfunc='mean', \n",
    "                                  fill_value=0).astype(float)\n",
    "\n",
    "user_item_matrix_sec_trans_time = pd.pivot_table(data_train, \n",
    "                                  index='user_id', columns='item_id', \n",
    "                                  values='sec_trans_time', aggfunc=lambda x : stats.mode(x)[0], \n",
    "                                  fill_value=0).astype(float)\n"
   ]
  },
  {
   "cell_type": "code",
   "execution_count": null,
   "metadata": {},
   "outputs": [],
   "source": []
  },
  {
   "cell_type": "code",
   "execution_count": 9,
   "metadata": {},
   "outputs": [],
   "source": [
    "userids = user_item_matrix_quantity.index.values\n",
    "itemids = user_item_matrix_quantity.columns.values\n",
    "\n",
    "matrix_userids = np.arange(len(userids))\n",
    "matrix_itemids = np.arange(len(itemids))\n",
    "\n",
    "id_to_itemid = dict(zip(matrix_itemids, itemids))\n",
    "id_to_userid = dict(zip(matrix_userids, userids))\n",
    "\n",
    "itemid_to_id = dict(zip(itemids, matrix_itemids))\n",
    "userid_to_id = dict(zip(userids, matrix_userids))"
   ]
  },
  {
   "cell_type": "code",
   "execution_count": 15,
   "metadata": {},
   "outputs": [],
   "source": [
    "!export OPENBLAS_NUM_THREADS=1"
   ]
  },
  {
   "cell_type": "code",
   "execution_count": 30,
   "metadata": {},
   "outputs": [],
   "source": [
    "\n",
    "model = AlternatingLeastSquares(factors=100, #k\n",
    "                                regularization=0.001,\n",
    "                                iterations=15, \n",
    "                                calculate_training_loss=True, \n",
    "                                num_threads=4)\n",
    "\n",
    "def CheckWeight(model, user_item_matrix, valid):\n",
    "    sparse_user_item = csr_matrix(user_item_matrix).tocsr()\n",
    "    model.fit(csr_matrix(user_item_matrix).T, show_progress=False)\n",
    "\n",
    "    recs = model.recommend(userid=userid_to_id[2],  # userid - id от 0 до N\n",
    "                            user_items=csr_matrix(user_item_matrix).tocsr(),   # на вход user-item matrix\n",
    "                            N=5, # кол-во рекомендаций \n",
    "                            filter_already_liked_items=False, \n",
    "                            filter_items=None, \n",
    "                            recalculate_user=True)\n",
    "    valid['als'] = valid['user_id'].apply(lambda x: get_recommendations(x, model=model, sparse_user_item=sparse_user_item, N=5))\n",
    "    return valid.apply(lambda row: precision_at_k(row['als'], row['actual']), axis=1).mean()\n"
   ]
  },
  {
   "cell_type": "code",
   "execution_count": 11,
   "metadata": {},
   "outputs": [],
   "source": [
    "lst_user_item_matrix = [user_item_matrix_quantity, user_item_matrix_norm_retail_disc, \n",
    "user_item_matrix_week_no_52, user_item_matrix_sec_trans_time]"
   ]
  },
  {
   "cell_type": "code",
   "execution_count": 12,
   "metadata": {},
   "outputs": [
    {
     "name": "stdout",
     "output_type": "stream",
     "text": [
      "CPU times: user 5min 37s, sys: 3min 36s, total: 9min 13s\n",
      "Wall time: 1min 34s\n"
     ]
    }
   ],
   "source": [
    "%%time\n",
    "res = []\n",
    "\n",
    "for uim in lst_user_item_matrix:\n",
    "    res.append(CheckWeight(model, uim, result))\n",
    "    \n"
   ]
  },
  {
   "cell_type": "code",
   "execution_count": 13,
   "metadata": {},
   "outputs": [
    {
     "name": "stdout",
     "output_type": "stream",
     "text": [
      "quantity \t 0.16317335945151815\n",
      "retail_disc \t 0.1843290891283056\n",
      "week_no_52 \t 0.18207639569049952\n",
      "sec_trans_time \t 0.17394711067580806\n"
     ]
    }
   ],
   "source": [
    "columns=['quantity', 'retail_disc', 'week_no_52', 'sec_trans_time']\n",
    "for c,r in zip(columns, res):\n",
    "    print(c,'\\t', r)"
   ]
  },
  {
   "cell_type": "markdown",
   "metadata": {},
   "source": [
    "### Оптимизация гипперпараметров\n",
    "Для лучшей матрицы весов из первого задания подберите оптимальные $\\lambda$ и n_factors. Подбор можно делать вручную (цикл в цикле, аналог sklearn.GridSearch, или случайно - sklearn.RandomSearch). Или Вы можете воспользоваться библиотеками для автоматического подбора гипперпараметров (любые на Ваш вкус). В качестве результата постройте графики:\n",
    "1. Значение параметра - время обучения \n",
    "2. Значение параметра - качество train, качество validation  \n",
    "\n",
    "Сделайте качественные выводы"
   ]
  },
  {
   "cell_type": "code",
   "execution_count": 42,
   "metadata": {},
   "outputs": [],
   "source": [
    "import collections\n",
    "import time\n",
    "\n",
    "\n",
    "\n",
    "\n",
    "BestModel = collections.namedtuple('BestModel', ['model', 'score_valid', 'score_test', 'param','time'])\n",
    "params = {\n",
    "   'factors' : [25, 50, 75, 100, 300],\n",
    "   'regularization' : [1, 0.1, 0.01, 0.05, 0.001]\n",
    "}\n",
    "best_model = BestModel(model=None, score_valid=0, score_test=0, param=None, time=0)"
   ]
  },
  {
   "cell_type": "code",
   "execution_count": 43,
   "metadata": {},
   "outputs": [
    {
     "name": "stdout",
     "output_type": "stream",
     "text": [
      "Checked: factors=25 regularization=1\n",
      "Checked: factors=25 regularization=0.1\n",
      "Checked: factors=25 regularization=0.01\n",
      "Checked: factors=25 regularization=0.05\n",
      "Checked: factors=25 regularization=0.001\n",
      "Checked: factors=50 regularization=1\n",
      "Checked: factors=50 regularization=0.1\n",
      "Checked: factors=50 regularization=0.01\n",
      "Checked: factors=50 regularization=0.05\n",
      "Checked: factors=50 regularization=0.001\n",
      "Checked: factors=75 regularization=1\n",
      "Checked: factors=75 regularization=0.1\n",
      "Checked: factors=75 regularization=0.01\n",
      "Checked: factors=75 regularization=0.05\n",
      "Checked: factors=75 regularization=0.001\n",
      "Checked: factors=100 regularization=1\n",
      "Checked: factors=100 regularization=0.1\n",
      "Checked: factors=100 regularization=0.01\n",
      "Checked: factors=100 regularization=0.05\n",
      "Checked: factors=100 regularization=0.001\n",
      "Checked: factors=300 regularization=1\n",
      "Checked: factors=300 regularization=0.1\n",
      "Checked: factors=300 regularization=0.01\n",
      "Checked: factors=300 regularization=0.05\n",
      "Checked: factors=300 regularization=0.001\n",
      "CPU times: user 1h 38min 14s, sys: 1h 8min 56s, total: 2h 47min 11s\n",
      "Wall time: 28min 31s\n"
     ]
    }
   ],
   "source": [
    "%%time\n",
    "models=[]\n",
    "for f in params['factors']:\n",
    "    for r in params['regularization']:\n",
    "        start_time = time.time()\n",
    "        model = AlternatingLeastSquares(factors=f, #k\n",
    "                                        regularization=r,\n",
    "                                        iterations=15, \n",
    "                                        calculate_training_loss=True, \n",
    "                                        num_threads=4)\n",
    "        score_valid = CheckWeight(model,user_item_matrix_norm_retail_disc,result)\n",
    "        score_test = CheckWeight(model,user_item_matrix_norm_retail_disc,result_train)\n",
    "        tm = (time.time() - start_time)\n",
    "        models.append(BestModel(model, score_valid, score_test,\n",
    "                                {'factors' : f, 'regularization' : r}, tm))\n",
    "        if best_model.score_valid < score_valid:\n",
    "            best_model = models[-1]\n",
    "        print(f'Checked: factors={f} regularization={r}')"
   ]
  },
  {
   "cell_type": "code",
   "execution_count": 48,
   "metadata": {},
   "outputs": [
    {
     "data": {
      "text/plain": [
       "{'factors': 50, 'regularization': 1}"
      ]
     },
     "execution_count": 48,
     "metadata": {},
     "output_type": "execute_result"
    }
   ],
   "source": [
    "best_model.param"
   ]
  },
  {
   "cell_type": "code",
   "execution_count": 49,
   "metadata": {},
   "outputs": [
    {
     "data": {
      "text/plain": [
       "0.19500489715964742"
      ]
     },
     "execution_count": 49,
     "metadata": {},
     "output_type": "execute_result"
    }
   ],
   "source": [
    "best_model.score_valid"
   ]
  },
  {
   "cell_type": "code",
   "execution_count": 50,
   "metadata": {},
   "outputs": [],
   "source": [
    "import matplotlib.pyplot as plt"
   ]
  },
  {
   "cell_type": "code",
   "execution_count": 59,
   "metadata": {},
   "outputs": [
    {
     "data": {
      "image/png": "[encoded data removed]",
      "text/plain": [
       "<Figure size 576x288 with 2 Axes>"
      ]
     },
     "metadata": {
      "needs_background": "light"
     },
     "output_type": "display_data"
    }
   ],
   "source": [
    "fig, ax = plt.subplots(nrows=1, ncols=2,figsize=(8, 4))\n",
    "vscores = np.array([m.score_valid for m in models])\n",
    "tscores = np.array([m.score_test for m in models])\n",
    "times = np.array([m.time for m in models])\n",
    "param = np.array([m.param['factors'] for m in models])\n",
    "ax[0].plot(param, times)\n",
    "ax[1].plot(param,vscores,label=\"valid\")\n",
    "ax[1].plot(param,tscores,label=\"train\")\n",
    "ax[1].set_xlabel('$Factor$')\n",
    "ax[1].set_ylabel('$Score$')\n",
    "ax[1].legend(loc=\"upper left\")\n",
    "plt.show()"
   ]
  },
  {
   "cell_type": "markdown",
   "metadata": {},
   "source": [
    "__Выводы__   \n",
    "\n",
    "1) Веса могут сильно влияться на ALS модель. Т.е. задача сводится к фиче-инженирингу.   \n",
    "2) С увеличением параметра модели _factors_ время возрастает по экспоненте. Хотя из формулы кажется что должна быть линейная зависимоть, но всё таки перемножение векторов на CPU дело не очень быстрое. На GPU возможно было бы быстрее.   \n",
    "3) Очень большая разница между тренировачным и тестовым скором. Это прям расстраивает. И модель видится нежизнеспособной.     "
   ]
  }
 ],
 "metadata": {
  "kernelspec": {
   "display_name": "Python 3",
   "language": "python",
   "name": "python3"
  },
  "language_info": {
   "codemirror_mode": {
    "name": "ipython",
    "version": 3
   },
   "file_extension": ".py",
   "mimetype": "text/x-python",
   "name": "python",
   "nbconvert_exporter": "python",
   "pygments_lexer": "ipython3",
   "version": "3.6.9"
  }
 },
 "nbformat": 4,
 "nbformat_minor": 2
}
