{
 "cells": [
  {
   "cell_type": "markdown",
   "metadata": {},
   "source": [
    "1. Сравните метрики hit_rate@k, precision@k.   \n",
    "Какую метрику использовать предпочтительно и почему?  \n",
    "Приведите пример 2-3 задач (опишите, что является клиентом, что товаром), в которой более уместно использовать метрику hit_rate?\n"
   ]
  },
  {
   "cell_type": "markdown",
   "metadata": {},
   "source": [
    "Если _Hit rate@k_ показывает был ли ралевантен хотя бы один товар, а _Precision@k_ показывает долю ролевантных товаров, то _Precision@k_ кажется более наглядным.   \n",
    "Обычно мы хотим максимизировать прибыль, для этого модель должна выдавать как можно большее количество ралевантных товаров. _Precision@k_ для таких случаев подходит иделаьно.   \n",
    "\n",
    "_hit_rate@k_ подходит для таких случаев как например:   \n",
    "1) Магазин специализируется только на одном виде товаров. Пусть будет автосалон. Вряд ли человек(клиент), захочет себе несколько машин(товар). Но при этом автосалон должен выдать такую рекомендацию, что бы клиент хоть что-то из этого но купил.   \n",
    "2) Запросы в поисковике. Например мы ищем ответ на ворос \"Что такое перцептрон\". На первой странице мы получим 20 ссылок. Но случайные 1-2 ссылки будут достаточны для ответа на вопрос. Здесь: пользователь - клиент, сслыка - товар.   \n",
    "3) Агрегатор товаров. Агрегатор выдаёт рекомендации по производителям. Могут быть такие производители, у которых мало что покупают. Нас здесь как раз интересует факт покупки. Тогда агрегатор может отказаться сотрудничать с таким производителем. Здесь: пользователь - клиент, товар производителя - товар.\n",
    "\n",
    "\n",
    "\n",
    "\n",
    "\n"
   ]
  },
  {
   "cell_type": "markdown",
   "metadata": {},
   "source": [
    "2. В метрике NDCG@k мы используем логарифм в знаменателе. Как Вы думаете, почему именно логарифм? Какую функцию можно использовать вместо логарифма? Привидите пример метрик/подходов к предобработке данных/функций ошибок в ML, где также в  логарифм.\n",
    "\n"
   ]
  },
  {
   "cell_type": "markdown",
   "metadata": {},
   "source": [
    "_\"Использование логарифма как функции дисконтирования можно объяснить следующими интуитивными соображениями: с точки зрения ранжирования позиции в начале списка отличаются гораздо сильнее, чем позиции в его конце. Так, в случае поискового движка между позициями 1 и 11 целая пропасть (лишь в нескольких случаях из ста пользователь заходит дальшей первой страницы поисковой выдачи), а между позициями 101 и 111 особой разницы нет — до них мало кто доходит.\"_ [Ваша ссылка на хабр))](https://habr.com/ru/company/econtenta/blog/303458/)   \n",
    "\n",
    "Своими словами: чем дальше элемент по списку тем меньшее значение имеет знаменатель. Ну а сам логарифм уменьшает влияние знаменателя.   \n",
    "\n",
    "Вместо логорифма можно использовать например: корень второй или третьей степени.   \n",
    "\n",
    "Пример метрик и подходов с логарифмом: логарифмеческая функция потерь, неявно логарифм присутвует в дереве решений, активационная функция SoftPlus.\n"
   ]
  },
  {
   "cell_type": "markdown",
   "metadata": {},
   "source": [
    "3. Какие еще метрики (Вы можете вспомнить уже пройденные Вами или посмотреть в интернете) могут использоваться для рекомендательных систем (приведите примеры метрики **и чем являются интеракции**, чтобы она могла быть использована)."
   ]
  },
  {
   "attachments": {
    "%D0%B8%D0%B7%D0%BE%D0%B1%D1%80%D0%B0%D0%B6%D0%B5%D0%BD%D0%B8%D0%B5.png": {
     "image/png": "[encoded data removed]"
    }
   },
   "cell_type": "markdown",
   "metadata": {},
   "source": [
    "_Метрики на основе каскадной модели поведения пользователя_ - последовательное изучение предложенных пользователю элементов. Вероятность просмотра элемента зависит от релевантности предыдущих.    \n",
    "Например:\n",
    "![%D0%B8%D0%B7%D0%BE%D0%B1%D1%80%D0%B0%D0%B6%D0%B5%D0%BD%D0%B8%D0%B5.png](attachment:%D0%B8%D0%B7%D0%BE%D0%B1%D1%80%D0%B0%D0%B6%D0%B5%D0%BD%D0%B8%D0%B5.png)"
   ]
  },
  {
   "attachments": {
    "%D0%B8%D0%B7%D0%BE%D0%B1%D1%80%D0%B0%D0%B6%D0%B5%D0%BD%D0%B8%D0%B5.png": {
     "image/png": "[encoded data removed]"
    }
   },
   "cell_type": "markdown",
   "metadata": {},
   "source": [
    "Можно попробовать применить F-score.  \n",
    "![%D0%B8%D0%B7%D0%BE%D0%B1%D1%80%D0%B0%D0%B6%D0%B5%D0%BD%D0%B8%D0%B5.png](attachment:%D0%B8%D0%B7%D0%BE%D0%B1%D1%80%D0%B0%D0%B6%D0%B5%D0%BD%D0%B8%D0%B5.png)   \n",
    "По понятным причинам интеракции здесь теже что в _Recall_ и _Precision_. Пользователь как-то провзаимодействовал с товаром: купил товар, поставил оценку фильму и тд. "
   ]
  },
  {
   "cell_type": "markdown",
   "metadata": {},
   "source": [
    "4. boughted = [1, 3, 5, 7, 9, 11]  \n",
    "recommended = [2, 5, 7, 4, 11, 9, 8, 10, 12, 3]  \n",
    "Посчитайте на этих данных pr@8, rec@8, AP@8, NDCG@8, MRR@8,  \n",
    "Сначала поссчитайет \"руками\", а затем подтвердите рассчеты с помощью функций (некоторые были на семинаре, некоторые нужно будут написать самостоятельно)\n",
    "\n",
    "IDCG должен считаться для всех 8 позиций рекомендаций"
   ]
  },
  {
   "cell_type": "markdown",
   "metadata": {},
   "source": [
    "__Precision@8__   \n",
    "\n",
    "boughted = [1, 3, 5, 7, 9, 11]   \n",
    "recommended = [2, 5, 7, 4, 11, 9, 8, 10, 12, 3]       \n",
    "\n",
    "$precison@8 = \\frac{0 + 0 + 1 + 1 + 1 + 1}{1+1+1+1+1+1+1+1} = 0.5$  "
   ]
  },
  {
   "cell_type": "code",
   "execution_count": 1,
   "metadata": {},
   "outputs": [
    {
     "name": "stdout",
     "output_type": "stream",
     "text": [
      "0.5\n"
     ]
    }
   ],
   "source": [
    "import numpy as np\n",
    "def precision_at_k(recommended_list, bought_list, k=8):\n",
    "    bought_list = np.array(bought_list)\n",
    "    recommended_list = np.array(recommended_list)[:k]\n",
    "    flags = np.isin(bought_list, recommended_list)\n",
    "    return flags.sum() / len(recommended_list)\n",
    "pr = precision_at_k([2, 5, 7, 4, 11, 9, 8, 10, 12, 3] , [1, 3, 5, 7, 9, 11],8)\n",
    "print(pr)"
   ]
  },
  {
   "cell_type": "markdown",
   "metadata": {},
   "source": [
    "__Recall@8__   \n",
    "\n",
    "boughted = [1, 3, 5, 7, 9, 11]   \n",
    "recommended = [2, 5, 7, 4, 11, 9, 8, 10, 12, 3]      \n",
    "\n",
    "$recall@8 = \\frac{0 + 0 + 1 + 1 + 1 + 1}{1+1+1+1+1+1} = 0.66$  "
   ]
  },
  {
   "cell_type": "code",
   "execution_count": 2,
   "metadata": {},
   "outputs": [
    {
     "name": "stdout",
     "output_type": "stream",
     "text": [
      "0.6666666666666666\n"
     ]
    }
   ],
   "source": [
    "def recall_at_k(recommended_list, bought_list, k=8):\n",
    "    bought_list = np.array(bought_list)\n",
    "    recommended_list = np.array(recommended_list)[:k]\n",
    "    flags = np.isin(bought_list, recommended_list)\n",
    "    return flags.sum() / len(bought_list)\n",
    "r = recall_at_k([2, 5, 7, 4, 11, 9, 8, 10, 12, 3] , [1, 3, 5, 7, 9, 11],8)\n",
    "print(r)"
   ]
  },
  {
   "cell_type": "markdown",
   "metadata": {},
   "source": [
    "__AP@8__   \n",
    "\n",
    "boughted = [1, 3, 5, 7, 9, 11]   \n",
    "recommended = [2, 5, 7, 4, 11, 9, 8, 10, 12, 3]      \n",
    "\n",
    "$precison@8 = 0.5\\%$  \n",
    "$ap@8 = \\frac{0 + 0 + 0.5 + 0.5 + 0.5 + 0.5}{1+1+1+1+1+1} = 0.25$  "
   ]
  },
  {
   "cell_type": "code",
   "execution_count": 3,
   "metadata": {},
   "outputs": [
    {
     "name": "stdout",
     "output_type": "stream",
     "text": [
      "0.25\n"
     ]
    }
   ],
   "source": [
    "#функция исправлена в соотсвествии с формулой\n",
    "def ap_k(recommended_list, bought_list, k=8):\n",
    "    bought_list = np.array(bought_list)\n",
    "    recommended_list = np.array(recommended_list)[:k]\n",
    "    flags = np.isin(recommended_list, bought_list)\n",
    "    if sum(flags) == 0: return 0\n",
    "    sum_ = 0\n",
    "    for i in range(k): \n",
    "        if flags[i] == True:\n",
    "            p_k = precision_at_k(recommended_list, bought_list, 8)\n",
    "            sum_ += p_k\n",
    "            \n",
    "    result = sum_ / len(flags)\n",
    "    \n",
    "    return result\n",
    "ap = ap_k([2, 5, 7, 4, 11, 9, 8, 10, 12, 3] , [1, 3, 5, 7, 9, 11],8)\n",
    "print(ap)"
   ]
  },
  {
   "cell_type": "markdown",
   "metadata": {},
   "source": [
    "__NDCG@8__   \n",
    "boughted = [1, 3, 5, 7, 9, 11]   \n",
    "recommended = [2, 5, 7, 4, 11, 9, 8, 10, 12, 3]      \n",
    "\n",
    "$DCG = \\frac{1}{|r|} \\sum_u{\\frac{[bought fact]}{discount(i)}} = \\frac{1}{8} (\\frac{0}{1} + \\frac{1}{1} + \\frac{1}{log_2(3)} + \\frac{0}{log_2(4)} + \\frac{1}{log_2(5)} + \\frac{1}{log_2(6)} + \\frac{0}{log_2(7)} + \\frac{0}{log_2(8)} ) = 0.125 * (1 + 0.63 + 0.43 + 0.39 + 2.81) = 2.45$  \n",
    "$ideal DCG = \\frac{1}{|r|} \\sum_u{\\frac{[bought fact]}{discount(i)}} = \\frac{1}{8} (\\frac{1}{1} + \\frac{1}{1} + \\frac{1}{log_2(3)} + \\frac{1}{log_2(4)} + \\frac{1}{log_2(5)} + \\frac{1}{log_2(6)} + \\frac{1}{log_2(7)} + \\frac{1}{log_2(8)} ) = 0.125 * (2 + 0.63 + 0.5 + 0.43 + 0.39 + 0.36 + 0.33) = 4.64$  \n",
    "$NDCG = \\frac{2.45}{4.64} = 0,52$\n"
   ]
  },
  {
   "cell_type": "code",
   "execution_count": 4,
   "metadata": {},
   "outputs": [
    {
     "name": "stdout",
     "output_type": "stream",
     "text": [
      "0.5279127445637272\n"
     ]
    }
   ],
   "source": [
    "#функция исправлена в соотсвествии с формулой\n",
    "def ndcg_k(recommended_list, bought_list, k=8):\n",
    "    bought_list = np.array(bought_list)\n",
    "    recommended_list = np.array(recommended_list)[:k]\n",
    "    flags = np.isin(recommended_list, bought_list)\n",
    "    if sum(flags) == 0: return 0\n",
    "    dgc = idgc = 0\n",
    "    lg2 = np.log2(np.linspace(1, k, num=k))\n",
    "    lg2[0]=1\n",
    "    for i in range(k): \n",
    "        if flags[i] == True:\n",
    "            dgc += 1/lg2[i]\n",
    "        idgc += 1/lg2[i]    \n",
    "    return dgc / idgc\n",
    "\n",
    "ndcg = ndcg_k([2, 5, 7, 4, 11, 9, 8, 10, 12, 3] , [1, 3, 5, 7, 9, 11],8)\n",
    "print(ndcg)"
   ]
  },
  {
   "cell_type": "markdown",
   "metadata": {},
   "source": [
    "__MRR@8__   \n",
    "\n",
    "boughted = [1, 3, 5, 7, 9, 11]   \n",
    "recommended = [2, 5, 7, 4, 11, 9, 8, 10, 12, 3]      \n",
    "$MRR = mean(\\frac{1}{k_u})$\n",
    "\n",
    "$rank@8 = 1/2+1/3+1/5 + 1/6 = 1.2$  \n",
    "$MRR@8 = \\frac{1.2}{8} = 0.15$  "
   ]
  },
  {
   "cell_type": "code",
   "execution_count": 5,
   "metadata": {},
   "outputs": [
    {
     "name": "stdout",
     "output_type": "stream",
     "text": [
      "0.15\n"
     ]
    }
   ],
   "source": [
    "def reciprocal_rank_k(recommended_list, bought_list,k=8):\n",
    "    recommended_list = recommended_list[:k]\n",
    "    ranks=0.\n",
    "    for i, item_rec in enumerate(recommended_list):\n",
    "        for item_bought in bought_list:\n",
    "            if item_rec == item_bought:\n",
    "                ranks += 1 / (i+1)\n",
    "    return ranks / len(recommended_list)\n",
    "mrr = reciprocal_rank_k([2, 5, 7, 4, 11, 9, 8, 10, 12, 3], [1, 3, 5, 7, 9, 11],8)\n",
    "print(mrr)"
   ]
  },
  {
   "cell_type": "code",
   "execution_count": null,
   "metadata": {},
   "outputs": [],
   "source": []
  }
 ],
 "metadata": {
  "kernelspec": {
   "display_name": "Python 3",
   "language": "python",
   "name": "python3"
  },
  "language_info": {
   "codemirror_mode": {
    "name": "ipython",
    "version": 3
   },
   "file_extension": ".py",
   "mimetype": "text/x-python",
   "name": "python",
   "nbconvert_exporter": "python",
   "pygments_lexer": "ipython3",
   "version": "3.8.3"
  }
 },
 "nbformat": 4,
 "nbformat_minor": 2
}
