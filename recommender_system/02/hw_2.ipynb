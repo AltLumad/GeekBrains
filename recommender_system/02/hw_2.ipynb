{
 "cells": [
  {
   "cell_type": "markdown",
   "metadata": {},
   "source": [
    "1. [Задание 0. Ответ.](#task_0)\n",
    "2. [Задание 1.](#task_1)   \n",
    "    2.1 [Код функции.](#task_1.1)   \n",
    "    2.2 [Пример различных весов.](#task_1.2)   \n",
    "    2.3 [Предсказания.](#task_1.3)   \n",
    "3. [Задание 2.](#task_3)   \n",
    "    3.1 [Сравнение метрик.](#task_3.1)     \n",
    "    3.2 [Ответ.](#task_3.2)     \n",
    "4. [Задание 3.](#task_4)   \n",
    "    4.1 [Про улучшение бейзлайнов на 5к](#task_4.1)   \n",
    "    4.2 [Улучшение ItemItemRecomander через подбор соседей](#task_4.2)   \n",
    "    4.3 [Aнсамблирование алгоритмов](#task_4.3)   \n",
    "5. [Задание 4.](#task_5)"
   ]
  },
  {
   "cell_type": "code",
   "execution_count": 1,
   "metadata": {
    "colab": {},
    "colab_type": "code",
    "id": "rgIzW-DSC8Yi"
   },
   "outputs": [],
   "source": [
    "import pandas as pd\n",
    "import numpy as np\n",
    "import matplotlib.pyplot as plt\n",
    "%matplotlib inline\n",
    "\n",
    "# Для работы с матрицами\n",
    "from scipy.sparse import csr_matrix, coo_matrix\n",
    "\n",
    "# Детерминированные алгоритмы\n",
    "from implicit.nearest_neighbours import ItemItemRecommender, CosineRecommender, TFIDFRecommender, BM25Recommender\n",
    "\n",
    "# Метрики\n",
    "from implicit.evaluation import train_test_split\n",
    "from implicit.evaluation import precision_at_k, mean_average_precision_at_k, AUC_at_k, ndcg_at_k\n",
    "\n",
    "import warnings\n",
    "warnings.filterwarnings('ignore')"
   ]
  },
  {
   "cell_type": "code",
   "execution_count": 2,
   "metadata": {
    "colab": {},
    "colab_type": "code",
    "id": "9qFkcgyrC8Yt",
    "outputId": "24a33bf1-942a-4b18-c54a-a7500c8f8712"
   },
   "outputs": [
    {
     "data": {
      "text/html": [
       "<div>\n",
       "<style scoped>\n",
       "    .dataframe tbody tr th:only-of-type {\n",
       "        vertical-align: middle;\n",
       "    }\n",
       "\n",
       "    .dataframe tbody tr th {\n",
       "        vertical-align: top;\n",
       "    }\n",
       "\n",
       "    .dataframe thead th {\n",
       "        text-align: right;\n",
       "    }\n",
       "</style>\n",
       "<table border=\"1\" class=\"dataframe\">\n",
       "  <thead>\n",
       "    <tr style=\"text-align: right;\">\n",
       "      <th></th>\n",
       "      <th>user_id</th>\n",
       "      <th>basket_id</th>\n",
       "      <th>day</th>\n",
       "      <th>item_id</th>\n",
       "      <th>quantity</th>\n",
       "      <th>sales_value</th>\n",
       "      <th>store_id</th>\n",
       "      <th>retail_disc</th>\n",
       "      <th>trans_time</th>\n",
       "      <th>week_no</th>\n",
       "      <th>coupon_disc</th>\n",
       "      <th>coupon_match_disc</th>\n",
       "    </tr>\n",
       "  </thead>\n",
       "  <tbody>\n",
       "    <tr>\n",
       "      <th>0</th>\n",
       "      <td>2375</td>\n",
       "      <td>26984851472</td>\n",
       "      <td>1</td>\n",
       "      <td>1004906</td>\n",
       "      <td>1</td>\n",
       "      <td>1.39</td>\n",
       "      <td>364</td>\n",
       "      <td>-0.6</td>\n",
       "      <td>1631</td>\n",
       "      <td>1</td>\n",
       "      <td>0.0</td>\n",
       "      <td>0.0</td>\n",
       "    </tr>\n",
       "    <tr>\n",
       "      <th>1</th>\n",
       "      <td>2375</td>\n",
       "      <td>26984851472</td>\n",
       "      <td>1</td>\n",
       "      <td>1033142</td>\n",
       "      <td>1</td>\n",
       "      <td>0.82</td>\n",
       "      <td>364</td>\n",
       "      <td>0.0</td>\n",
       "      <td>1631</td>\n",
       "      <td>1</td>\n",
       "      <td>0.0</td>\n",
       "      <td>0.0</td>\n",
       "    </tr>\n",
       "  </tbody>\n",
       "</table>\n",
       "</div>"
      ],
      "text/plain": [
       "   user_id    basket_id  day  item_id  quantity  sales_value  store_id  \\\n",
       "0     2375  26984851472    1  1004906         1         1.39       364   \n",
       "1     2375  26984851472    1  1033142         1         0.82       364   \n",
       "\n",
       "   retail_disc  trans_time  week_no  coupon_disc  coupon_match_disc  \n",
       "0         -0.6        1631        1          0.0                0.0  \n",
       "1          0.0        1631        1          0.0                0.0  "
      ]
     },
     "execution_count": 2,
     "metadata": {},
     "output_type": "execute_result"
    }
   ],
   "source": [
    "data = pd.read_csv('../data/retail_train.csv')\n",
    "data.head(2)"
   ]
  },
  {
   "cell_type": "code",
   "execution_count": 3,
   "metadata": {
    "colab": {},
    "colab_type": "code",
    "id": "epcBZlgJC8Y0"
   },
   "outputs": [],
   "source": [
    "data[\"quantity_sales\"] = data[\"quantity\"]*data[\"sales_value\"]\n",
    "\n",
    "test_size_weeks = 3\n",
    "\n",
    "\n",
    "\n",
    "data_train = data[data['week_no'] < data['week_no'].max() - test_size_weeks]\n",
    "data_test = data[data['week_no'] >= data['week_no'].max() - test_size_weeks]"
   ]
  },
  {
   "cell_type": "markdown",
   "metadata": {},
   "source": [
    "\n"
   ]
  },
  {
   "cell_type": "markdown",
   "metadata": {},
   "source": [
    "### Задание 0. Товар 999999\n",
    "На вебинаре мы использовали товар 999999 - что это за товар?  \n",
    "Зачем он нужен?  \n",
    "Используя этот товар мы смещаем качество рекомендаций.\n",
    "В какую сторону?   \n",
    "Можно ли удалить этот товар?   \n",
    "Уберите этот товар (**внимание**: это можно сделать разными способами!) и сравните с качеством на семинаре."
   ]
  },
  {
   "cell_type": "markdown",
   "metadata": {},
   "source": [
    "<a id='task_0'></a>\n",
    "___ОТВЕТ___   \n",
    "Когда мы взяли топ N самых популярных товаров. У нас могли появится пользователи, которые не покупали товар из этого топа. Для таких пользователей мы заводим фиктивный товар. В нашем случае 999999.    \n",
    "Он нам нужем для того чтобы не потерять пользователей.   \n",
    "Подобным методом мы ухудшаем качество рекомендаций. т.к. фековый товар может попасть в рекомендации пользователю. "
   ]
  },
  {
   "cell_type": "markdown",
   "metadata": {
    "colab_type": "text",
    "id": "zlUUzLFeC8Y4"
   },
   "source": [
    "<a id='task_1'></a>\n",
    "### Задание 1. Weighted Random Recommendation\n",
    "\n",
    "Напишите код для случайных рекоммендаций, в которых вероятность рекомендовать товар прямо пропорциональна логарифму продаж\n",
    "- Можно сэмплировать товары случайно, но пропорционально какому-либо весу\n",
    "- Например, прямопропорционально популярности. вес = log(sales_sum товара)\n",
    "- Придумайте пример 3 весов, посчитайте weighted_random_recommendation для разных весов"
   ]
  },
  {
   "cell_type": "markdown",
   "metadata": {},
   "source": [
    "<a id='task_1.1'></a>"
   ]
  },
  {
   "cell_type": "code",
   "execution_count": 4,
   "metadata": {
    "colab": {},
    "colab_type": "code",
    "id": "brMuCHolC8Y4"
   },
   "outputs": [],
   "source": [
    "def weighted_random_recommendation(items_weights, n=5):\n",
    "    items = np.array(items_weights['item_id'])\n",
    "    prob = np.array(items_weights['weight'])\n",
    "    recs = np.random.choice(items, size=n, p=prob, replace=False)\n",
    "    return recs.tolist()\n",
    "\n"
   ]
  },
  {
   "cell_type": "markdown",
   "metadata": {},
   "source": [
    "<a id='task_1.2'></a>"
   ]
  },
  {
   "cell_type": "code",
   "execution_count": 5,
   "metadata": {},
   "outputs": [],
   "source": [
    "def GetItemWeight(train):\n",
    "    #Вес от частоты покупки\n",
    "    item_weight1 = train.groupby('item_id')['user_id'].unique().reset_index()\n",
    "    item_weight1['weight'] =  item_weight1['user_id'].apply(lambda x: len(x)) \n",
    "    del item_weight1['user_id']\n",
    "    item_weight1['weight'] /= item_weight1.weight.sum()\n",
    "\n",
    "    \n",
    "    #На основе логарифма от цены. Здесь mean() намеренно\n",
    "    item_weight2 = train.groupby('item_id')['sales_value'].mean().reset_index()\n",
    "    item_weight2.sales_value *= 100000\n",
    "    item_weight2.sales_value += 1\n",
    "    item_weight2['weight'] = np.log(item_weight2['sales_value'])\n",
    "    item_weight2.loc[np.isinf(item_weight2['weight'])] = 0\n",
    "    item_weight2.weight /= item_weight2.weight.sum()\n",
    "    del item_weight2['sales_value']\n",
    "    \n",
    "\n",
    "    #Вес от частоты покупки * на цену\n",
    "    item_weight3 = train.groupby('item_id')['sales_value'].sum().reset_index()\n",
    "    item_weight3['weight'] =  item_weight3['sales_value'] / item_weight3['sales_value'].sum()\n",
    "    del item_weight3['sales_value']\n",
    "    return item_weight1, item_weight2, item_weight3\n",
    "\n"
   ]
  },
  {
   "cell_type": "code",
   "execution_count": 6,
   "metadata": {},
   "outputs": [],
   "source": [
    "item_weight1, item_weight2, item_weight3 = GetItemWeight(data_train)"
   ]
  },
  {
   "cell_type": "code",
   "execution_count": 7,
   "metadata": {},
   "outputs": [
    {
     "data": {
      "text/html": [
       "<div>\n",
       "<style scoped>\n",
       "    .dataframe tbody tr th:only-of-type {\n",
       "        vertical-align: middle;\n",
       "    }\n",
       "\n",
       "    .dataframe tbody tr th {\n",
       "        vertical-align: top;\n",
       "    }\n",
       "\n",
       "    .dataframe thead th {\n",
       "        text-align: right;\n",
       "    }\n",
       "</style>\n",
       "<table border=\"1\" class=\"dataframe\">\n",
       "  <thead>\n",
       "    <tr style=\"text-align: right;\">\n",
       "      <th></th>\n",
       "      <th>user_id</th>\n",
       "      <th>actual</th>\n",
       "    </tr>\n",
       "  </thead>\n",
       "  <tbody>\n",
       "    <tr>\n",
       "      <th>0</th>\n",
       "      <td>1</td>\n",
       "      <td>[825123, 831447, 840361, 845307, 852014, 85498...</td>\n",
       "    </tr>\n",
       "    <tr>\n",
       "      <th>1</th>\n",
       "      <td>2</td>\n",
       "      <td>[854852, 930118, 1077555, 1098066, 5567388, 55...</td>\n",
       "    </tr>\n",
       "    <tr>\n",
       "      <th>2</th>\n",
       "      <td>3</td>\n",
       "      <td>[866211, 878996, 882830, 904360, 921345, 93194...</td>\n",
       "    </tr>\n",
       "    <tr>\n",
       "      <th>3</th>\n",
       "      <td>4</td>\n",
       "      <td>[836163, 857849, 877523, 878909, 883932, 89142...</td>\n",
       "    </tr>\n",
       "    <tr>\n",
       "      <th>4</th>\n",
       "      <td>5</td>\n",
       "      <td>[938983, 5980822, 1012352, 825538, 1002499, 69...</td>\n",
       "    </tr>\n",
       "    <tr>\n",
       "      <th>5</th>\n",
       "      <td>6</td>\n",
       "      <td>[840361, 851494, 851819, 851903, 863447, 87623...</td>\n",
       "    </tr>\n",
       "    <tr>\n",
       "      <th>6</th>\n",
       "      <td>7</td>\n",
       "      <td>[865569, 886703, 889731, 893400, 995436, 10205...</td>\n",
       "    </tr>\n",
       "    <tr>\n",
       "      <th>7</th>\n",
       "      <td>8</td>\n",
       "      <td>[824550, 824555, 826578, 835576, 841220, 84798...</td>\n",
       "    </tr>\n",
       "    <tr>\n",
       "      <th>8</th>\n",
       "      <td>9</td>\n",
       "      <td>[882190, 949294, 1023858, 1050429, 1070820, 92...</td>\n",
       "    </tr>\n",
       "    <tr>\n",
       "      <th>9</th>\n",
       "      <td>10</td>\n",
       "      <td>[959409, 1107661, 871377, 1025833, 8249164, 92...</td>\n",
       "    </tr>\n",
       "  </tbody>\n",
       "</table>\n",
       "</div>"
      ],
      "text/plain": [
       "   user_id                                             actual\n",
       "0        1  [825123, 831447, 840361, 845307, 852014, 85498...\n",
       "1        2  [854852, 930118, 1077555, 1098066, 5567388, 55...\n",
       "2        3  [866211, 878996, 882830, 904360, 921345, 93194...\n",
       "3        4  [836163, 857849, 877523, 878909, 883932, 89142...\n",
       "4        5  [938983, 5980822, 1012352, 825538, 1002499, 69...\n",
       "5        6  [840361, 851494, 851819, 851903, 863447, 87623...\n",
       "6        7  [865569, 886703, 889731, 893400, 995436, 10205...\n",
       "7        8  [824550, 824555, 826578, 835576, 841220, 84798...\n",
       "8        9  [882190, 949294, 1023858, 1050429, 1070820, 92...\n",
       "9       10  [959409, 1107661, 871377, 1025833, 8249164, 92..."
      ]
     },
     "execution_count": 7,
     "metadata": {},
     "output_type": "execute_result"
    }
   ],
   "source": [
    "result = data_train.groupby('user_id')['item_id'].unique().reset_index()\n",
    "result.columns=['user_id', 'actual']  \n",
    "result['actual'] = result['actual'].apply(lambda x: list(x))\n",
    "result.head(10)"
   ]
  },
  {
   "cell_type": "markdown",
   "metadata": {},
   "source": [
    "Сделайте предсказания\n",
    "<a id='task_1.3'></a>"
   ]
  },
  {
   "cell_type": "code",
   "execution_count": 8,
   "metadata": {
    "colab": {},
    "colab_type": "code",
    "id": "nK_AS3tmC8Y7"
   },
   "outputs": [
    {
     "name": "stdout",
     "output_type": "stream",
     "text": [
      "CPU times: user 6.69 s, sys: 0 ns, total: 6.69 s\n",
      "Wall time: 6.69 s\n"
     ]
    },
    {
     "data": {
      "text/html": [
       "<div>\n",
       "<style scoped>\n",
       "    .dataframe tbody tr th:only-of-type {\n",
       "        vertical-align: middle;\n",
       "    }\n",
       "\n",
       "    .dataframe tbody tr th {\n",
       "        vertical-align: top;\n",
       "    }\n",
       "\n",
       "    .dataframe thead th {\n",
       "        text-align: right;\n",
       "    }\n",
       "</style>\n",
       "<table border=\"1\" class=\"dataframe\">\n",
       "  <thead>\n",
       "    <tr style=\"text-align: right;\">\n",
       "      <th></th>\n",
       "      <th>user_id</th>\n",
       "      <th>actual</th>\n",
       "      <th>weighted_random1</th>\n",
       "      <th>weighted_random2</th>\n",
       "      <th>weighted_random3</th>\n",
       "    </tr>\n",
       "  </thead>\n",
       "  <tbody>\n",
       "    <tr>\n",
       "      <th>0</th>\n",
       "      <td>1</td>\n",
       "      <td>[825123, 831447, 840361, 845307, 852014, 85498...</td>\n",
       "      <td>[1103691, 7167967, 943699, 1104205, 7407975]</td>\n",
       "      <td>[975134, 1793277, 13682143, 8204833, 960631]</td>\n",
       "      <td>[961747, 1072659, 6919082, 1106523, 1138467]</td>\n",
       "    </tr>\n",
       "    <tr>\n",
       "      <th>1</th>\n",
       "      <td>2</td>\n",
       "      <td>[854852, 930118, 1077555, 1098066, 5567388, 55...</td>\n",
       "      <td>[845196, 1126808, 13945141, 13213404, 890010]</td>\n",
       "      <td>[6608127, 1021519, 71139, 2017531, 888820]</td>\n",
       "      <td>[1111035, 844179, 887474, 956599, 1099834]</td>\n",
       "    </tr>\n",
       "  </tbody>\n",
       "</table>\n",
       "</div>"
      ],
      "text/plain": [
       "   user_id                                             actual  \\\n",
       "0        1  [825123, 831447, 840361, 845307, 852014, 85498...   \n",
       "1        2  [854852, 930118, 1077555, 1098066, 5567388, 55...   \n",
       "\n",
       "                                weighted_random1  \\\n",
       "0   [1103691, 7167967, 943699, 1104205, 7407975]   \n",
       "1  [845196, 1126808, 13945141, 13213404, 890010]   \n",
       "\n",
       "                               weighted_random2  \\\n",
       "0  [975134, 1793277, 13682143, 8204833, 960631]   \n",
       "1    [6608127, 1021519, 71139, 2017531, 888820]   \n",
       "\n",
       "                               weighted_random3  \n",
       "0  [961747, 1072659, 6919082, 1106523, 1138467]  \n",
       "1    [1111035, 844179, 887474, 956599, 1099834]  "
      ]
     },
     "execution_count": 8,
     "metadata": {},
     "output_type": "execute_result"
    }
   ],
   "source": [
    "%%time\n",
    "result['weighted_random1'] = result['user_id'].apply(lambda x:  weighted_random_recommendation(item_weight1))\n",
    "result['weighted_random2'] = result['user_id'].apply(lambda x:  weighted_random_recommendation(item_weight2))\n",
    "result['weighted_random3'] = result['user_id'].apply(lambda x:  weighted_random_recommendation(item_weight3))\n",
    "result.head(2)"
   ]
  },
  {
   "cell_type": "markdown",
   "metadata": {
    "colab_type": "text",
    "id": "hyNG6O-wC8Y_"
   },
   "source": [
    "<a id='task_3'></a>\n",
    "### Задание 2. Расчет метрик\n",
    "Рассчитайте Precision@5 для каждого алгоритма (с вебинара и weighted_random_recommendation) с помощью функции из вебинара 1. Какой алгоритм показывает лучшее качество? Почему?"
   ]
  },
  {
   "cell_type": "code",
   "execution_count": 9,
   "metadata": {},
   "outputs": [],
   "source": [
    "import numpy as np\n",
    "def precision_at_k(recommended_list, bought_list, k=5):\n",
    "    bought_list = np.array(bought_list)\n",
    "    recommended_list = np.array(recommended_list)[:k]\n",
    "    flags = np.isin(bought_list, recommended_list)\n",
    "    return flags.sum() / len(recommended_list)\n",
    "\n",
    "def popularity_recommendation(data, n=5):\n",
    "    popular = data.groupby('item_id')['sales_value'].sum().reset_index()\n",
    "    popular.sort_values('sales_value', ascending=False, inplace=True)\n",
    "    recs = popular.head(n).item_id\n",
    "    return recs.tolist()\n",
    "\n",
    "def random_recommendation(items, n=5):\n",
    "    items = np.array(items)\n",
    "    recs = np.random.choice(items, size=n, replace=False)\n",
    "    return recs.tolist()\n",
    "\n",
    "\n"
   ]
  },
  {
   "cell_type": "markdown",
   "metadata": {},
   "source": [
    "***"
   ]
  },
  {
   "cell_type": "code",
   "execution_count": 10,
   "metadata": {},
   "outputs": [],
   "source": [
    "popular_recs = popularity_recommendation(data_train, n=5)\n",
    "result['popular_recommendation'] = result['user_id'].apply(lambda x: popular_recs)\n",
    "\n",
    "items = data_train.item_id.unique()\n",
    "result['random_recommendation'] = result['user_id'].apply(lambda x: random_recommendation(items, n=5))"
   ]
  },
  {
   "cell_type": "markdown",
   "metadata": {},
   "source": [
    "***"
   ]
  },
  {
   "cell_type": "code",
   "execution_count": 11,
   "metadata": {},
   "outputs": [],
   "source": [
    "popularity = data_train.groupby('item_id')['quantity'].sum().reset_index()\n",
    "popularity.rename(columns={'quantity': 'n_sold'}, inplace=True)\n",
    "top_5000 = popularity.sort_values('n_sold', ascending=False).head(5000).item_id.tolist()\n",
    "\n",
    "data_train.loc[~data_train['item_id'].isin(top_5000), 'item_id'] = 999999\n",
    "\n",
    "user_item_matrix = pd.pivot_table(data_train, \n",
    "                                  index='user_id', columns='item_id', \n",
    "                                  values='quantity',\n",
    "                                  aggfunc='count', \n",
    "                                  fill_value=0\n",
    "                                 )\n",
    "\n",
    "user_item_matrix[user_item_matrix > 0] = 1 # так как в итоге хотим предсказать \n",
    "user_item_matrix = user_item_matrix.astype(float) # необходимый тип матрицы для implicit\n",
    "\n",
    "sparse_user_item = csr_matrix(user_item_matrix).tocsr()"
   ]
  },
  {
   "cell_type": "code",
   "execution_count": 12,
   "metadata": {},
   "outputs": [],
   "source": [
    "userids = user_item_matrix.index.values\n",
    "itemids = user_item_matrix.columns.values\n",
    "\n",
    "matrix_userids = np.arange(len(userids))\n",
    "matrix_itemids = np.arange(len(itemids))\n",
    "\n",
    "id_to_itemid = dict(zip(matrix_itemids, itemids))\n",
    "id_to_userid = dict(zip(matrix_userids, userids))\n",
    "\n",
    "itemid_to_id = dict(zip(itemids, matrix_itemids))\n",
    "userid_to_id = dict(zip(userids, matrix_userids))"
   ]
  },
  {
   "cell_type": "code",
   "execution_count": null,
   "metadata": {
    "colab": {},
    "colab_type": "code",
    "id": "zYBR3cMPC8ZH"
   },
   "outputs": [],
   "source": []
  },
  {
   "cell_type": "code",
   "execution_count": 13,
   "metadata": {},
   "outputs": [
    {
     "data": {
      "application/vnd.jupyter.widget-view+json": {
       "model_id": "3a374961873643fbb48220ad03744034",
       "version_major": 2,
       "version_minor": 0
      },
      "text/plain": [
       "  0%|          | 0/5001 [00:00<?, ?it/s]"
      ]
     },
     "metadata": {},
     "output_type": "display_data"
    }
   ],
   "source": [
    "model = ItemItemRecommender(K=5, num_threads=4) # K - кол-во билжайших соседей\n",
    "\n",
    "model.fit(csr_matrix(user_item_matrix).T.tocsr(),  # На вход item-user matrix\n",
    "          show_progress=True)\n",
    "\n",
    "recs = model.recommend(userid=userid_to_id[2],  # userid - id от 0 до N\n",
    "                        user_items=csr_matrix(user_item_matrix).tocsr(),   # на вход user-item matrix\n",
    "                        N=5, # кол-во рекомендаций \n",
    "                        filter_already_liked_items=False, \n",
    "                        filter_items=None, \n",
    "                        recalculate_user=True)"
   ]
  },
  {
   "cell_type": "code",
   "execution_count": 14,
   "metadata": {},
   "outputs": [],
   "source": [
    "result['itemitem'] = result['user_id'].\\\n",
    "    apply(lambda x: [id_to_itemid[rec[0]] for rec in \n",
    "                    model.recommend(userid=userid_to_id[x], \n",
    "                                    user_items=sparse_user_item,   # на вход user-item matrix\n",
    "                                    N=5, \n",
    "                                    filter_already_liked_items=False, \n",
    "                                    filter_items=None, \n",
    "                                    recalculate_user=True)])"
   ]
  },
  {
   "cell_type": "markdown",
   "metadata": {},
   "source": [
    "***"
   ]
  },
  {
   "cell_type": "code",
   "execution_count": 15,
   "metadata": {},
   "outputs": [
    {
     "data": {
      "application/vnd.jupyter.widget-view+json": {
       "model_id": "2fa550f8556b4117af1296282fc9b5e0",
       "version_major": 2,
       "version_minor": 0
      },
      "text/plain": [
       "  0%|          | 0/5001 [00:00<?, ?it/s]"
      ]
     },
     "metadata": {},
     "output_type": "display_data"
    },
    {
     "name": "stdout",
     "output_type": "stream",
     "text": [
      "CPU times: user 1.21 s, sys: 182 µs, total: 1.21 s\n",
      "Wall time: 560 ms\n"
     ]
    }
   ],
   "source": [
    "%%time\n",
    "\n",
    "model = CosineRecommender(K=5, num_threads=4) # K - кол-во билжайших соседей\n",
    "\n",
    "model.fit(csr_matrix(user_item_matrix).T.tocsr(), \n",
    "          show_progress=True)\n",
    "\n",
    "recs = model.recommend(userid=userid_to_id[1], \n",
    "                        user_items=csr_matrix(user_item_matrix).tocsr(),   # на вход user-item matrix\n",
    "                        N=5, \n",
    "                        filter_already_liked_items=False, \n",
    "                        filter_items=None, \n",
    "                        recalculate_user=False)"
   ]
  },
  {
   "cell_type": "code",
   "execution_count": 16,
   "metadata": {},
   "outputs": [
    {
     "name": "stdout",
     "output_type": "stream",
     "text": [
      "CPU times: user 67.2 ms, sys: 104 µs, total: 67.3 ms\n",
      "Wall time: 66.5 ms\n"
     ]
    }
   ],
   "source": [
    "%%time\n",
    "\n",
    "result['cosine'] = result['user_id'].\\\n",
    "    apply(lambda x: [id_to_itemid[rec[0]] for rec in \n",
    "                    model.recommend(userid=userid_to_id[x], \n",
    "                                    user_items=sparse_user_item,   # на вход user-item matrix\n",
    "                                    N=5, \n",
    "                                    filter_already_liked_items=False, \n",
    "                                    filter_items=None, \n",
    "                                    recalculate_user=True)])"
   ]
  },
  {
   "cell_type": "markdown",
   "metadata": {},
   "source": [
    "<a id='task_3.1'></a>"
   ]
  },
  {
   "cell_type": "code",
   "execution_count": 17,
   "metadata": {
    "colab": {},
    "colab_type": "code",
    "id": "_0cu0VeTC8ZD"
   },
   "outputs": [
    {
     "data": {
      "text/html": [
       "<div>\n",
       "<style scoped>\n",
       "    .dataframe tbody tr th:only-of-type {\n",
       "        vertical-align: middle;\n",
       "    }\n",
       "\n",
       "    .dataframe tbody tr th {\n",
       "        vertical-align: top;\n",
       "    }\n",
       "\n",
       "    .dataframe thead th {\n",
       "        text-align: right;\n",
       "    }\n",
       "</style>\n",
       "<table border=\"1\" class=\"dataframe\">\n",
       "  <thead>\n",
       "    <tr style=\"text-align: right;\">\n",
       "      <th></th>\n",
       "      <th>algorithm</th>\n",
       "      <th>value</th>\n",
       "    </tr>\n",
       "  </thead>\n",
       "  <tbody>\n",
       "    <tr>\n",
       "      <th>0</th>\n",
       "      <td>random</td>\n",
       "      <td>0.006483</td>\n",
       "    </tr>\n",
       "    <tr>\n",
       "      <th>1</th>\n",
       "      <td>weighted_random1</td>\n",
       "      <td>0.059784</td>\n",
       "    </tr>\n",
       "    <tr>\n",
       "      <th>2</th>\n",
       "      <td>weighted_random2</td>\n",
       "      <td>0.005122</td>\n",
       "    </tr>\n",
       "    <tr>\n",
       "      <th>3</th>\n",
       "      <td>weighted_random3</td>\n",
       "      <td>0.100520</td>\n",
       "    </tr>\n",
       "    <tr>\n",
       "      <th>4</th>\n",
       "      <td>popular</td>\n",
       "      <td>0.393037</td>\n",
       "    </tr>\n",
       "    <tr>\n",
       "      <th>5</th>\n",
       "      <td>itemitem</td>\n",
       "      <td>0.543737</td>\n",
       "    </tr>\n",
       "    <tr>\n",
       "      <th>6</th>\n",
       "      <td>cosine</td>\n",
       "      <td>0.575830</td>\n",
       "    </tr>\n",
       "  </tbody>\n",
       "</table>\n",
       "</div>"
      ],
      "text/plain": [
       "          algorithm     value\n",
       "0            random  0.006483\n",
       "1  weighted_random1  0.059784\n",
       "2  weighted_random2  0.005122\n",
       "3  weighted_random3  0.100520\n",
       "4           popular  0.393037\n",
       "5          itemitem  0.543737\n",
       "6            cosine  0.575830"
      ]
     },
     "execution_count": 17,
     "metadata": {},
     "output_type": "execute_result"
    }
   ],
   "source": [
    "def GetMertics(data_result): \n",
    "    d = {}\n",
    "    d['random'] = data_result.apply(lambda x: precision_at_k(x['random_recommendation'], x['actual'],  5), axis=1).mean()\n",
    "    d['weighted_random1'] = data_result.apply(lambda x: precision_at_k(x['weighted_random1'], x['actual'],  5), axis=1).mean() \n",
    "    d['weighted_random2'] = data_result.apply(lambda x: precision_at_k(x['weighted_random2'], x['actual'],  5), axis=1).mean() \n",
    "    d['weighted_random3'] = data_result.apply(lambda x: precision_at_k(x['weighted_random3'], x['actual'],  5), axis=1).mean() \n",
    "    d['popular'] = data_result.apply(lambda x: precision_at_k(x['popular_recommendation'], x['actual'],  5), axis=1).mean()\n",
    "    d['itemitem'] = data_result.apply(lambda x: precision_at_k(x['itemitem'], x['actual'],  5), axis=1).mean()\n",
    "    d['cosine'] = data_result.apply(lambda x: precision_at_k(x['cosine'], x['actual'],  5), axis=1).mean()\n",
    "\n",
    "    metrics = pd.DataFrame(d.items(), columns=['algorithm', 'value'])\n",
    "    return metrics\n",
    "\n",
    "GetMertics(result)"
   ]
  },
  {
   "cell_type": "markdown",
   "metadata": {},
   "source": [
    "<a id='task_3.2'></a>\n",
    "__Ответ__   \n",
    "\n",
    "\n",
    "Среди весов немного выравлся вперед вес на основе умножения цены на количество купленного товара. Это связано с тем, что введением признака ___quantity_sales___ удалось получить небольшое обобщение. В следствии чего, веса распределились чуть лучше. Но всё равно плохо. Рандом он и есть рандом. \n",
    "Очень неудобным оказался вес на основе логорифма. Есть шанс получить отрицательный логарифм. Поэтому пришлось умножать на большое число и прибалять единицу. Ну и метрика показывает плохой результат на этом весе.\n",
    "\n",
    "CosineRecommender и itemitem показывают гараздо лучшее качество. Здесь мы уже не опираемся на случайность. А пытаемся выявить закономертности между товарами. "
   ]
  },
  {
   "cell_type": "markdown",
   "metadata": {
    "colab_type": "text",
    "id": "igDU0j1cC8ZH"
   },
   "source": [
    "<a id='task_4'></a>\n",
    "### Задание 3. Улучшение бейзлайнов и ItemItem\n",
    "\n",
    "- Попробуйте улучшить бейзлайны, считая их на топ-5000 товаров\n",
    "- Попробуйте улучшить разные варианты ItemItemRecommender, выбирая число соседей $K$.\n",
    "- Попробуйте стратегии ансамблирования изученных алгоритмов\n"
   ]
  },
  {
   "cell_type": "code",
   "execution_count": 18,
   "metadata": {},
   "outputs": [
    {
     "name": "stdout",
     "output_type": "stream",
     "text": [
      "(5001,)\n"
     ]
    }
   ],
   "source": [
    "print(data_train.item_id.unique().shape)"
   ]
  },
  {
   "cell_type": "code",
   "execution_count": 19,
   "metadata": {},
   "outputs": [],
   "source": [
    "item_weight1, item_weight2, item_weight3 = GetItemWeight(data_train)"
   ]
  },
  {
   "cell_type": "code",
   "execution_count": 20,
   "metadata": {},
   "outputs": [
    {
     "name": "stdout",
     "output_type": "stream",
     "text": [
      "CPU times: user 1.72 s, sys: 3.95 ms, total: 1.72 s\n",
      "Wall time: 1.72 s\n"
     ]
    }
   ],
   "source": [
    "%%time\n",
    "result5k = data_train.groupby('user_id')['item_id'].unique().reset_index()\n",
    "result5k.columns=['user_id', 'actual']\n",
    "result5k['actual'] = result5k['actual'].apply(lambda x: list(x))\n",
    "items = data_train.item_id.unique()\n",
    "pops = popularity_recommendation(data_train, n=5)\n",
    "result5k['popular_recommendation'] = result5k['user_id'].apply(lambda x: pops)\n",
    "result5k['random_recommendation'] = result5k['user_id'].apply(lambda x: random_recommendation(items, n=5))\n",
    "result5k['weighted_random1'] = result5k['user_id'].apply(lambda x:  weighted_random_recommendation(item_weight1))\n",
    "result5k['weighted_random2'] = result5k['user_id'].apply(lambda x:  weighted_random_recommendation(item_weight2))\n",
    "result5k['weighted_random3'] = result5k['user_id'].apply(lambda x:  weighted_random_recommendation(item_weight3))\n",
    "\n",
    "result5k['itemitem'] = result5k['user_id'].\\\n",
    "    apply(lambda x: [id_to_itemid[rec[0]] for rec in \n",
    "                    model.recommend(userid=userid_to_id[x], \n",
    "                                    user_items=sparse_user_item,   # на вход user-item matrix\n",
    "                                    N=5, \n",
    "                                    filter_already_liked_items=False, \n",
    "                                    filter_items=None, \n",
    "                                    recalculate_user=True)])\n",
    "\n",
    "result5k['cosine'] = result5k['user_id'].\\\n",
    "    apply(lambda x: [id_to_itemid[rec[0]] for rec in \n",
    "                    model.recommend(userid=userid_to_id[x], \n",
    "                                    user_items=sparse_user_item,   # на вход user-item matrix\n",
    "                                    N=5, \n",
    "                                    filter_already_liked_items=False, \n",
    "                                    filter_items=None, \n",
    "                                    recalculate_user=True)])"
   ]
  },
  {
   "cell_type": "code",
   "execution_count": 21,
   "metadata": {},
   "outputs": [
    {
     "data": {
      "text/html": [
       "<div>\n",
       "<style scoped>\n",
       "    .dataframe tbody tr th:only-of-type {\n",
       "        vertical-align: middle;\n",
       "    }\n",
       "\n",
       "    .dataframe tbody tr th {\n",
       "        vertical-align: top;\n",
       "    }\n",
       "\n",
       "    .dataframe thead th {\n",
       "        text-align: right;\n",
       "    }\n",
       "</style>\n",
       "<table border=\"1\" class=\"dataframe\">\n",
       "  <thead>\n",
       "    <tr style=\"text-align: right;\">\n",
       "      <th></th>\n",
       "      <th>algorithm</th>\n",
       "      <th>value</th>\n",
       "    </tr>\n",
       "  </thead>\n",
       "  <tbody>\n",
       "    <tr>\n",
       "      <th>0</th>\n",
       "      <td>random</td>\n",
       "      <td>0.056823</td>\n",
       "    </tr>\n",
       "    <tr>\n",
       "      <th>1</th>\n",
       "      <td>weighted_random1</td>\n",
       "      <td>0.108283</td>\n",
       "    </tr>\n",
       "    <tr>\n",
       "      <th>2</th>\n",
       "      <td>weighted_random2</td>\n",
       "      <td>0.055062</td>\n",
       "    </tr>\n",
       "    <tr>\n",
       "      <th>3</th>\n",
       "      <td>weighted_random3</td>\n",
       "      <td>0.318207</td>\n",
       "    </tr>\n",
       "    <tr>\n",
       "      <th>4</th>\n",
       "      <td>popular</td>\n",
       "      <td>0.431693</td>\n",
       "    </tr>\n",
       "    <tr>\n",
       "      <th>5</th>\n",
       "      <td>itemitem</td>\n",
       "      <td>0.775510</td>\n",
       "    </tr>\n",
       "    <tr>\n",
       "      <th>6</th>\n",
       "      <td>cosine</td>\n",
       "      <td>0.775510</td>\n",
       "    </tr>\n",
       "  </tbody>\n",
       "</table>\n",
       "</div>"
      ],
      "text/plain": [
       "          algorithm     value\n",
       "0            random  0.056823\n",
       "1  weighted_random1  0.108283\n",
       "2  weighted_random2  0.055062\n",
       "3  weighted_random3  0.318207\n",
       "4           popular  0.431693\n",
       "5          itemitem  0.775510\n",
       "6            cosine  0.775510"
      ]
     },
     "execution_count": 21,
     "metadata": {},
     "output_type": "execute_result"
    }
   ],
   "source": [
    "GetMertics(result5k)"
   ]
  },
  {
   "cell_type": "markdown",
   "metadata": {},
   "source": [
    "<a id='task_4.1'></a>\n",
    "Кажется что на 5000 товарах качество возрасло. Но это происходит из-за введения фейкового товара. Мы просто чаще угадываем товар 999999. И он же теперь и самый популярный.\n"
   ]
  },
  {
   "cell_type": "markdown",
   "metadata": {},
   "source": [
    "<a id='task_4.2'></a>\n",
    "__Улучшение ItemItemRecommender, выбирая число соседей 𝐾.__"
   ]
  },
  {
   "cell_type": "code",
   "execution_count": 22,
   "metadata": {},
   "outputs": [
    {
     "name": "stdout",
     "output_type": "stream",
     "text": [
      "CPU times: user 1min 9s, sys: 59.8 ms, total: 1min 9s\n",
      "Wall time: 36.5 s\n"
     ]
    }
   ],
   "source": [
    "%%time\n",
    "scores = {}\n",
    "for i in range(1,50):\n",
    "    model = ItemItemRecommender(K=i, num_threads=4) # K - кол-во билжайших соседей\n",
    "\n",
    "    model.fit(csr_matrix(user_item_matrix).T.tocsr(),  # На вход item-user matrix\n",
    "          show_progress=False)\n",
    "\n",
    "    recs = model.recommend(userid=userid_to_id[2],  # userid - id от 0 до N\n",
    "                        user_items=csr_matrix(user_item_matrix).tocsr(),   # на вход user-item matrix\n",
    "                        N=5, # кол-во рекомендаций \n",
    "                        filter_already_liked_items=False, \n",
    "                        filter_items=None, \n",
    "                        recalculate_user=True)\n",
    "    result['itemitem'] = result['user_id'].\\\n",
    "    apply(lambda x: [id_to_itemid[rec[0]] for rec in \n",
    "                    model.recommend(userid=userid_to_id[x], \n",
    "                                    user_items=sparse_user_item,   # на вход user-item matrix\n",
    "                                    N=5, \n",
    "                                    filter_already_liked_items=False, \n",
    "                                    filter_items=None, \n",
    "                                    recalculate_user=True)])\n",
    "    scores[str(i)] = result.apply(lambda x: precision_at_k(x['itemitem'], x['actual'],  5), axis=1).mean()\n",
    "    "
   ]
  },
  {
   "cell_type": "code",
   "execution_count": 23,
   "metadata": {},
   "outputs": [
    {
     "data": {
      "text/html": [
       "<div>\n",
       "<style scoped>\n",
       "    .dataframe tbody tr th:only-of-type {\n",
       "        vertical-align: middle;\n",
       "    }\n",
       "\n",
       "    .dataframe tbody tr th {\n",
       "        vertical-align: top;\n",
       "    }\n",
       "\n",
       "    .dataframe thead th {\n",
       "        text-align: right;\n",
       "    }\n",
       "</style>\n",
       "<table border=\"1\" class=\"dataframe\">\n",
       "  <thead>\n",
       "    <tr style=\"text-align: right;\">\n",
       "      <th></th>\n",
       "      <th>Ki</th>\n",
       "      <th>socre</th>\n",
       "    </tr>\n",
       "  </thead>\n",
       "  <tbody>\n",
       "    <tr>\n",
       "      <th>0</th>\n",
       "      <td>1</td>\n",
       "      <td>0.792063</td>\n",
       "    </tr>\n",
       "    <tr>\n",
       "      <th>1</th>\n",
       "      <td>2</td>\n",
       "      <td>0.757276</td>\n",
       "    </tr>\n",
       "    <tr>\n",
       "      <th>2</th>\n",
       "      <td>3</td>\n",
       "      <td>0.683373</td>\n",
       "    </tr>\n",
       "    <tr>\n",
       "      <th>3</th>\n",
       "      <td>4</td>\n",
       "      <td>0.577751</td>\n",
       "    </tr>\n",
       "    <tr>\n",
       "      <th>4</th>\n",
       "      <td>5</td>\n",
       "      <td>0.543737</td>\n",
       "    </tr>\n",
       "    <tr>\n",
       "      <th>5</th>\n",
       "      <td>6</td>\n",
       "      <td>0.543257</td>\n",
       "    </tr>\n",
       "    <tr>\n",
       "      <th>6</th>\n",
       "      <td>7</td>\n",
       "      <td>0.537255</td>\n",
       "    </tr>\n",
       "    <tr>\n",
       "      <th>7</th>\n",
       "      <td>8</td>\n",
       "      <td>0.539656</td>\n",
       "    </tr>\n",
       "    <tr>\n",
       "      <th>8</th>\n",
       "      <td>9</td>\n",
       "      <td>0.542217</td>\n",
       "    </tr>\n",
       "    <tr>\n",
       "      <th>9</th>\n",
       "      <td>10</td>\n",
       "      <td>0.546218</td>\n",
       "    </tr>\n",
       "    <tr>\n",
       "      <th>10</th>\n",
       "      <td>11</td>\n",
       "      <td>0.545578</td>\n",
       "    </tr>\n",
       "    <tr>\n",
       "      <th>11</th>\n",
       "      <td>12</td>\n",
       "      <td>0.548860</td>\n",
       "    </tr>\n",
       "    <tr>\n",
       "      <th>12</th>\n",
       "      <td>13</td>\n",
       "      <td>0.548699</td>\n",
       "    </tr>\n",
       "    <tr>\n",
       "      <th>13</th>\n",
       "      <td>14</td>\n",
       "      <td>0.549740</td>\n",
       "    </tr>\n",
       "    <tr>\n",
       "      <th>14</th>\n",
       "      <td>15</td>\n",
       "      <td>0.549420</td>\n",
       "    </tr>\n",
       "    <tr>\n",
       "      <th>15</th>\n",
       "      <td>16</td>\n",
       "      <td>0.554702</td>\n",
       "    </tr>\n",
       "    <tr>\n",
       "      <th>16</th>\n",
       "      <td>17</td>\n",
       "      <td>0.557263</td>\n",
       "    </tr>\n",
       "    <tr>\n",
       "      <th>17</th>\n",
       "      <td>18</td>\n",
       "      <td>0.560544</td>\n",
       "    </tr>\n",
       "    <tr>\n",
       "      <th>18</th>\n",
       "      <td>19</td>\n",
       "      <td>0.564306</td>\n",
       "    </tr>\n",
       "    <tr>\n",
       "      <th>19</th>\n",
       "      <td>20</td>\n",
       "      <td>0.567507</td>\n",
       "    </tr>\n",
       "    <tr>\n",
       "      <th>20</th>\n",
       "      <td>21</td>\n",
       "      <td>0.568948</td>\n",
       "    </tr>\n",
       "    <tr>\n",
       "      <th>21</th>\n",
       "      <td>22</td>\n",
       "      <td>0.570708</td>\n",
       "    </tr>\n",
       "    <tr>\n",
       "      <th>22</th>\n",
       "      <td>23</td>\n",
       "      <td>0.571349</td>\n",
       "    </tr>\n",
       "    <tr>\n",
       "      <th>23</th>\n",
       "      <td>24</td>\n",
       "      <td>0.571989</td>\n",
       "    </tr>\n",
       "    <tr>\n",
       "      <th>24</th>\n",
       "      <td>25</td>\n",
       "      <td>0.574950</td>\n",
       "    </tr>\n",
       "    <tr>\n",
       "      <th>25</th>\n",
       "      <td>26</td>\n",
       "      <td>0.576150</td>\n",
       "    </tr>\n",
       "    <tr>\n",
       "      <th>26</th>\n",
       "      <td>27</td>\n",
       "      <td>0.577351</td>\n",
       "    </tr>\n",
       "    <tr>\n",
       "      <th>27</th>\n",
       "      <td>28</td>\n",
       "      <td>0.577991</td>\n",
       "    </tr>\n",
       "    <tr>\n",
       "      <th>28</th>\n",
       "      <td>29</td>\n",
       "      <td>0.577751</td>\n",
       "    </tr>\n",
       "    <tr>\n",
       "      <th>29</th>\n",
       "      <td>30</td>\n",
       "      <td>0.578311</td>\n",
       "    </tr>\n",
       "    <tr>\n",
       "      <th>30</th>\n",
       "      <td>31</td>\n",
       "      <td>0.578551</td>\n",
       "    </tr>\n",
       "    <tr>\n",
       "      <th>31</th>\n",
       "      <td>32</td>\n",
       "      <td>0.578551</td>\n",
       "    </tr>\n",
       "    <tr>\n",
       "      <th>32</th>\n",
       "      <td>33</td>\n",
       "      <td>0.578792</td>\n",
       "    </tr>\n",
       "    <tr>\n",
       "      <th>33</th>\n",
       "      <td>34</td>\n",
       "      <td>0.579192</td>\n",
       "    </tr>\n",
       "    <tr>\n",
       "      <th>34</th>\n",
       "      <td>35</td>\n",
       "      <td>0.579352</td>\n",
       "    </tr>\n",
       "    <tr>\n",
       "      <th>35</th>\n",
       "      <td>36</td>\n",
       "      <td>0.579432</td>\n",
       "    </tr>\n",
       "    <tr>\n",
       "      <th>36</th>\n",
       "      <td>37</td>\n",
       "      <td>0.579512</td>\n",
       "    </tr>\n",
       "    <tr>\n",
       "      <th>37</th>\n",
       "      <td>38</td>\n",
       "      <td>0.579592</td>\n",
       "    </tr>\n",
       "    <tr>\n",
       "      <th>38</th>\n",
       "      <td>39</td>\n",
       "      <td>0.579352</td>\n",
       "    </tr>\n",
       "    <tr>\n",
       "      <th>39</th>\n",
       "      <td>40</td>\n",
       "      <td>0.579432</td>\n",
       "    </tr>\n",
       "    <tr>\n",
       "      <th>40</th>\n",
       "      <td>41</td>\n",
       "      <td>0.579352</td>\n",
       "    </tr>\n",
       "    <tr>\n",
       "      <th>41</th>\n",
       "      <td>42</td>\n",
       "      <td>0.579432</td>\n",
       "    </tr>\n",
       "    <tr>\n",
       "      <th>42</th>\n",
       "      <td>43</td>\n",
       "      <td>0.579432</td>\n",
       "    </tr>\n",
       "    <tr>\n",
       "      <th>43</th>\n",
       "      <td>44</td>\n",
       "      <td>0.579352</td>\n",
       "    </tr>\n",
       "    <tr>\n",
       "      <th>44</th>\n",
       "      <td>45</td>\n",
       "      <td>0.579352</td>\n",
       "    </tr>\n",
       "    <tr>\n",
       "      <th>45</th>\n",
       "      <td>46</td>\n",
       "      <td>0.579352</td>\n",
       "    </tr>\n",
       "    <tr>\n",
       "      <th>46</th>\n",
       "      <td>47</td>\n",
       "      <td>0.579352</td>\n",
       "    </tr>\n",
       "    <tr>\n",
       "      <th>47</th>\n",
       "      <td>48</td>\n",
       "      <td>0.579352</td>\n",
       "    </tr>\n",
       "    <tr>\n",
       "      <th>48</th>\n",
       "      <td>49</td>\n",
       "      <td>0.579432</td>\n",
       "    </tr>\n",
       "  </tbody>\n",
       "</table>\n",
       "</div>"
      ],
      "text/plain": [
       "    Ki     socre\n",
       "0    1  0.792063\n",
       "1    2  0.757276\n",
       "2    3  0.683373\n",
       "3    4  0.577751\n",
       "4    5  0.543737\n",
       "5    6  0.543257\n",
       "6    7  0.537255\n",
       "7    8  0.539656\n",
       "8    9  0.542217\n",
       "9   10  0.546218\n",
       "10  11  0.545578\n",
       "11  12  0.548860\n",
       "12  13  0.548699\n",
       "13  14  0.549740\n",
       "14  15  0.549420\n",
       "15  16  0.554702\n",
       "16  17  0.557263\n",
       "17  18  0.560544\n",
       "18  19  0.564306\n",
       "19  20  0.567507\n",
       "20  21  0.568948\n",
       "21  22  0.570708\n",
       "22  23  0.571349\n",
       "23  24  0.571989\n",
       "24  25  0.574950\n",
       "25  26  0.576150\n",
       "26  27  0.577351\n",
       "27  28  0.577991\n",
       "28  29  0.577751\n",
       "29  30  0.578311\n",
       "30  31  0.578551\n",
       "31  32  0.578551\n",
       "32  33  0.578792\n",
       "33  34  0.579192\n",
       "34  35  0.579352\n",
       "35  36  0.579432\n",
       "36  37  0.579512\n",
       "37  38  0.579592\n",
       "38  39  0.579352\n",
       "39  40  0.579432\n",
       "40  41  0.579352\n",
       "41  42  0.579432\n",
       "42  43  0.579432\n",
       "43  44  0.579352\n",
       "44  45  0.579352\n",
       "45  46  0.579352\n",
       "46  47  0.579352\n",
       "47  48  0.579352\n",
       "48  49  0.579432"
      ]
     },
     "execution_count": 23,
     "metadata": {},
     "output_type": "execute_result"
    }
   ],
   "source": [
    "metrics = pd.DataFrame(scores.items(), columns=['Ki', 'socre'])\n",
    "metrics"
   ]
  },
  {
   "cell_type": "markdown",
   "metadata": {},
   "source": [
    "__Вывод__   \n",
    "Ожидаемо, что чем меньше соседей тем лучше прогноз.   \n",
    "Кефир похож на ряженку и снежок. На кого-то больше-на кого-то меньше. Так не надо рекомендовать эти два товара сразу. А лучше один наиболее похожий.   \n",
    "Хотя конечно, удивительно что прогноз вырос так сильно.\n"
   ]
  },
  {
   "cell_type": "markdown",
   "metadata": {},
   "source": [
    "<a id='task_4.3'></a>\n",
    "__Aнсамблирование алгоритмов__"
   ]
  },
  {
   "cell_type": "code",
   "execution_count": 24,
   "metadata": {},
   "outputs": [
    {
     "name": "stdout",
     "output_type": "stream",
     "text": [
      "0.08387354941976792\n"
     ]
    }
   ],
   "source": [
    "def GetUnion():\n",
    "    r = set(random_recommendation(items, n=5))\n",
    "    w1 = set(weighted_random_recommendation(item_weight1))\n",
    "    w2 = set(weighted_random_recommendation(item_weight2))\n",
    "    w3 = set(weighted_random_recommendation(item_weight3))\n",
    "    res = r&w1&w2&w3 \n",
    "    while len(res) < 5:\n",
    "        res.add((res^r^w1^w2^w3).pop()) \n",
    "    return list(res)\n",
    "GetUnion()    \n",
    "\n",
    "result['ansamble'] = result['user_id'].apply(lambda x:  GetUnion())    \n",
    "score = result.apply(lambda x: precision_at_k(x['ansamble'], x['actual'],  5), axis=1).mean()         \n",
    "print(score)"
   ]
  },
  {
   "cell_type": "markdown",
   "metadata": {},
   "source": [
    "__Вывод__  \n",
    "Получили некоторое усредненние по ансамблю."
   ]
  },
  {
   "cell_type": "markdown",
   "metadata": {},
   "source": [
    "<a id='task_5'></a>\n",
    "### Задание 4*. Улучшение детерминированных алгоритмов\n",
    "На семинаре мы рассматривали \n",
    "\n"
   ]
  },
  {
   "cell_type": "markdown",
   "metadata": {},
   "source": [
    "Далее $U \\equiv N_i(u) $\n",
    "\n",
    "$$r_{u,i} =  \\frac{1}{S}\\sum\\limits_{v \\in U}\\operatorname{sim}(u,v)r_{v, i}$$\n",
    "$$ S = \\sum\\limits_{v \\in U} \\operatorname{sim}(u,v)$$\n",
    "\n",
    "Предлагается улучшить эту формулу и учесть средние предпочтения всех пользователей\n",
    "\n",
    "$$r_{u,i} = \\mu + \\bar{r_u} + \\frac{1}{S}\\sum\\limits_{v \\in U}\\operatorname{sim}(u,v)(r_{v, i}-\\bar{r_{v}} - \\mu)$$"
   ]
  },
  {
   "cell_type": "markdown",
   "metadata": {},
   "source": [
    "Какие смысл имееют $ \\mu $ и $ \\bar{r_u}$ ?   \n",
    "__Ответ__    \n",
    "$ \\bar{r_u}$ - средняя оценка пользователя u по всем оценённым товарам.   \n",
    "$ \\mu $ - среднее по всем оценкам.\n",
    "\n"
   ]
  },
  {
   "cell_type": "markdown",
   "metadata": {},
   "source": [
    "Реализуйте алгоритм, прогнозирующий рейтинги на основе данной формулы, на numpy (векторизованно!)"
   ]
  },
  {
   "cell_type": "markdown",
   "metadata": {},
   "source": [
    "В качестве схожести возьмите CosineSimilarity."
   ]
  },
  {
   "cell_type": "code",
   "execution_count": 25,
   "metadata": {},
   "outputs": [],
   "source": [
    "def CosineSimilarity(a,b):\n",
    "    return a.dot(b)/(np.linalg.norm(a)*np.linalg.norm(b))"
   ]
  },
  {
   "cell_type": "code",
   "execution_count": 26,
   "metadata": {},
   "outputs": [],
   "source": [
    "def GetMuRUUserValue(user_id, user_item_matrix):\n",
    "    ru = user_item_matrix.loc[user_id].sum()/user_item_matrix.shape[1] \n",
    "    mu = 0\n",
    "    user_value = np.array(user_item_matrix.loc[user_id]) \n",
    "   \n",
    "    for i in range(user_item_matrix.shape[0]):\n",
    "        mu += user_item_matrix.iloc[i].sum()/user_item_matrix.shape[1]\n",
    "    mu /= user_item_matrix.shape[0]\n",
    "    return ru, mu, user_value\n",
    "\n",
    "def UserUserRecommender(user_id, item_id, user_item_matrix, ru, mu, user_value):\n",
    "    sim = 0\n",
    "    res = 0\n",
    "    um = user_value\n",
    "    for i in range(user_item_matrix.shape[0]):\n",
    "        s  = CosineSimilarity(um,np.array(user_item_matrix.iloc[i]))\n",
    "        sim += s\n",
    "        res += s*(user_item_matrix.iloc[i].loc[item_id] - user_item_matrix.iloc[i].sum()/user_item_matrix.shape[1] - mu)\n",
    "    return res/sim + mu + ru\n",
    "                                \n",
    "    \n",
    "        "
   ]
  },
  {
   "cell_type": "code",
   "execution_count": 27,
   "metadata": {},
   "outputs": [],
   "source": [
    "ru, mu, user_value = GetMuRUUserValue(6, user_item_matrix)"
   ]
  },
  {
   "cell_type": "code",
   "execution_count": 28,
   "metadata": {},
   "outputs": [
    {
     "name": "stdout",
     "output_type": "stream",
     "text": [
      "CPU times: user 925 ms, sys: 0 ns, total: 925 ms\n",
      "Wall time: 924 ms\n"
     ]
    },
    {
     "data": {
      "text/plain": [
       "0.03620843339195714"
      ]
     },
     "execution_count": 28,
     "metadata": {},
     "output_type": "execute_result"
    }
   ],
   "source": [
    "%%time\n",
    "UserUserRecommender(6, 818980, user_item_matrix, ru, mu, user_value)"
   ]
  },
  {
   "cell_type": "markdown",
   "metadata": {},
   "source": [
    "Примените к user_item_matrix. В качестве рейтингов возьмите количество или стоимость купленного товара. \n",
    "Данный алгоритм предсказывает рейтинги. Как на основании предсказанных рейтингов предсказать факт покупки?"
   ]
  },
  {
   "cell_type": "markdown",
   "metadata": {},
   "source": [
    "Предложите вариант.\n",
    "Посчитайте accuracy@5 и сравните с алгоритмами, разобранными на вебинаре."
   ]
  }
 ],
 "metadata": {
  "colab": {
   "name": "hw_webinar_2.ipynb",
   "provenance": []
  },
  "kernelspec": {
   "display_name": "Python 3",
   "language": "python",
   "name": "python3"
  },
  "language_info": {
   "codemirror_mode": {
    "name": "ipython",
    "version": 3
   },
   "file_extension": ".py",
   "mimetype": "text/x-python",
   "name": "python",
   "nbconvert_exporter": "python",
   "pygments_lexer": "ipython3",
   "version": "3.6.9"
  }
 },
 "nbformat": 4,
 "nbformat_minor": 1
}
