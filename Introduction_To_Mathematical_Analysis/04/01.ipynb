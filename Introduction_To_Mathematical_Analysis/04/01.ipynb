{
 "cells": [
  {
   "cell_type": "markdown",
   "metadata": {},
   "source": [
    "### Тема “Предел функции”"
   ]
  },
  {
   "cell_type": "markdown",
   "metadata": {},
   "source": [
    "###### 1) Предложить пример функции, не имеющей предела в нуле и в бесконечностях.\n",
    "\n"
   ]
  },
  {
   "cell_type": "markdown",
   "metadata": {},
   "source": [
    "$ \\frac{x^2 - 1}{x}$"
   ]
  },
  {
   "cell_type": "markdown",
   "metadata": {},
   "source": [
    "###### 2) Привести пример функции, не имеющей предела в точке, но определенной в ней."
   ]
  },
  {
   "cell_type": "markdown",
   "metadata": {},
   "source": [
    "x=y (?)"
   ]
  },
  {
   "cell_type": "markdown",
   "metadata": {},
   "source": [
    "###### 3) Исследовать функцию $f(x) = x^3 + x^2$ по плану:  \n",
    "- Область задания и область значений.$dom(f)=R$;  $ran(f)=R$   \n",
    "- Нули функции и их кратность. $x_1=0; x_2=-1$ \n",
    "- Отрезки знакопостоянства.  (?)\n",
    "- Интервалы монотонности. (?) \n",
    "- Четность функции. - \n",
    "- Ограниченность. Неограниченна \n",
    "- Периодичность. Непериодична \n"
   ]
  },
  {
   "cell_type": "markdown",
   "metadata": {},
   "source": [
    "###### 4) Найти предел:    \n",
    "$\\lim_{x\\to 0} \\frac{3x^3 - 2x^2 }{4x^2} = -0.5$\n",
    "\n",
    "\n"
   ]
  },
  {
   "cell_type": "markdown",
   "metadata": {},
   "source": [
    "$\\lim_{x\\to 0} \\frac{\\sqrt{1+x}-1}{\\sqrt[3]{1+x}-1} = 0$"
   ]
  },
  {
   "cell_type": "markdown",
   "metadata": {},
   "source": [
    "$\\lim_{x\\to\\infty} (\\frac{x+3}{x})^{4x+1} = (1 + \\frac{3}{x})^{4x+1} = 1$"
   ]
  },
  {
   "cell_type": "markdown",
   "metadata": {},
   "source": [
    "### Тема “Теоремы о пределах”"
   ]
  },
  {
   "cell_type": "markdown",
   "metadata": {},
   "source": [
    "###### 1) Найти предел:"
   ]
  },
  {
   "cell_type": "markdown",
   "metadata": {},
   "source": [
    "a) $\\lim_{x\\to 0} \\frac{sin(2x)}{4x} = 0.5$   \n",
    "b) $\\lim_{x\\to 0} \\frac{x}{sin(x)} = 1$      \n",
    "c) $\\lim_{x\\to 0} \\frac{x}{arcsin(x)} = 1$  \n",
    "d) $\\lim_{x\\to\\infty} (\\frac{4x+3}{4x-3})^{6x} = ???$  \n",
    "e) $\\lim_{x\\to\\infty} \\frac{sin(x)+ln(x)}{x} = ???$\n",
    "\n"
   ]
  },
  {
   "cell_type": "markdown",
   "metadata": {},
   "source": []
  }
 ],
 "metadata": {
  "kernelspec": {
   "display_name": "Python 3",
   "language": "python",
   "name": "python3"
  },
  "language_info": {
   "codemirror_mode": {
    "name": "ipython",
    "version": 3
   },
   "file_extension": ".py",
   "mimetype": "text/x-python",
   "name": "python",
   "nbconvert_exporter": "python",
   "pygments_lexer": "ipython3",
   "version": "3.7.3"
  }
 },
 "nbformat": 4,
 "nbformat_minor": 2
}
